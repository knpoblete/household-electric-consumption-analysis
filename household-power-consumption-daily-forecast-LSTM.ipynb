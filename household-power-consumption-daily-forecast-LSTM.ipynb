{
 "cells": [
  {
   "cell_type": "markdown",
   "id": "fcf111bc",
   "metadata": {
    "ExecuteTime": {
     "end_time": "2022-02-01T04:13:39.303555Z",
     "start_time": "2022-02-01T04:13:31.589718Z"
    }
   },
   "source": [
    "# Household Power Comsumption Analysis\n",
    "\n",
    "The data used for this analysis is from https://archive.ics.uci.edu/ml/datasets/individual+household+electric+power+consumption\n",
    "\n",
    "It contains the power consumption of one household located in France with a one-minute sampling rate over almost 4 years.\n",
    "\n",
    "The goal for this activity is to create a daily forecast of the household power consumption using a technique called LSTM, a special type of RNN that has the ability to learn long term sequences of observations. The motivation for using LSTM to forecast the daily power consumption is because of its capability to capture multiple seasonalities, in the case of the power consumption data, its yearly and weekly seasonalities.\n",
    "\n",
    "For a quick explanation, RNNs are a type neural networks where output of the previous step is fed as input to current step. However, one of its limitations is that it has short term memory and suffers from information loss. LSTM is able to remedy this through its layers and gates. I suggest reading through this post as I feel it best summarizes how LSTM works - https://colah.github.io/posts/2015-08-Understanding-LSTMs/. The example mentioned in the blog is for text prediction but it can also be reframed for time series."
   ]
  },
  {
   "cell_type": "code",
   "execution_count": 1,
   "id": "8b2e09e3",
   "metadata": {
    "ExecuteTime": {
     "end_time": "2022-03-18T06:45:06.563287Z",
     "start_time": "2022-03-18T06:45:02.529291Z"
    }
   },
   "outputs": [],
   "source": [
    "import pandas as pd\n",
    "import numpy as np\n",
    "from datetime import datetime\n",
    "import matplotlib.pyplot as plt\n",
    "import seaborn as sns    \n",
    "plt.style.use('seaborn-colorblind')\n",
    "from pylab import rcParams\n",
    "import warnings\n",
    "warnings.filterwarnings(\"ignore\")\n",
    "\n",
    "from sklearn.preprocessing import MinMaxScaler\n",
    "from sklearn.metrics import mean_squared_error, mean_absolute_error\n",
    "\n",
    "from keras.models import Sequential\n",
    "from keras.layers import Dense, LSTM, Dropout\n",
    "from keras.callbacks import EarlyStopping\n",
    "from keras.preprocessing.sequence import TimeseriesGenerator"
   ]
  },
  {
   "cell_type": "code",
   "execution_count": 2,
   "id": "0edd01b2",
   "metadata": {
    "ExecuteTime": {
     "end_time": "2022-03-18T06:45:06.594856Z",
     "start_time": "2022-03-18T06:45:06.565282Z"
    }
   },
   "outputs": [
    {
     "data": {
      "text/html": [
       "<div>\n",
       "<style scoped>\n",
       "    .dataframe tbody tr th:only-of-type {\n",
       "        vertical-align: middle;\n",
       "    }\n",
       "\n",
       "    .dataframe tbody tr th {\n",
       "        vertical-align: top;\n",
       "    }\n",
       "\n",
       "    .dataframe thead th {\n",
       "        text-align: right;\n",
       "    }\n",
       "</style>\n",
       "<table border=\"1\" class=\"dataframe\">\n",
       "  <thead>\n",
       "    <tr style=\"text-align: right;\">\n",
       "      <th></th>\n",
       "      <th>Global_active_power</th>\n",
       "    </tr>\n",
       "  </thead>\n",
       "  <tbody>\n",
       "    <tr>\n",
       "      <th>2006-12-16</th>\n",
       "      <td>1209.176</td>\n",
       "    </tr>\n",
       "    <tr>\n",
       "      <th>2006-12-17</th>\n",
       "      <td>3390.460</td>\n",
       "    </tr>\n",
       "    <tr>\n",
       "      <th>2006-12-18</th>\n",
       "      <td>2203.826</td>\n",
       "    </tr>\n",
       "    <tr>\n",
       "      <th>2006-12-19</th>\n",
       "      <td>1666.194</td>\n",
       "    </tr>\n",
       "    <tr>\n",
       "      <th>2006-12-20</th>\n",
       "      <td>2225.748</td>\n",
       "    </tr>\n",
       "  </tbody>\n",
       "</table>\n",
       "</div>"
      ],
      "text/plain": [
       "            Global_active_power\n",
       "2006-12-16             1209.176\n",
       "2006-12-17             3390.460\n",
       "2006-12-18             2203.826\n",
       "2006-12-19             1666.194\n",
       "2006-12-20             2225.748"
      ]
     },
     "execution_count": 2,
     "metadata": {},
     "output_type": "execute_result"
    }
   ],
   "source": [
    "# load data\n",
    "\n",
    "filepath = './power_consumption_daily.csv'\n",
    "\n",
    "power_consumption_daily = pd.read_csv(filepath,  header=0, low_memory=False, infer_datetime_format=True, parse_dates=['datetime'], index_col='datetime')\n",
    "power_consumption_daily.index = pd.DatetimeIndex(power_consumption_daily.index.values,\n",
    "                               freq=power_consumption_daily.index.inferred_freq)\n",
    "power_consumption_daily.head()"
   ]
  },
  {
   "cell_type": "code",
   "execution_count": 3,
   "id": "e6f5f29c",
   "metadata": {
    "ExecuteTime": {
     "end_time": "2022-03-18T06:45:06.610861Z",
     "start_time": "2022-03-18T06:45:06.597880Z"
    }
   },
   "outputs": [],
   "source": [
    "# scale data set and split into train v test\n",
    "\n",
    "power_consumption = power_consumption_daily['Global_active_power'].values\n",
    "power_consumption = power_consumption.reshape((-1,1))\n",
    "\n",
    "scaler = MinMaxScaler(feature_range=(0, 1))\n",
    "power_consumption_scaled = scaler.fit_transform(power_consumption)\n",
    "\n",
    "split_percent = 0.80\n",
    "split = int(split_percent*len(power_consumption_scaled))\n",
    "\n",
    "train = power_consumption[:split]\n",
    "test = power_consumption[split:]\n",
    "\n",
    "train_scaled = power_consumption_scaled[:split]\n",
    "test_scaled = power_consumption_scaled[split:]\n",
    "\n",
    "date_train = power_consumption_daily.index[:split]\n",
    "date_test = power_consumption_daily.index[split:]\n",
    "\n",
    "#print(len(train_scaled))\n",
    "#print(len(test_scaled))"
   ]
  },
  {
   "cell_type": "code",
   "execution_count": 4,
   "id": "50fd9c7f",
   "metadata": {
    "ExecuteTime": {
     "end_time": "2022-03-18T06:45:06.625986Z",
     "start_time": "2022-03-18T06:45:06.613865Z"
    }
   },
   "outputs": [],
   "source": [
    "# define look back (7 days)\n",
    "\n",
    "look_back = 7\n",
    "\n",
    "train_generator = TimeseriesGenerator(train_scaled, train_scaled, length=look_back, batch_size=30)     \n",
    "test_generator = TimeseriesGenerator(test_scaled, test_scaled, length=look_back, batch_size=1)"
   ]
  },
  {
   "cell_type": "code",
   "execution_count": 5,
   "id": "8682b273",
   "metadata": {
    "ExecuteTime": {
     "end_time": "2022-03-18T06:46:12.579961Z",
     "start_time": "2022-03-18T06:45:06.627860Z"
    },
    "scrolled": true
   },
   "outputs": [],
   "source": [
    "def model_lstm(look_back):\n",
    "    model = Sequential()\n",
    "    model.add(LSTM(200, activation='relu', input_shape=(look_back,1)))\n",
    "    model.add(Dense(100))\n",
    "    model.add(Dense(1))\n",
    "    model.compile(loss='mean_squared_error',  optimizer='adam',metrics = ['mse', 'mae'])\n",
    "    return model\n",
    "\n",
    "model=model_lstm(look_back)\n",
    "\n",
    "history = model.fit(train_generator, epochs=100, verbose=0, validation_data=(test_generator))"
   ]
  },
  {
   "cell_type": "code",
   "execution_count": 6,
   "id": "d63b2bae",
   "metadata": {
    "ExecuteTime": {
     "end_time": "2022-03-18T06:46:13.699233Z",
     "start_time": "2022-03-18T06:46:12.579961Z"
    }
   },
   "outputs": [],
   "source": [
    "model.evaluate_generator(test_generator)\n",
    "trainPredict = model.predict_generator(train_generator)\n",
    "testPredict = model.predict_generator(test_generator)"
   ]
  },
  {
   "cell_type": "code",
   "execution_count": 7,
   "id": "df89d22d",
   "metadata": {
    "ExecuteTime": {
     "end_time": "2022-03-18T06:46:13.715327Z",
     "start_time": "2022-03-18T06:46:13.700073Z"
    }
   },
   "outputs": [],
   "source": [
    "# invert predictions, scale values back to real consumption range.\n",
    "trainPredict = scaler.inverse_transform(trainPredict)\n",
    "testPredict = scaler.inverse_transform(testPredict)"
   ]
  },
  {
   "cell_type": "code",
   "execution_count": 8,
   "id": "4c499742",
   "metadata": {
    "ExecuteTime": {
     "end_time": "2022-03-18T06:46:13.731191Z",
     "start_time": "2022-03-18T06:46:13.718127Z"
    }
   },
   "outputs": [],
   "source": [
    "def get_y_from_generator(gen):\n",
    "    '''\n",
    "    Get all targets y from a TimeseriesGenerator instance.\n",
    "    '''\n",
    "    y = None\n",
    "    for i in range(len(gen)):\n",
    "        batch_y = gen[i][1]\n",
    "        if y is None:\n",
    "            y = batch_y\n",
    "        else:\n",
    "            y = np.append(y, batch_y)\n",
    "    y = y.reshape((-1,1))\n",
    "    print(y.shape)\n",
    "    return y"
   ]
  },
  {
   "cell_type": "code",
   "execution_count": 9,
   "id": "96b3fb83",
   "metadata": {
    "ExecuteTime": {
     "end_time": "2022-03-18T06:46:13.761662Z",
     "start_time": "2022-03-18T06:46:13.732200Z"
    }
   },
   "outputs": [
    {
     "name": "stdout",
     "output_type": "stream",
     "text": [
      "(1146, 1)\n",
      "(282, 1)\n"
     ]
    }
   ],
   "source": [
    "trainY = get_y_from_generator(train_generator)\n",
    "testY = get_y_from_generator(test_generator)"
   ]
  },
  {
   "cell_type": "code",
   "execution_count": 10,
   "id": "f2c9d365",
   "metadata": {
    "ExecuteTime": {
     "end_time": "2022-03-18T06:46:13.777683Z",
     "start_time": "2022-03-18T06:46:13.763663Z"
    }
   },
   "outputs": [],
   "source": [
    "# invert train/test, scale values back to real consumption range.\n",
    "\n",
    "trainY = scaler.inverse_transform(trainY)\n",
    "testY = scaler.inverse_transform(testY)"
   ]
  },
  {
   "cell_type": "code",
   "execution_count": 11,
   "id": "565c60ed",
   "metadata": {
    "ExecuteTime": {
     "end_time": "2022-03-18T06:46:13.952087Z",
     "start_time": "2022-03-18T06:46:13.778683Z"
    }
   },
   "outputs": [
    {
     "data": {
      "image/png": "[encoded data removed]",
      "text/plain": [
       "<Figure size 576x288 with 1 Axes>"
      ]
     },
     "metadata": {
      "needs_background": "light"
     },
     "output_type": "display_data"
    }
   ],
   "source": [
    "plt.figure(figsize=(8,4))\n",
    "plt.plot(history.history['loss'], label='Train Loss')\n",
    "plt.plot(history.history['val_loss'], label='Test Loss')\n",
    "plt.title('model loss')\n",
    "plt.ylabel('loss')\n",
    "plt.xlabel('epochs')\n",
    "plt.legend(loc='upper right')\n",
    "plt.show();"
   ]
  },
  {
   "cell_type": "code",
   "execution_count": 12,
   "id": "0028707f",
   "metadata": {
    "ExecuteTime": {
     "end_time": "2022-03-18T06:46:13.968046Z",
     "start_time": "2022-03-18T06:46:13.957047Z"
    }
   },
   "outputs": [
    {
     "name": "stdout",
     "output_type": "stream",
     "text": [
      "Train Score: 420.57 RMSE\n",
      "Train Score: 309.99 MAE\n",
      "Test Score: 359.55 RMSE\n",
      "Test Score: 253.97 MAE\n"
     ]
    }
   ],
   "source": [
    "import math\n",
    "\n",
    "# calculate root mean squared error\n",
    "trainScore = math.sqrt(mean_squared_error(trainY[:,0], trainPredict[:,0]))\n",
    "print('Train Score: %.2f RMSE' % (trainScore))\n",
    "\n",
    "trainScore = (mean_absolute_error(trainY[:,0], trainPredict[:,0]))\n",
    "print('Train Score: %.2f MAE' % (trainScore))\n",
    "testScore = math.sqrt(mean_squared_error(testY[:, 0], testPredict[:,0]))\n",
    "print('Test Score: %.2f RMSE' % (testScore))\n",
    "\n",
    "testScore = (mean_absolute_error(testY[:, 0], testPredict[:,0]))\n",
    "print('Test Score: %.2f MAE' % (testScore))"
   ]
  },
  {
   "cell_type": "code",
   "execution_count": 36,
   "id": "c6ea347d",
   "metadata": {
    "ExecuteTime": {
     "end_time": "2022-03-18T07:04:03.631848Z",
     "start_time": "2022-03-18T07:04:03.553840Z"
    }
   },
   "outputs": [
    {
     "data": {
      "application/vnd.plotly.v1+json": {
       "config": {
        "plotlyServerURL": "https://plot.ly"
       },
       "data": [
        {
         "marker": {
          "color": "rgba(214, 40, 40, 1)"
         },
         "mode": "lines",
         "name": "train data",
         "type": "scatter",
         "x": [
          "2006-12-16T00:00:00",
          "2006-12-17T00:00:00",
          "2006-12-18T00:00:00",
          "2006-12-19T00:00:00",
          "2006-12-20T00:00:00",
          "2006-12-21T00:00:00",
          "2006-12-22T00:00:00",
          "2006-12-23T00:00:00",
          "2006-12-24T00:00:00",
          "2006-12-25T00:00:00",
          "2006-12-26T00:00:00",
          "2006-12-27T00:00:00",
          "2006-12-28T00:00:00",
          "2006-12-29T00:00:00",
          "2006-12-30T00:00:00",
          "2006-12-31T00:00:00",
          "2007-01-01T00:00:00",
          "2007-01-02T00:00:00",
          "2007-01-03T00:00:00",
          "2007-01-04T00:00:00",
          "2007-01-05T00:00:00",
          "2007-01-06T00:00:00",
          "2007-01-07T00:00:00",
          "2007-01-08T00:00:00",
          "2007-01-09T00:00:00",
          "2007-01-10T00:00:00",
          "2007-01-11T00:00:00",
          "2007-01-12T00:00:00",
          "2007-01-13T00:00:00",
          "2007-01-14T00:00:00",
          "2007-01-15T00:00:00",
          "2007-01-16T00:00:00",
          "2007-01-17T00:00:00",
          "2007-01-18T00:00:00",
          "2007-01-19T00:00:00",
          "2007-01-20T00:00:00",
          "2007-01-21T00:00:00",
          "2007-01-22T00:00:00",
          "2007-01-23T00:00:00",
          "2007-01-24T00:00:00",
          "2007-01-25T00:00:00",
          "2007-01-26T00:00:00",
          "2007-01-27T00:00:00",
          "2007-01-28T00:00:00",
          "2007-01-29T00:00:00",
          "2007-01-30T00:00:00",
          "2007-01-31T00:00:00",
          "2007-02-01T00:00:00",
          "2007-02-02T00:00:00",
          "2007-02-03T00:00:00",
          "2007-02-04T00:00:00",
          "2007-02-05T00:00:00",
          "2007-02-06T00:00:00",
          "2007-02-07T00:00:00",
          "2007-02-08T00:00:00",
          "2007-02-09T00:00:00",
          "2007-02-10T00:00:00",
          "2007-02-11T00:00:00",
          "2007-02-12T00:00:00",
          "2007-02-13T00:00:00",
          "2007-02-14T00:00:00",
          "2007-02-15T00:00:00",
          "2007-02-16T00:00:00",
          "2007-02-17T00:00:00",
          "2007-02-18T00:00:00",
          "2007-02-19T00:00:00",
          "2007-02-20T00:00:00",
          "2007-02-21T00:00:00",
          "2007-02-22T00:00:00",
          "2007-02-23T00:00:00",
          "2007-02-24T00:00:00",
          "2007-02-25T00:00:00",
          "2007-02-26T00:00:00",
          "2007-02-27T00:00:00",
          "2007-02-28T00:00:00",
          "2007-03-01T00:00:00",
          "2007-03-02T00:00:00",
          "2007-03-03T00:00:00",
          "2007-03-04T00:00:00",
          "2007-03-05T00:00:00",
          "2007-03-06T00:00:00",
          "2007-03-07T00:00:00",
          "2007-03-08T00:00:00",
          "2007-03-09T00:00:00",
          "2007-03-10T00:00:00",
          "2007-03-11T00:00:00",
          "2007-03-12T00:00:00",
          "2007-03-13T00:00:00",
          "2007-03-14T00:00:00",
          "2007-03-15T00:00:00",
          "2007-03-16T00:00:00",
          "2007-03-17T00:00:00",
          "2007-03-18T00:00:00",
          "2007-03-19T00:00:00",
          "2007-03-20T00:00:00",
          "2007-03-21T00:00:00",
          "2007-03-22T00:00:00",
          "2007-03-23T00:00:00",
          "2007-03-24T00:00:00",
          "2007-03-25T00:00:00",
          "2007-03-26T00:00:00",
          "2007-03-27T00:00:00",
          "2007-03-28T00:00:00",
          "2007-03-29T00:00:00",
          "2007-03-30T00:00:00",
          "2007-03-31T00:00:00",
          "2007-04-01T00:00:00",
          "2007-04-02T00:00:00",
          "2007-04-03T00:00:00",
          "2007-04-04T00:00:00",
          "2007-04-05T00:00:00",
          "2007-04-06T00:00:00",
          "2007-04-07T00:00:00",
          "2007-04-08T00:00:00",
          "2007-04-09T00:00:00",
          "2007-04-10T00:00:00",
          "2007-04-11T00:00:00",
          "2007-04-12T00:00:00",
          "2007-04-13T00:00:00",
          "2007-04-14T00:00:00",
          "2007-04-15T00:00:00",
          "2007-04-16T00:00:00",
          "2007-04-17T00:00:00",
          "2007-04-18T00:00:00",
          "2007-04-19T00:00:00",
          "2007-04-20T00:00:00",
          "2007-04-21T00:00:00",
          "2007-04-22T00:00:00",
          "2007-04-23T00:00:00",
          "2007-04-24T00:00:00",
          "2007-04-25T00:00:00",
          "2007-04-26T00:00:00",
          "2007-04-27T00:00:00",
          "2007-04-28T00:00:00",
          "2007-04-29T00:00:00",
          "2007-04-30T00:00:00",
          "2007-05-01T00:00:00",
          "2007-05-02T00:00:00",
          "2007-05-03T00:00:00",
          "2007-05-04T00:00:00",
          "2007-05-05T00:00:00",
          "2007-05-06T00:00:00",
          "2007-05-07T00:00:00",
          "2007-05-08T00:00:00",
          "2007-05-09T00:00:00",
          "2007-05-10T00:00:00",
          "2007-05-11T00:00:00",
          "2007-05-12T00:00:00",
          "2007-05-13T00:00:00",
          "2007-05-14T00:00:00",
          "2007-05-15T00:00:00",
          "2007-05-16T00:00:00",
          "2007-05-17T00:00:00",
          "2007-05-18T00:00:00",
          "2007-05-19T00:00:00",
          "2007-05-20T00:00:00",
          "2007-05-21T00:00:00",
          "2007-05-22T00:00:00",
          "2007-05-23T00:00:00",
          "2007-05-24T00:00:00",
          "2007-05-25T00:00:00",
          "2007-05-26T00:00:00",
          "2007-05-27T00:00:00",
          "2007-05-28T00:00:00",
          "2007-05-29T00:00:00",
          "2007-05-30T00:00:00",
          "2007-05-31T00:00:00",
          "2007-06-01T00:00:00",
          "2007-06-02T00:00:00",
          "2007-06-03T00:00:00",
          "2007-06-04T00:00:00",
          "2007-06-05T00:00:00",
          "2007-06-06T00:00:00",
          "2007-06-07T00:00:00",
          "2007-06-08T00:00:00",
          "2007-06-09T00:00:00",
          "2007-06-10T00:00:00",
          "2007-06-11T00:00:00",
          "2007-06-12T00:00:00",
          "2007-06-13T00:00:00",
          "2007-06-14T00:00:00",
          "2007-06-15T00:00:00",
          "2007-06-16T00:00:00",
          "2007-06-17T00:00:00",
          "2007-06-18T00:00:00",
          "2007-06-19T00:00:00",
          "2007-06-20T00:00:00",
          "2007-06-21T00:00:00",
          "2007-06-22T00:00:00",
          "2007-06-23T00:00:00",
          "2007-06-24T00:00:00",
          "2007-06-25T00:00:00",
          "2007-06-26T00:00:00",
          "2007-06-27T00:00:00",
          "2007-06-28T00:00:00",
          "2007-06-29T00:00:00",
          "2007-06-30T00:00:00",
          "2007-07-01T00:00:00",
          "2007-07-02T00:00:00",
          "2007-07-03T00:00:00",
          "2007-07-04T00:00:00",
          "2007-07-05T00:00:00",
          "2007-07-06T00:00:00",
          "2007-07-07T00:00:00",
          "2007-07-08T00:00:00",
          "2007-07-09T00:00:00",
          "2007-07-10T00:00:00",
          "2007-07-11T00:00:00",
          "2007-07-12T00:00:00",
          "2007-07-13T00:00:00",
          "2007-07-14T00:00:00",
          "2007-07-15T00:00:00",
          "2007-07-16T00:00:00",
          "2007-07-17T00:00:00",
          "2007-07-18T00:00:00",
          "2007-07-19T00:00:00",
          "2007-07-20T00:00:00",
          "2007-07-21T00:00:00",
          "2007-07-22T00:00:00",
          "2007-07-23T00:00:00",
          "2007-07-24T00:00:00",
          "2007-07-25T00:00:00",
          "2007-07-26T00:00:00",
          "2007-07-27T00:00:00",
          "2007-07-28T00:00:00",
          "2007-07-29T00:00:00",
          "2007-07-30T00:00:00",
          "2007-07-31T00:00:00",
          "2007-08-01T00:00:00",
          "2007-08-02T00:00:00",
          "2007-08-03T00:00:00",
          "2007-08-04T00:00:00",
          "2007-08-05T00:00:00",
          "2007-08-06T00:00:00",
          "2007-08-07T00:00:00",
          "2007-08-08T00:00:00",
          "2007-08-09T00:00:00",
          "2007-08-10T00:00:00",
          "2007-08-11T00:00:00",
          "2007-08-12T00:00:00",
          "2007-08-13T00:00:00",
          "2007-08-14T00:00:00",
          "2007-08-15T00:00:00",
          "2007-08-16T00:00:00",
          "2007-08-17T00:00:00",
          "2007-08-18T00:00:00",
          "2007-08-19T00:00:00",
          "2007-08-20T00:00:00",
          "2007-08-21T00:00:00",
          "2007-08-22T00:00:00",
          "2007-08-23T00:00:00",
          "2007-08-24T00:00:00",
          "2007-08-25T00:00:00",
          "2007-08-26T00:00:00",
          "2007-08-27T00:00:00",
          "2007-08-28T00:00:00",
          "2007-08-29T00:00:00",
          "2007-08-30T00:00:00",
          "2007-08-31T00:00:00",
          "2007-09-01T00:00:00",
          "2007-09-02T00:00:00",
          "2007-09-03T00:00:00",
          "2007-09-04T00:00:00",
          "2007-09-05T00:00:00",
          "2007-09-06T00:00:00",
          "2007-09-07T00:00:00",
          "2007-09-08T00:00:00",
          "2007-09-09T00:00:00",
          "2007-09-10T00:00:00",
          "2007-09-11T00:00:00",
          "2007-09-12T00:00:00",
          "2007-09-13T00:00:00",
          "2007-09-14T00:00:00",
          "2007-09-15T00:00:00",
          "2007-09-16T00:00:00",
          "2007-09-17T00:00:00",
          "2007-09-18T00:00:00",
          "2007-09-19T00:00:00",
          "2007-09-20T00:00:00",
          "2007-09-21T00:00:00",
          "2007-09-22T00:00:00",
          "2007-09-23T00:00:00",
          "2007-09-24T00:00:00",
          "2007-09-25T00:00:00",
          "2007-09-26T00:00:00",
          "2007-09-27T00:00:00",
          "2007-09-28T00:00:00",
          "2007-09-29T00:00:00",
          "2007-09-30T00:00:00",
          "2007-10-01T00:00:00",
          "2007-10-02T00:00:00",
          "2007-10-03T00:00:00",
          "2007-10-04T00:00:00",
          "2007-10-05T00:00:00",
          "2007-10-06T00:00:00",
          "2007-10-07T00:00:00",
          "2007-10-08T00:00:00",
          "2007-10-09T00:00:00",
          "2007-10-10T00:00:00",
          "2007-10-11T00:00:00",
          "2007-10-12T00:00:00",
          "2007-10-13T00:00:00",
          "2007-10-14T00:00:00",
          "2007-10-15T00:00:00",
          "2007-10-16T00:00:00",
          "2007-10-17T00:00:00",
          "2007-10-18T00:00:00",
          "2007-10-19T00:00:00",
          "2007-10-20T00:00:00",
          "2007-10-21T00:00:00",
          "2007-10-22T00:00:00",
          "2007-10-23T00:00:00",
          "2007-10-24T00:00:00",
          "2007-10-25T00:00:00",
          "2007-10-26T00:00:00",
          "2007-10-27T00:00:00",
          "2007-10-28T00:00:00",
          "2007-10-29T00:00:00",
          "2007-10-30T00:00:00",
          "2007-10-31T00:00:00",
          "2007-11-01T00:00:00",
          "2007-11-02T00:00:00",
          "2007-11-03T00:00:00",
          "2007-11-04T00:00:00",
          "2007-11-05T00:00:00",
          "2007-11-06T00:00:00",
          "2007-11-07T00:00:00",
          "2007-11-08T00:00:00",
          "2007-11-09T00:00:00",
          "2007-11-10T00:00:00",
          "2007-11-11T00:00:00",
          "2007-11-12T00:00:00",
          "2007-11-13T00:00:00",
          "2007-11-14T00:00:00",
          "2007-11-15T00:00:00",
          "2007-11-16T00:00:00",
          "2007-11-17T00:00:00",
          "2007-11-18T00:00:00",
          "2007-11-19T00:00:00",
          "2007-11-20T00:00:00",
          "2007-11-21T00:00:00",
          "2007-11-22T00:00:00",
          "2007-11-23T00:00:00",
          "2007-11-24T00:00:00",
          "2007-11-25T00:00:00",
          "2007-11-26T00:00:00",
          "2007-11-27T00:00:00",
          "2007-11-28T00:00:00",
          "2007-11-29T00:00:00",
          "2007-11-30T00:00:00",
          "2007-12-01T00:00:00",
          "2007-12-02T00:00:00",
          "2007-12-03T00:00:00",
          "2007-12-04T00:00:00",
          "2007-12-05T00:00:00",
          "2007-12-06T00:00:00",
          "2007-12-07T00:00:00",
          "2007-12-08T00:00:00",
          "2007-12-09T00:00:00",
          "2007-12-10T00:00:00",
          "2007-12-11T00:00:00",
          "2007-12-12T00:00:00",
          "2007-12-13T00:00:00",
          "2007-12-14T00:00:00",
          "2007-12-15T00:00:00",
          "2007-12-16T00:00:00",
          "2007-12-17T00:00:00",
          "2007-12-18T00:00:00",
          "2007-12-19T00:00:00",
          "2007-12-20T00:00:00",
          "2007-12-21T00:00:00",
          "2007-12-22T00:00:00",
          "2007-12-23T00:00:00",
          "2007-12-24T00:00:00",
          "2007-12-25T00:00:00",
          "2007-12-26T00:00:00",
          "2007-12-27T00:00:00",
          "2007-12-28T00:00:00",
          "2007-12-29T00:00:00",
          "2007-12-30T00:00:00",
          "2007-12-31T00:00:00",
          "2008-01-01T00:00:00",
          "2008-01-02T00:00:00",
          "2008-01-03T00:00:00",
          "2008-01-04T00:00:00",
          "2008-01-05T00:00:00",
          "2008-01-06T00:00:00",
          "2008-01-07T00:00:00",
          "2008-01-08T00:00:00",
          "2008-01-09T00:00:00",
          "2008-01-10T00:00:00",
          "2008-01-11T00:00:00",
          "2008-01-12T00:00:00",
          "2008-01-13T00:00:00",
          "2008-01-14T00:00:00",
          "2008-01-15T00:00:00",
          "2008-01-16T00:00:00",
          "2008-01-17T00:00:00",
          "2008-01-18T00:00:00",
          "2008-01-19T00:00:00",
          "2008-01-20T00:00:00",
          "2008-01-21T00:00:00",
          "2008-01-22T00:00:00",
          "2008-01-23T00:00:00",
          "2008-01-24T00:00:00",
          "2008-01-25T00:00:00",
          "2008-01-26T00:00:00",
          "2008-01-27T00:00:00",
          "2008-01-28T00:00:00",
          "2008-01-29T00:00:00",
          "2008-01-30T00:00:00",
          "2008-01-31T00:00:00",
          "2008-02-01T00:00:00",
          "2008-02-02T00:00:00",
          "2008-02-03T00:00:00",
          "2008-02-04T00:00:00",
          "2008-02-05T00:00:00",
          "2008-02-06T00:00:00",
          "2008-02-07T00:00:00",
          "2008-02-08T00:00:00",
          "2008-02-09T00:00:00",
          "2008-02-10T00:00:00",
          "2008-02-11T00:00:00",
          "2008-02-12T00:00:00",
          "2008-02-13T00:00:00",
          "2008-02-14T00:00:00",
          "2008-02-15T00:00:00",
          "2008-02-16T00:00:00",
          "2008-02-17T00:00:00",
          "2008-02-18T00:00:00",
          "2008-02-19T00:00:00",
          "2008-02-20T00:00:00",
          "2008-02-21T00:00:00",
          "2008-02-22T00:00:00",
          "2008-02-23T00:00:00",
          "2008-02-24T00:00:00",
          "2008-02-25T00:00:00",
          "2008-02-26T00:00:00",
          "2008-02-27T00:00:00",
          "2008-02-28T00:00:00",
          "2008-02-29T00:00:00",
          "2008-03-01T00:00:00",
          "2008-03-02T00:00:00",
          "2008-03-03T00:00:00",
          "2008-03-04T00:00:00",
          "2008-03-05T00:00:00",
          "2008-03-06T00:00:00",
          "2008-03-07T00:00:00",
          "2008-03-08T00:00:00",
          "2008-03-09T00:00:00",
          "2008-03-10T00:00:00",
          "2008-03-11T00:00:00",
          "2008-03-12T00:00:00",
          "2008-03-13T00:00:00",
          "2008-03-14T00:00:00",
          "2008-03-15T00:00:00",
          "2008-03-16T00:00:00",
          "2008-03-17T00:00:00",
          "2008-03-18T00:00:00",
          "2008-03-19T00:00:00",
          "2008-03-20T00:00:00",
          "2008-03-21T00:00:00",
          "2008-03-22T00:00:00",
          "2008-03-23T00:00:00",
          "2008-03-24T00:00:00",
          "2008-03-25T00:00:00",
          "2008-03-26T00:00:00",
          "2008-03-27T00:00:00",
          "2008-03-28T00:00:00",
          "2008-03-29T00:00:00",
          "2008-03-30T00:00:00",
          "2008-03-31T00:00:00",
          "2008-04-01T00:00:00",
          "2008-04-02T00:00:00",
          "2008-04-03T00:00:00",
          "2008-04-04T00:00:00",
          "2008-04-05T00:00:00",
          "2008-04-06T00:00:00",
          "2008-04-07T00:00:00",
          "2008-04-08T00:00:00",
          "2008-04-09T00:00:00",
          "2008-04-10T00:00:00",
          "2008-04-11T00:00:00",
          "2008-04-12T00:00:00",
          "2008-04-13T00:00:00",
          "2008-04-14T00:00:00",
          "2008-04-15T00:00:00",
          "2008-04-16T00:00:00",
          "2008-04-17T00:00:00",
          "2008-04-18T00:00:00",
          "2008-04-19T00:00:00",
          "2008-04-20T00:00:00",
          "2008-04-21T00:00:00",
          "2008-04-22T00:00:00",
          "2008-04-23T00:00:00",
          "2008-04-24T00:00:00",
          "2008-04-25T00:00:00",
          "2008-04-26T00:00:00",
          "2008-04-27T00:00:00",
          "2008-04-28T00:00:00",
          "2008-04-29T00:00:00",
          "2008-04-30T00:00:00",
          "2008-05-01T00:00:00",
          "2008-05-02T00:00:00",
          "2008-05-03T00:00:00",
          "2008-05-04T00:00:00",
          "2008-05-05T00:00:00",
          "2008-05-06T00:00:00",
          "2008-05-07T00:00:00",
          "2008-05-08T00:00:00",
          "2008-05-09T00:00:00",
          "2008-05-10T00:00:00",
          "2008-05-11T00:00:00",
          "2008-05-12T00:00:00",
          "2008-05-13T00:00:00",
          "2008-05-14T00:00:00",
          "2008-05-15T00:00:00",
          "2008-05-16T00:00:00",
          "2008-05-17T00:00:00",
          "2008-05-18T00:00:00",
          "2008-05-19T00:00:00",
          "2008-05-20T00:00:00",
          "2008-05-21T00:00:00",
          "2008-05-22T00:00:00",
          "2008-05-23T00:00:00",
          "2008-05-24T00:00:00",
          "2008-05-25T00:00:00",
          "2008-05-26T00:00:00",
          "2008-05-27T00:00:00",
          "2008-05-28T00:00:00",
          "2008-05-29T00:00:00",
          "2008-05-30T00:00:00",
          "2008-05-31T00:00:00",
          "2008-06-01T00:00:00",
          "2008-06-02T00:00:00",
          "2008-06-03T00:00:00",
          "2008-06-04T00:00:00",
          "2008-06-05T00:00:00",
          "2008-06-06T00:00:00",
          "2008-06-07T00:00:00",
          "2008-06-08T00:00:00",
          "2008-06-09T00:00:00",
          "2008-06-10T00:00:00",
          "2008-06-11T00:00:00",
          "2008-06-12T00:00:00",
          "2008-06-13T00:00:00",
          "2008-06-14T00:00:00",
          "2008-06-15T00:00:00",
          "2008-06-16T00:00:00",
          "2008-06-17T00:00:00",
          "2008-06-18T00:00:00",
          "2008-06-19T00:00:00",
          "2008-06-20T00:00:00",
          "2008-06-21T00:00:00",
          "2008-06-22T00:00:00",
          "2008-06-23T00:00:00",
          "2008-06-24T00:00:00",
          "2008-06-25T00:00:00",
          "2008-06-26T00:00:00",
          "2008-06-27T00:00:00",
          "2008-06-28T00:00:00",
          "2008-06-29T00:00:00",
          "2008-06-30T00:00:00",
          "2008-07-01T00:00:00",
          "2008-07-02T00:00:00",
          "2008-07-03T00:00:00",
          "2008-07-04T00:00:00",
          "2008-07-05T00:00:00",
          "2008-07-06T00:00:00",
          "2008-07-07T00:00:00",
          "2008-07-08T00:00:00",
          "2008-07-09T00:00:00",
          "2008-07-10T00:00:00",
          "2008-07-11T00:00:00",
          "2008-07-12T00:00:00",
          "2008-07-13T00:00:00",
          "2008-07-14T00:00:00",
          "2008-07-15T00:00:00",
          "2008-07-16T00:00:00",
          "2008-07-17T00:00:00",
          "2008-07-18T00:00:00",
          "2008-07-19T00:00:00",
          "2008-07-20T00:00:00",
          "2008-07-21T00:00:00",
          "2008-07-22T00:00:00",
          "2008-07-23T00:00:00",
          "2008-07-24T00:00:00",
          "2008-07-25T00:00:00",
          "2008-07-26T00:00:00",
          "2008-07-27T00:00:00",
          "2008-07-28T00:00:00",
          "2008-07-29T00:00:00",
          "2008-07-30T00:00:00",
          "2008-07-31T00:00:00",
          "2008-08-01T00:00:00",
          "2008-08-02T00:00:00",
          "2008-08-03T00:00:00",
          "2008-08-04T00:00:00",
          "2008-08-05T00:00:00",
          "2008-08-06T00:00:00",
          "2008-08-07T00:00:00",
          "2008-08-08T00:00:00",
          "2008-08-09T00:00:00",
          "2008-08-10T00:00:00",
          "2008-08-11T00:00:00",
          "2008-08-12T00:00:00",
          "2008-08-13T00:00:00",
          "2008-08-14T00:00:00",
          "2008-08-15T00:00:00",
          "2008-08-16T00:00:00",
          "2008-08-17T00:00:00",
          "2008-08-18T00:00:00",
          "2008-08-19T00:00:00",
          "2008-08-20T00:00:00",
          "2008-08-21T00:00:00",
          "2008-08-22T00:00:00",
          "2008-08-23T00:00:00",
          "2008-08-24T00:00:00",
          "2008-08-25T00:00:00",
          "2008-08-26T00:00:00",
          "2008-08-27T00:00:00",
          "2008-08-28T00:00:00",
          "2008-08-29T00:00:00",
          "2008-08-30T00:00:00",
          "2008-08-31T00:00:00",
          "2008-09-01T00:00:00",
          "2008-09-02T00:00:00",
          "2008-09-03T00:00:00",
          "2008-09-04T00:00:00",
          "2008-09-05T00:00:00",
          "2008-09-06T00:00:00",
          "2008-09-07T00:00:00",
          "2008-09-08T00:00:00",
          "2008-09-09T00:00:00",
          "2008-09-10T00:00:00",
          "2008-09-11T00:00:00",
          "2008-09-12T00:00:00",
          "2008-09-13T00:00:00",
          "2008-09-14T00:00:00",
          "2008-09-15T00:00:00",
          "2008-09-16T00:00:00",
          "2008-09-17T00:00:00",
          "2008-09-18T00:00:00",
          "2008-09-19T00:00:00",
          "2008-09-20T00:00:00",
          "2008-09-21T00:00:00",
          "2008-09-22T00:00:00",
          "2008-09-23T00:00:00",
          "2008-09-24T00:00:00",
          "2008-09-25T00:00:00",
          "2008-09-26T00:00:00",
          "2008-09-27T00:00:00",
          "2008-09-28T00:00:00",
          "2008-09-29T00:00:00",
          "2008-09-30T00:00:00",
          "2008-10-01T00:00:00",
          "2008-10-02T00:00:00",
          "2008-10-03T00:00:00",
          "2008-10-04T00:00:00",
          "2008-10-05T00:00:00",
          "2008-10-06T00:00:00",
          "2008-10-07T00:00:00",
          "2008-10-08T00:00:00",
          "2008-10-09T00:00:00",
          "2008-10-10T00:00:00",
          "2008-10-11T00:00:00",
          "2008-10-12T00:00:00",
          "2008-10-13T00:00:00",
          "2008-10-14T00:00:00",
          "2008-10-15T00:00:00",
          "2008-10-16T00:00:00",
          "2008-10-17T00:00:00",
          "2008-10-18T00:00:00",
          "2008-10-19T00:00:00",
          "2008-10-20T00:00:00",
          "2008-10-21T00:00:00",
          "2008-10-22T00:00:00",
          "2008-10-23T00:00:00",
          "2008-10-24T00:00:00",
          "2008-10-25T00:00:00",
          "2008-10-26T00:00:00",
          "2008-10-27T00:00:00",
          "2008-10-28T00:00:00",
          "2008-10-29T00:00:00",
          "2008-10-30T00:00:00",
          "2008-10-31T00:00:00",
          "2008-11-01T00:00:00",
          "2008-11-02T00:00:00",
          "2008-11-03T00:00:00",
          "2008-11-04T00:00:00",
          "2008-11-05T00:00:00",
          "2008-11-06T00:00:00",
          "2008-11-07T00:00:00",
          "2008-11-08T00:00:00",
          "2008-11-09T00:00:00",
          "2008-11-10T00:00:00",
          "2008-11-11T00:00:00",
          "2008-11-12T00:00:00",
          "2008-11-13T00:00:00",
          "2008-11-14T00:00:00",
          "2008-11-15T00:00:00",
          "2008-11-16T00:00:00",
          "2008-11-17T00:00:00",
          "2008-11-18T00:00:00",
          "2008-11-19T00:00:00",
          "2008-11-20T00:00:00",
          "2008-11-21T00:00:00",
          "2008-11-22T00:00:00",
          "2008-11-23T00:00:00",
          "2008-11-24T00:00:00",
          "2008-11-25T00:00:00",
          "2008-11-26T00:00:00",
          "2008-11-27T00:00:00",
          "2008-11-28T00:00:00",
          "2008-11-29T00:00:00",
          "2008-11-30T00:00:00",
          "2008-12-01T00:00:00",
          "2008-12-02T00:00:00",
          "2008-12-03T00:00:00",
          "2008-12-04T00:00:00",
          "2008-12-05T00:00:00",
          "2008-12-06T00:00:00",
          "2008-12-07T00:00:00",
          "2008-12-08T00:00:00",
          "2008-12-09T00:00:00",
          "2008-12-10T00:00:00",
          "2008-12-11T00:00:00",
          "2008-12-12T00:00:00",
          "2008-12-13T00:00:00",
          "2008-12-14T00:00:00",
          "2008-12-15T00:00:00",
          "2008-12-16T00:00:00",
          "2008-12-17T00:00:00",
          "2008-12-18T00:00:00",
          "2008-12-19T00:00:00",
          "2008-12-20T00:00:00",
          "2008-12-21T00:00:00",
          "2008-12-22T00:00:00",
          "2008-12-23T00:00:00",
          "2008-12-24T00:00:00",
          "2008-12-25T00:00:00",
          "2008-12-26T00:00:00",
          "2008-12-27T00:00:00",
          "2008-12-28T00:00:00",
          "2008-12-29T00:00:00",
          "2008-12-30T00:00:00",
          "2008-12-31T00:00:00",
          "2009-01-01T00:00:00",
          "2009-01-02T00:00:00",
          "2009-01-03T00:00:00",
          "2009-01-04T00:00:00",
          "2009-01-05T00:00:00",
          "2009-01-06T00:00:00",
          "2009-01-07T00:00:00",
          "2009-01-08T00:00:00",
          "2009-01-09T00:00:00",
          "2009-01-10T00:00:00",
          "2009-01-11T00:00:00",
          "2009-01-12T00:00:00",
          "2009-01-13T00:00:00",
          "2009-01-14T00:00:00",
          "2009-01-15T00:00:00",
          "2009-01-16T00:00:00",
          "2009-01-17T00:00:00",
          "2009-01-18T00:00:00",
          "2009-01-19T00:00:00",
          "2009-01-20T00:00:00",
          "2009-01-21T00:00:00",
          "2009-01-22T00:00:00",
          "2009-01-23T00:00:00",
          "2009-01-24T00:00:00",
          "2009-01-25T00:00:00",
          "2009-01-26T00:00:00",
          "2009-01-27T00:00:00",
          "2009-01-28T00:00:00",
          "2009-01-29T00:00:00",
          "2009-01-30T00:00:00",
          "2009-01-31T00:00:00",
          "2009-02-01T00:00:00",
          "2009-02-02T00:00:00",
          "2009-02-03T00:00:00",
          "2009-02-04T00:00:00",
          "2009-02-05T00:00:00",
          "2009-02-06T00:00:00",
          "2009-02-07T00:00:00",
          "2009-02-08T00:00:00",
          "2009-02-09T00:00:00",
          "2009-02-10T00:00:00",
          "2009-02-11T00:00:00",
          "2009-02-12T00:00:00",
          "2009-02-13T00:00:00",
          "2009-02-14T00:00:00",
          "2009-02-15T00:00:00",
          "2009-02-16T00:00:00",
          "2009-02-17T00:00:00",
          "2009-02-18T00:00:00",
          "2009-02-19T00:00:00",
          "2009-02-20T00:00:00",
          "2009-02-21T00:00:00",
          "2009-02-22T00:00:00",
          "2009-02-23T00:00:00",
          "2009-02-24T00:00:00",
          "2009-02-25T00:00:00",
          "2009-02-26T00:00:00",
          "2009-02-27T00:00:00",
          "2009-02-28T00:00:00",
          "2009-03-01T00:00:00",
          "2009-03-02T00:00:00",
          "2009-03-03T00:00:00",
          "2009-03-04T00:00:00",
          "2009-03-05T00:00:00",
          "2009-03-06T00:00:00",
          "2009-03-07T00:00:00",
          "2009-03-08T00:00:00",
          "2009-03-09T00:00:00",
          "2009-03-10T00:00:00",
          "2009-03-11T00:00:00",
          "2009-03-12T00:00:00",
          "2009-03-13T00:00:00",
          "2009-03-14T00:00:00",
          "2009-03-15T00:00:00",
          "2009-03-16T00:00:00",
          "2009-03-17T00:00:00",
          "2009-03-18T00:00:00",
          "2009-03-19T00:00:00",
          "2009-03-20T00:00:00",
          "2009-03-21T00:00:00",
          "2009-03-22T00:00:00",
          "2009-03-23T00:00:00",
          "2009-03-24T00:00:00",
          "2009-03-25T00:00:00",
          "2009-03-26T00:00:00",
          "2009-03-27T00:00:00",
          "2009-03-28T00:00:00",
          "2009-03-29T00:00:00",
          "2009-03-30T00:00:00",
          "2009-03-31T00:00:00",
          "2009-04-01T00:00:00",
          "2009-04-02T00:00:00",
          "2009-04-03T00:00:00",
          "2009-04-04T00:00:00",
          "2009-04-05T00:00:00",
          "2009-04-06T00:00:00",
          "2009-04-07T00:00:00",
          "2009-04-08T00:00:00",
          "2009-04-09T00:00:00",
          "2009-04-10T00:00:00",
          "2009-04-11T00:00:00",
          "2009-04-12T00:00:00",
          "2009-04-13T00:00:00",
          "2009-04-14T00:00:00",
          "2009-04-15T00:00:00",
          "2009-04-16T00:00:00",
          "2009-04-17T00:00:00",
          "2009-04-18T00:00:00",
          "2009-04-19T00:00:00",
          "2009-04-20T00:00:00",
          "2009-04-21T00:00:00",
          "2009-04-22T00:00:00",
          "2009-04-23T00:00:00",
          "2009-04-24T00:00:00",
          "2009-04-25T00:00:00",
          "2009-04-26T00:00:00",
          "2009-04-27T00:00:00",
          "2009-04-28T00:00:00",
          "2009-04-29T00:00:00",
          "2009-04-30T00:00:00",
          "2009-05-01T00:00:00",
          "2009-05-02T00:00:00",
          "2009-05-03T00:00:00",
          "2009-05-04T00:00:00",
          "2009-05-05T00:00:00",
          "2009-05-06T00:00:00",
          "2009-05-07T00:00:00",
          "2009-05-08T00:00:00",
          "2009-05-09T00:00:00",
          "2009-05-10T00:00:00",
          "2009-05-11T00:00:00",
          "2009-05-12T00:00:00",
          "2009-05-13T00:00:00",
          "2009-05-14T00:00:00",
          "2009-05-15T00:00:00",
          "2009-05-16T00:00:00",
          "2009-05-17T00:00:00",
          "2009-05-18T00:00:00",
          "2009-05-19T00:00:00",
          "2009-05-20T00:00:00",
          "2009-05-21T00:00:00",
          "2009-05-22T00:00:00",
          "2009-05-23T00:00:00",
          "2009-05-24T00:00:00",
          "2009-05-25T00:00:00",
          "2009-05-26T00:00:00",
          "2009-05-27T00:00:00",
          "2009-05-28T00:00:00",
          "2009-05-29T00:00:00",
          "2009-05-30T00:00:00",
          "2009-05-31T00:00:00",
          "2009-06-01T00:00:00",
          "2009-06-02T00:00:00",
          "2009-06-03T00:00:00",
          "2009-06-04T00:00:00",
          "2009-06-05T00:00:00",
          "2009-06-06T00:00:00",
          "2009-06-07T00:00:00",
          "2009-06-08T00:00:00",
          "2009-06-09T00:00:00",
          "2009-06-10T00:00:00",
          "2009-06-11T00:00:00",
          "2009-06-12T00:00:00",
          "2009-06-13T00:00:00",
          "2009-06-14T00:00:00",
          "2009-06-15T00:00:00",
          "2009-06-16T00:00:00",
          "2009-06-17T00:00:00",
          "2009-06-18T00:00:00",
          "2009-06-19T00:00:00",
          "2009-06-20T00:00:00",
          "2009-06-21T00:00:00",
          "2009-06-22T00:00:00",
          "2009-06-23T00:00:00",
          "2009-06-24T00:00:00",
          "2009-06-25T00:00:00",
          "2009-06-26T00:00:00",
          "2009-06-27T00:00:00",
          "2009-06-28T00:00:00",
          "2009-06-29T00:00:00",
          "2009-06-30T00:00:00",
          "2009-07-01T00:00:00",
          "2009-07-02T00:00:00",
          "2009-07-03T00:00:00",
          "2009-07-04T00:00:00",
          "2009-07-05T00:00:00",
          "2009-07-06T00:00:00",
          "2009-07-07T00:00:00",
          "2009-07-08T00:00:00",
          "2009-07-09T00:00:00",
          "2009-07-10T00:00:00",
          "2009-07-11T00:00:00",
          "2009-07-12T00:00:00",
          "2009-07-13T00:00:00",
          "2009-07-14T00:00:00",
          "2009-07-15T00:00:00",
          "2009-07-16T00:00:00",
          "2009-07-17T00:00:00",
          "2009-07-18T00:00:00",
          "2009-07-19T00:00:00",
          "2009-07-20T00:00:00",
          "2009-07-21T00:00:00",
          "2009-07-22T00:00:00",
          "2009-07-23T00:00:00",
          "2009-07-24T00:00:00",
          "2009-07-25T00:00:00",
          "2009-07-26T00:00:00",
          "2009-07-27T00:00:00",
          "2009-07-28T00:00:00",
          "2009-07-29T00:00:00",
          "2009-07-30T00:00:00",
          "2009-07-31T00:00:00",
          "2009-08-01T00:00:00",
          "2009-08-02T00:00:00",
          "2009-08-03T00:00:00",
          "2009-08-04T00:00:00",
          "2009-08-05T00:00:00",
          "2009-08-06T00:00:00",
          "2009-08-07T00:00:00",
          "2009-08-08T00:00:00",
          "2009-08-09T00:00:00",
          "2009-08-10T00:00:00",
          "2009-08-11T00:00:00",
          "2009-08-12T00:00:00",
          "2009-08-13T00:00:00",
          "2009-08-14T00:00:00",
          "2009-08-15T00:00:00",
          "2009-08-16T00:00:00",
          "2009-08-17T00:00:00",
          "2009-08-18T00:00:00",
          "2009-08-19T00:00:00",
          "2009-08-20T00:00:00",
          "2009-08-21T00:00:00",
          "2009-08-22T00:00:00",
          "2009-08-23T00:00:00",
          "2009-08-24T00:00:00",
          "2009-08-25T00:00:00",
          "2009-08-26T00:00:00",
          "2009-08-27T00:00:00",
          "2009-08-28T00:00:00",
          "2009-08-29T00:00:00",
          "2009-08-30T00:00:00",
          "2009-08-31T00:00:00",
          "2009-09-01T00:00:00",
          "2009-09-02T00:00:00",
          "2009-09-03T00:00:00",
          "2009-09-04T00:00:00",
          "2009-09-05T00:00:00",
          "2009-09-06T00:00:00",
          "2009-09-07T00:00:00",
          "2009-09-08T00:00:00",
          "2009-09-09T00:00:00",
          "2009-09-10T00:00:00",
          "2009-09-11T00:00:00",
          "2009-09-12T00:00:00",
          "2009-09-13T00:00:00",
          "2009-09-14T00:00:00",
          "2009-09-15T00:00:00",
          "2009-09-16T00:00:00",
          "2009-09-17T00:00:00",
          "2009-09-18T00:00:00",
          "2009-09-19T00:00:00",
          "2009-09-20T00:00:00",
          "2009-09-21T00:00:00",
          "2009-09-22T00:00:00",
          "2009-09-23T00:00:00",
          "2009-09-24T00:00:00",
          "2009-09-25T00:00:00",
          "2009-09-26T00:00:00",
          "2009-09-27T00:00:00",
          "2009-09-28T00:00:00",
          "2009-09-29T00:00:00",
          "2009-09-30T00:00:00",
          "2009-10-01T00:00:00",
          "2009-10-02T00:00:00",
          "2009-10-03T00:00:00",
          "2009-10-04T00:00:00",
          "2009-10-05T00:00:00",
          "2009-10-06T00:00:00",
          "2009-10-07T00:00:00",
          "2009-10-08T00:00:00",
          "2009-10-09T00:00:00",
          "2009-10-10T00:00:00",
          "2009-10-11T00:00:00",
          "2009-10-12T00:00:00",
          "2009-10-13T00:00:00",
          "2009-10-14T00:00:00",
          "2009-10-15T00:00:00",
          "2009-10-16T00:00:00",
          "2009-10-17T00:00:00",
          "2009-10-18T00:00:00",
          "2009-10-19T00:00:00",
          "2009-10-20T00:00:00",
          "2009-10-21T00:00:00",
          "2009-10-22T00:00:00",
          "2009-10-23T00:00:00",
          "2009-10-24T00:00:00",
          "2009-10-25T00:00:00",
          "2009-10-26T00:00:00",
          "2009-10-27T00:00:00",
          "2009-10-28T00:00:00",
          "2009-10-29T00:00:00",
          "2009-10-30T00:00:00",
          "2009-10-31T00:00:00",
          "2009-11-01T00:00:00",
          "2009-11-02T00:00:00",
          "2009-11-03T00:00:00",
          "2009-11-04T00:00:00",
          "2009-11-05T00:00:00",
          "2009-11-06T00:00:00",
          "2009-11-07T00:00:00",
          "2009-11-08T00:00:00",
          "2009-11-09T00:00:00",
          "2009-11-10T00:00:00",
          "2009-11-11T00:00:00",
          "2009-11-12T00:00:00",
          "2009-11-13T00:00:00",
          "2009-11-14T00:00:00",
          "2009-11-15T00:00:00",
          "2009-11-16T00:00:00",
          "2009-11-17T00:00:00",
          "2009-11-18T00:00:00",
          "2009-11-19T00:00:00",
          "2009-11-20T00:00:00",
          "2009-11-21T00:00:00",
          "2009-11-22T00:00:00",
          "2009-11-23T00:00:00",
          "2009-11-24T00:00:00",
          "2009-11-25T00:00:00",
          "2009-11-26T00:00:00",
          "2009-11-27T00:00:00",
          "2009-11-28T00:00:00",
          "2009-11-29T00:00:00",
          "2009-11-30T00:00:00",
          "2009-12-01T00:00:00",
          "2009-12-02T00:00:00",
          "2009-12-03T00:00:00",
          "2009-12-04T00:00:00",
          "2009-12-05T00:00:00",
          "2009-12-06T00:00:00",
          "2009-12-07T00:00:00",
          "2009-12-08T00:00:00",
          "2009-12-09T00:00:00",
          "2009-12-10T00:00:00",
          "2009-12-11T00:00:00",
          "2009-12-12T00:00:00",
          "2009-12-13T00:00:00",
          "2009-12-14T00:00:00",
          "2009-12-15T00:00:00",
          "2009-12-16T00:00:00",
          "2009-12-17T00:00:00",
          "2009-12-18T00:00:00",
          "2009-12-19T00:00:00",
          "2009-12-20T00:00:00",
          "2009-12-21T00:00:00",
          "2009-12-22T00:00:00",
          "2009-12-23T00:00:00",
          "2009-12-24T00:00:00",
          "2009-12-25T00:00:00",
          "2009-12-26T00:00:00",
          "2009-12-27T00:00:00",
          "2009-12-28T00:00:00",
          "2009-12-29T00:00:00",
          "2009-12-30T00:00:00",
          "2009-12-31T00:00:00",
          "2010-01-01T00:00:00",
          "2010-01-02T00:00:00",
          "2010-01-03T00:00:00",
          "2010-01-04T00:00:00",
          "2010-01-05T00:00:00",
          "2010-01-06T00:00:00",
          "2010-01-07T00:00:00",
          "2010-01-08T00:00:00",
          "2010-01-09T00:00:00",
          "2010-01-10T00:00:00",
          "2010-01-11T00:00:00",
          "2010-01-12T00:00:00",
          "2010-01-13T00:00:00",
          "2010-01-14T00:00:00",
          "2010-01-15T00:00:00",
          "2010-01-16T00:00:00",
          "2010-01-17T00:00:00",
          "2010-01-18T00:00:00",
          "2010-01-19T00:00:00",
          "2010-01-20T00:00:00",
          "2010-01-21T00:00:00",
          "2010-01-22T00:00:00",
          "2010-01-23T00:00:00",
          "2010-01-24T00:00:00",
          "2010-01-25T00:00:00",
          "2010-01-26T00:00:00",
          "2010-01-27T00:00:00",
          "2010-01-28T00:00:00",
          "2010-01-29T00:00:00",
          "2010-01-30T00:00:00",
          "2010-01-31T00:00:00",
          "2010-02-01T00:00:00",
          "2010-02-02T00:00:00",
          "2010-02-03T00:00:00",
          "2010-02-04T00:00:00",
          "2010-02-05T00:00:00",
          "2010-02-06T00:00:00",
          "2010-02-07T00:00:00",
          "2010-02-08T00:00:00",
          "2010-02-09T00:00:00",
          "2010-02-10T00:00:00"
         ],
         "y": [
          1209.176,
          3390.46,
          2203.826,
          1666.194,
          2225.748,
          1717.114,
          2341.338,
          4773.386,
          2550.012,
          2743.12,
          3934.11,
          1528.76,
          2072.638,
          3174.392,
          2802.336,
          3494.196,
          2749.004,
          1269.236,
          1014.054,
          3259.412,
          2713.364,
          1508.378,
          2447.62,
          2241.36,
          1869.054,
          2154.8,
          2255.194,
          1461.296,
          3186.814,
          3011.029,
          2148.678,
          1686.404,
          2847.688,
          1821.462,
          1480.44,
          3133.732,
          3407.262,
          2180.494,
          1777.64,
          2987.854,
          1596.344,
          1617.972,
          2044.072,
          3092.425,
          1982.664,
          1707.798,
          2363.752,
          1824.76,
          1667.736,
          4029.722,
          3595.94,
          1645.28,
          1273.48,
          2328.018,
          1801.414,
          1620.198,
          2829.328,
          3571.228,
          1877.61,
          1414.546,
          2498.672,
          1985.346,
          1702.528,
          2076.912,
          3829.762,
          2186.614,
          3149.928,
          2072.874,
          3377.42,
          1313.48,
          714.922,
          501.74,
          568.484,
          518.112,
          520.774,
          517.564,
          515.688,
          819.122,
          2090.7,
          2660.332,
          1246.5,
          2375.206,
          1572.132,
          1272.612,
          2484.712,
          3480.636,
          1950.668,
          1290.144,
          1793.364,
          1884.814,
          1702.054,
          2028.09,
          2371.046,
          2152.518,
          2086.228,
          2142.092,
          1454.978,
          1309.008,
          2968.43,
          3336.653,
          1416.082,
          1105.14,
          2333.898,
          1590.406,
          1402.394,
          3509.51,
          2785.952,
          1960.778,
          1642.82,
          2051.868,
          1844.078,
          1601.14,
          1553.924,
          1608.816,
          1000.92,
          777.364,
          887.482,
          537.706,
          551.022,
          554.268,
          726.164,
          952.39,
          1223.734,
          998.246,
          1028.658,
          822.58,
          1673.656,
          2233.714,
          1054.566,
          1032.1,
          1264.162,
          1275.466,
          1094.332,
          650.5456670247046,
          493.38096670247046,
          647.3593662728249,
          1663.858,
          1003.486,
          1090.238,
          998.128,
          1563.052,
          2102.104,
          1643.664,
          1789.292,
          1665.736,
          707.884,
          979.154,
          1441.566,
          1634.738,
          1467.782,
          904.392,
          1692.944,
          1231.816,
          1631.53,
          1429.442,
          1968.328,
          1120.062,
          1132.852,
          1464.936,
          1154.388,
          1614.22,
          1512.248,
          2153.808,
          1637.468,
          1061.34,
          1609.866,
          938.55,
          1045.37,
          1484.362,
          2108.026,
          911.618,
          1458.892,
          1695.813,
          985.002,
          2148.046,
          1105.26,
          1340.812,
          794.654,
          918.766,
          927.272,
          1259.084,
          989.604,
          2017.762,
          1947.09,
          678.474,
          845.306,
          1074.286,
          806.946,
          566.294,
          477.566,
          714.656,
          1072.202,
          944.908,
          1480.826,
          1295.438,
          1304.482,
          1335.314,
          1026.664,
          967.032,
          1059.912,
          1003.41,
          1057.29,
          1069.524,
          1358.206,
          1089.08,
          1180.158,
          908.324,
          722.352,
          1069.582,
          794.382,
          1288.17,
          1046.501,
          853.674,
          719.632,
          757.082,
          677.886,
          1110.422,
          1060.248,
          1377.345,
          991.018,
          825.284,
          472.56,
          924.5,
          1202.514,
          1621.862,
          321.116,
          466.816,
          812.332,
          1084.173,
          1019.416,
          1063.364,
          1144.99,
          787.098,
          1089.72,
          1483.58,
          1125.482,
          1071.68,
          1028.01,
          1091.65,
          1241.904,
          1153.012,
          941.19,
          1191.86,
          958.496,
          1009.892,
          347.96,
          1422.294,
          1338.842,
          642.556,
          1209.808,
          1112.312,
          1656.514,
          1150.88,
          1314.906,
          1211.73,
          997.004,
          747.992,
          1202.458,
          1279.822,
          1701.486,
          1662.468,
          1038.922,
          1584.944,
          1236.572,
          901.474,
          1336.496,
          1469.752,
          1679.502,
          1117.376,
          983.572,
          1287.764,
          1146.382,
          1135.47,
          1095.312,
          1652.224,
          1461.186,
          1167.52,
          1298.684,
          1255.532,
          1238.78,
          1176.172,
          1417.97,
          1354.53,
          1764.342,
          1831.5,
          1392.6,
          1680.498,
          2296.522,
          1516.29,
          1720.922,
          2198.864,
          1280.454,
          1518.458,
          1394.092,
          1756.24,
          2106.114,
          1095.242,
          1687.858,
          1166.972,
          1732.446,
          1914.504,
          1926.728,
          2061.252,
          1266.33,
          1964.442,
          1576.93,
          1518.53,
          2085.648,
          1660.246,
          1941.94,
          1652.896,
          1959.692,
          1865.636,
          1853.918,
          1437.568,
          1785.688,
          512.158,
          545.428,
          811.008,
          1283.21,
          496.216,
          1443.602,
          492.55,
          1485.686,
          1500.592,
          2082.378,
          1844.758,
          1501.06,
          2171.226,
          2611.6,
          1887.124,
          2156.146,
          2214.398,
          2047.994,
          1491.988,
          2309.754,
          2610.094,
          2183.858,
          1723.654,
          2095.856,
          1755.06,
          1932.378,
          2522.618,
          1899.054,
          1395.598,
          1569.716,
          2801.012,
          1644.94,
          1719.458,
          2331.728,
          3134.942,
          2946.188,
          1762.06,
          2067.636,
          2153.12,
          2487.934,
          1769.016,
          2213.404,
          2274.584,
          1758.754,
          2305.104,
          1588.062,
          1847.746,
          1974.808,
          2736.876,
          2762.218,
          1798.496,
          2623.194,
          2196.052,
          1949.758,
          1982.576,
          2611.264,
          2409.048,
          2257.848,
          2694.968,
          2580.28,
          2532.198,
          3113.052,
          3298.956,
          2558.916,
          2216.542,
          2759.738,
          1644.106,
          1510.108,
          2291.852,
          2183.248,
          1825.184,
          1695.814,
          2043.55,
          1788.44,
          1894.076,
          1705.818,
          2871.408,
          2886.105,
          2024.932,
          2686.912,
          2135.852,
          1572.282,
          2186.988,
          1980.306,
          1740.368,
          1858.998,
          2325.018,
          1882.308,
          1645.022,
          2239.856,
          2834.988,
          2381.766,
          2308.196,
          2676.024,
          1640.646,
          1953.922,
          1534.652,
          2940.447,
          2084.568,
          1628.138,
          2472.456,
          1669.54,
          1518.31,
          1950.564,
          2102.276,
          2184.714,
          1692.016,
          1987.798,
          1900.498,
          1604.622,
          2005.208,
          2346.948,
          1933.368,
          1514.404,
          2126.916,
          2253.79,
          1633.85,
          1732.564,
          1836.534,
          1263.008,
          504.488,
          507.12,
          566.72,
          509.184,
          1333.348,
          1141.876,
          1162.226,
          1040.55,
          1668.99,
          2037.208,
          2503.208,
          1862.956,
          2248.66,
          1560.458,
          1618.686,
          2200.042,
          1774.232,
          1675.514,
          2210.22,
          1576.3,
          1801.96,
          1706.918,
          1917.566,
          1308.448,
          1253.274,
          2066.442,
          2053.516,
          2325.99,
          1976.27,
          2015.856,
          1633.472,
          1370.822,
          1885.424,
          2471.15,
          2146.392,
          1377.57,
          2129.052,
          1691.672,
          1128.756,
          1631.918,
          1970.762,
          1696.318,
          1538.838,
          2657.516,
          1218.852,
          1477.746,
          1877.664,
          2800.014,
          2232.986,
          1589.582,
          1670.406,
          1489.064,
          1395.862,
          1862.39,
          2253.71,
          1791.418,
          1164.156,
          1627.676,
          1357.328,
          1043.772,
          1267.734,
          903.166,
          1008.24,
          659.052,
          1972.616,
          1101.726,
          576.014,
          1497.768,
          1289.6,
          1470.97,
          1366.932,
          1789.98,
          1176.264,
          2116.698,
          1747.272,
          1909.128,
          1610.92,
          1524.204,
          1476.894,
          1584.262,
          1162.768,
          1651.044,
          1657.454,
          1803.958,
          1030.262,
          1581.334,
          1324.112,
          976.868,
          1484.916,
          1580.176,
          2048.504,
          1289.71,
          1708.7,
          1114.372,
          1135.076,
          1397.244,
          1641.47,
          1848.876,
          1074.012,
          1597.816,
          1588.912,
          1120.078,
          1217.714,
          1882.484,
          1542.322,
          1325.698,
          1067.09,
          1123.206,
          1259.332,
          1874.998,
          1384.92,
          2289.102,
          1303.044,
          1145.084,
          1893.608,
          1588.082,
          1676.104,
          1734.254,
          1566.416,
          1251.796,
          1754.452,
          1261.77,
          1056.02,
          1755.152,
          1208.8,
          749.352,
          804.196,
          1215.24,
          1147.202,
          1098.36,
          942.02,
          1469.088,
          1805.064,
          983.39,
          1126.214,
          919.318,
          1251.276,
          1254.216,
          1328.852,
          1254.634,
          1137.926,
          1155.86,
          1077.062,
          1319.122,
          1261.584,
          1344.014,
          941.534,
          1156.478,
          740.242,
          942.63,
          1093.45,
          865.534,
          815.684,
          1147.396,
          825.804,
          1166.558,
          1299.908,
          1392.638,
          739.576,
          505.776,
          504.782,
          1126.501,
          827.118,
          326.112,
          334.884,
          302.2,
          358.924,
          352.032,
          371.916,
          288.984,
          282.584,
          270.258,
          273.654,
          274.814,
          274.796,
          273.758,
          274.692,
          268.472,
          261.298,
          267.124,
          254.642,
          254.716,
          250.298,
          257.564,
          258.114,
          268.246,
          267.588,
          270.424,
          1502.43,
          1247.51,
          1384.154,
          1388.486,
          1225.22,
          873.96,
          1868.574,
          1372.656,
          1309.324,
          1159.654,
          1300.764,
          1028.714,
          1392.762,
          1631.436,
          1576.326,
          1697.708,
          1221.862,
          1519.21,
          1505.29,
          1518.846,
          1304.6,
          1533.07,
          1358.564,
          1232.788,
          1718.35,
          1131.22,
          1431.45,
          2127.446,
          1731.104,
          1501.738,
          1375.006,
          1872.364,
          1345.342,
          1612.58,
          2100.496,
          1549.95,
          1423.782,
          1726.568,
          1860.576,
          1983.682,
          1518.338,
          1669.386,
          1907.94,
          1461.976,
          1609.056,
          2156.896,
          1583.68,
          1866.886,
          2239.19,
          1971.934,
          1667.554,
          2063.716,
          1646.01,
          1830.494,
          2133.226,
          1597.933,
          523.492,
          523.892,
          1327.29,
          1612.576,
          1098.6,
          1285.832,
          830.498,
          910.614,
          847.6,
          1562.316,
          3134.93,
          1588.438,
          1619.184,
          1733.138,
          2578.538,
          2114.434,
          2455.95,
          2190.114,
          1238.46,
          1621.738,
          3031.628,
          2365.432,
          1523.636,
          1749.05,
          1840.238,
          1692.336,
          1673.93,
          1711.368,
          3407.405,
          3212.998,
          2702.85,
          1515.954,
          2362.218,
          1885.964,
          2434.668,
          2401.388,
          1616.538,
          1793.444,
          1755.164,
          1738.638,
          2058.618,
          2523.836,
          2466.74,
          1868.636,
          2003.144,
          2244.93,
          1432.522,
          1815.534,
          1825.574,
          2002.12,
          1795.45,
          1797.09,
          2098.786,
          1736.94,
          1882.112,
          2244.162,
          2643.61,
          2015.808,
          1798.088,
          1269.638,
          1061.118,
          1223.732,
          2972.164,
          1570.642,
          555.278,
          1195.238,
          1964.188,
          1406.692,
          2327.51,
          1913.496,
          1939.994,
          1604,
          1689.862,
          2080.272,
          1633.27,
          1788.702,
          2102.948,
          1975.988,
          1589.278,
          2182.6,
          1781.579,
          1564.068,
          2766.554,
          3317.82,
          3154.194,
          1699.866,
          1738.028,
          1739.434,
          1237.356,
          1910.536,
          2200.77,
          2843.664,
          1674.472,
          1425.03,
          2721.734,
          1573.698,
          2059.038,
          3312.852,
          1847.17,
          1603.3,
          1868.39,
          2460.924,
          1649.088,
          2048.396,
          3131.536,
          2182.866,
          1706.638,
          1943.822,
          2639.39,
          1968.66,
          1690.022,
          2335.316,
          1586.032,
          1318.994,
          794.778,
          826.45,
          737.268,
          1880.736,
          1316.184,
          2238.478,
          2733.656,
          1783.144,
          1169.844,
          1156.852,
          2028.918,
          1630.75,
          2472.521,
          1477.442,
          1848.952,
          1842.13,
          1441.812,
          1783.474,
          1696.466,
          2357.166,
          1685.556,
          1836.21,
          2405.904,
          1887.26,
          1445.52,
          2149.028,
          1942.062,
          1338.125,
          1931.91,
          1450.68,
          1191.532,
          1463.906,
          1930.022,
          1689.17,
          1296.45,
          1661.712,
          1838.774,
          1211.004,
          1713.926,
          2260.976,
          2216.65,
          1477.452,
          1823.482,
          1641.14,
          1644.334,
          1363.26,
          2191.232,
          1375.716,
          1452.634,
          1440.092,
          1534.6,
          1890.472,
          1842.114,
          2462.446,
          2141.012,
          1599.844,
          1501.538,
          1216.062,
          1564.524,
          2042.81,
          1512.266,
          1286.468,
          1486.51,
          1894.598,
          1496.198,
          1141.46,
          1194.048,
          2022.284,
          1781.626,
          1351.628,
          1706.386,
          1664.68,
          1834.762,
          1512.802,
          1393.91,
          1608.878,
          1667.882,
          1731.474,
          1349.902,
          1012.648,
          1857.156,
          1261.352,
          1967.892,
          1517.176,
          1625.956,
          1246.398,
          1606.984,
          1422.226,
          2007.378,
          1543.764,
          1209.906,
          1617.344,
          1307.162,
          1575.15,
          1074.806,
          1530.598,
          1287.786,
          1354.096,
          1338.973,
          1544.292,
          1179.736,
          1242.846,
          1659.106,
          956.89,
          1443.26,
          1090.638,
          1356.578,
          1035.66,
          1230.36,
          1475.45,
          1207.392,
          1178.776,
          1332.85,
          1602.996,
          1300.65,
          1101.732,
          1041.846557168784,
          2180.389546279492,
          1698.444896551724,
          1508.792,
          988.016,
          1165.7,
          1086.866,
          1107.1,
          855.142,
          1094.098,
          1039.214,
          1534.874,
          771.362,
          1277.322,
          1709.052,
          1059.394,
          1010.134,
          1192.446,
          1218.342,
          1242.578,
          864.148,
          1238.568,
          1410.736,
          954.26,
          1110.136,
          1234.4,
          846.252,
          1192.726,
          993.968,
          513.478,
          496.746,
          911.43,
          718.074,
          599.554,
          731.808,
          966.41,
          1203.644,
          662.486,
          813.7620000000001,
          739.532,
          1030,
          561.738,
          536.688,
          543.016,
          688.566,
          902.85,
          902,
          792.326,
          975.83,
          706.966,
          489.724,
          500.298,
          508.892,
          518.652,
          532.672,
          539.296,
          526.472,
          998.234,
          1069.358,
          950.954,
          824.436,
          823.355,
          748.676,
          1514.062,
          1217.712,
          785.908,
          1080.598,
          880.742,
          775.722,
          1161.746,
          1548.738,
          1066.708,
          1252.254,
          943.61,
          1136.546,
          749.466,
          1118.842,
          1388.414,
          1668.342,
          1265.522,
          980.536,
          1222.814,
          1251.188,
          1024.388,
          1513.866,
          1228.63,
          1221.458,
          1086.254,
          1521.344,
          1112.354,
          1214.146,
          2064.358,
          1571.628,
          1574.858,
          1456.806,
          1743.162,
          1223.426,
          1374.032,
          2135.71,
          2035.328,
          1417.868,
          1246.536,
          1636.61,
          1426.258,
          1161.016,
          1556.254,
          1410.472,
          1299.456,
          1146.398,
          1776.468,
          1287.252,
          1152.668,
          1716.74,
          1621.106,
          1275.522,
          1428.448,
          1821.834,
          1577.166,
          1351.862,
          2012.756,
          1938.871,
          1351.604,
          1449.1,
          1711.224,
          1489.976,
          1516.86,
          2742.08,
          1556.164,
          1369.108,
          1722.808,
          1969.506,
          1399.71,
          1757.45,
          2614.408,
          2406.536,
          1112.344,
          1116.756,
          1268.708,
          1981.44,
          1493.358,
          1875.942,
          1843.168,
          1504.226,
          2266.688,
          1801.8,
          1560.466,
          1390.45,
          1557.176,
          2508.002,
          1407.477,
          1606.184,
          2040.48,
          1463.066,
          1532.926,
          2560.456,
          1967.308,
          1514.468,
          1708.294,
          2639.174,
          1474.848,
          1961.016,
          2496.856,
          2450.976,
          1471.122,
          2128.856,
          1980.13,
          1599.626,
          1380.026,
          1858.95,
          1650.962,
          1745.19,
          1756.378,
          2345.668,
          1479.688,
          1711.294,
          2351.762,
          2378.288,
          1742.638,
          2006.884,
          1802.356,
          2059.164,
          1784.462,
          1816.38,
          2138.814,
          1794.862,
          1940.116,
          1394.874,
          1717.182,
          1744.706,
          2204.334,
          1144.166,
          2034.966,
          1888.022,
          1455.2,
          2905.894,
          2127.648,
          2183.618,
          2195.452,
          2094.098,
          2047.968,
          2451.11,
          2211.892,
          1224.252,
          1311.815,
          2083.454,
          1604.132,
          2219.78,
          1777.18,
          1769.442,
          1797.208,
          2336.9,
          2508.466,
          1518.684,
          2199.7517942492013,
          2502.3611501597443,
          2693.4370555910546,
          2196.76,
          2150.112,
          1906.556,
          1881.098,
          2433.508,
          2351.728,
          2137.856,
          1790.626,
          2611.541,
          2269.42,
          1930.51,
          2067.564,
          2760.902,
          2110.234,
          2092.99,
          2842.728,
          1799.196,
          1693.778,
          2157.432,
          2903.014,
          2316.27,
          2098.892,
          2712.986,
          1625.708,
          2582.238,
          2420.932,
          1948.024
         ]
        },
        {
         "marker": {
          "color": "rgba(0, 48, 73, 0.8)"
         },
         "mode": "lines",
         "name": "test data",
         "type": "scatter",
         "x": [
          "2010-02-11T00:00:00",
          "2010-02-12T00:00:00",
          "2010-02-13T00:00:00",
          "2010-02-14T00:00:00",
          "2010-02-15T00:00:00",
          "2010-02-16T00:00:00",
          "2010-02-17T00:00:00",
          "2010-02-18T00:00:00",
          "2010-02-19T00:00:00",
          "2010-02-20T00:00:00",
          "2010-02-21T00:00:00",
          "2010-02-22T00:00:00",
          "2010-02-23T00:00:00",
          "2010-02-24T00:00:00",
          "2010-02-25T00:00:00",
          "2010-02-26T00:00:00",
          "2010-02-27T00:00:00",
          "2010-02-28T00:00:00",
          "2010-03-01T00:00:00",
          "2010-03-02T00:00:00",
          "2010-03-03T00:00:00",
          "2010-03-04T00:00:00",
          "2010-03-05T00:00:00",
          "2010-03-06T00:00:00",
          "2010-03-07T00:00:00",
          "2010-03-08T00:00:00",
          "2010-03-09T00:00:00",
          "2010-03-10T00:00:00",
          "2010-03-11T00:00:00",
          "2010-03-12T00:00:00",
          "2010-03-13T00:00:00",
          "2010-03-14T00:00:00",
          "2010-03-15T00:00:00",
          "2010-03-16T00:00:00",
          "2010-03-17T00:00:00",
          "2010-03-18T00:00:00",
          "2010-03-19T00:00:00",
          "2010-03-20T00:00:00",
          "2010-03-21T00:00:00",
          "2010-03-22T00:00:00",
          "2010-03-23T00:00:00",
          "2010-03-24T00:00:00",
          "2010-03-25T00:00:00",
          "2010-03-26T00:00:00",
          "2010-03-27T00:00:00",
          "2010-03-28T00:00:00",
          "2010-03-29T00:00:00",
          "2010-03-30T00:00:00",
          "2010-03-31T00:00:00",
          "2010-04-01T00:00:00",
          "2010-04-02T00:00:00",
          "2010-04-03T00:00:00",
          "2010-04-04T00:00:00",
          "2010-04-05T00:00:00",
          "2010-04-06T00:00:00",
          "2010-04-07T00:00:00",
          "2010-04-08T00:00:00",
          "2010-04-09T00:00:00",
          "2010-04-10T00:00:00",
          "2010-04-11T00:00:00",
          "2010-04-12T00:00:00",
          "2010-04-13T00:00:00",
          "2010-04-14T00:00:00",
          "2010-04-15T00:00:00",
          "2010-04-16T00:00:00",
          "2010-04-17T00:00:00",
          "2010-04-18T00:00:00",
          "2010-04-19T00:00:00",
          "2010-04-20T00:00:00",
          "2010-04-21T00:00:00",
          "2010-04-22T00:00:00",
          "2010-04-23T00:00:00",
          "2010-04-24T00:00:00",
          "2010-04-25T00:00:00",
          "2010-04-26T00:00:00",
          "2010-04-27T00:00:00",
          "2010-04-28T00:00:00",
          "2010-04-29T00:00:00",
          "2010-04-30T00:00:00",
          "2010-05-01T00:00:00",
          "2010-05-02T00:00:00",
          "2010-05-03T00:00:00",
          "2010-05-04T00:00:00",
          "2010-05-05T00:00:00",
          "2010-05-06T00:00:00",
          "2010-05-07T00:00:00",
          "2010-05-08T00:00:00",
          "2010-05-09T00:00:00",
          "2010-05-10T00:00:00",
          "2010-05-11T00:00:00",
          "2010-05-12T00:00:00",
          "2010-05-13T00:00:00",
          "2010-05-14T00:00:00",
          "2010-05-15T00:00:00",
          "2010-05-16T00:00:00",
          "2010-05-17T00:00:00",
          "2010-05-18T00:00:00",
          "2010-05-19T00:00:00",
          "2010-05-20T00:00:00",
          "2010-05-21T00:00:00",
          "2010-05-22T00:00:00",
          "2010-05-23T00:00:00",
          "2010-05-24T00:00:00",
          "2010-05-25T00:00:00",
          "2010-05-26T00:00:00",
          "2010-05-27T00:00:00",
          "2010-05-28T00:00:00",
          "2010-05-29T00:00:00",
          "2010-05-30T00:00:00",
          "2010-05-31T00:00:00",
          "2010-06-01T00:00:00",
          "2010-06-02T00:00:00",
          "2010-06-03T00:00:00",
          "2010-06-04T00:00:00",
          "2010-06-05T00:00:00",
          "2010-06-06T00:00:00",
          "2010-06-07T00:00:00",
          "2010-06-08T00:00:00",
          "2010-06-09T00:00:00",
          "2010-06-10T00:00:00",
          "2010-06-11T00:00:00",
          "2010-06-12T00:00:00",
          "2010-06-13T00:00:00",
          "2010-06-14T00:00:00",
          "2010-06-15T00:00:00",
          "2010-06-16T00:00:00",
          "2010-06-17T00:00:00",
          "2010-06-18T00:00:00",
          "2010-06-19T00:00:00",
          "2010-06-20T00:00:00",
          "2010-06-21T00:00:00",
          "2010-06-22T00:00:00",
          "2010-06-23T00:00:00",
          "2010-06-24T00:00:00",
          "2010-06-25T00:00:00",
          "2010-06-26T00:00:00",
          "2010-06-27T00:00:00",
          "2010-06-28T00:00:00",
          "2010-06-29T00:00:00",
          "2010-06-30T00:00:00",
          "2010-07-01T00:00:00",
          "2010-07-02T00:00:00",
          "2010-07-03T00:00:00",
          "2010-07-04T00:00:00",
          "2010-07-05T00:00:00",
          "2010-07-06T00:00:00",
          "2010-07-07T00:00:00",
          "2010-07-08T00:00:00",
          "2010-07-09T00:00:00",
          "2010-07-10T00:00:00",
          "2010-07-11T00:00:00",
          "2010-07-12T00:00:00",
          "2010-07-13T00:00:00",
          "2010-07-14T00:00:00",
          "2010-07-15T00:00:00",
          "2010-07-16T00:00:00",
          "2010-07-17T00:00:00",
          "2010-07-18T00:00:00",
          "2010-07-19T00:00:00",
          "2010-07-20T00:00:00",
          "2010-07-21T00:00:00",
          "2010-07-22T00:00:00",
          "2010-07-23T00:00:00",
          "2010-07-24T00:00:00",
          "2010-07-25T00:00:00",
          "2010-07-26T00:00:00",
          "2010-07-27T00:00:00",
          "2010-07-28T00:00:00",
          "2010-07-29T00:00:00",
          "2010-07-30T00:00:00",
          "2010-07-31T00:00:00",
          "2010-08-01T00:00:00",
          "2010-08-02T00:00:00",
          "2010-08-03T00:00:00",
          "2010-08-04T00:00:00",
          "2010-08-05T00:00:00",
          "2010-08-06T00:00:00",
          "2010-08-07T00:00:00",
          "2010-08-08T00:00:00",
          "2010-08-09T00:00:00",
          "2010-08-10T00:00:00",
          "2010-08-11T00:00:00",
          "2010-08-12T00:00:00",
          "2010-08-13T00:00:00",
          "2010-08-14T00:00:00",
          "2010-08-15T00:00:00",
          "2010-08-16T00:00:00",
          "2010-08-17T00:00:00",
          "2010-08-18T00:00:00",
          "2010-08-19T00:00:00",
          "2010-08-20T00:00:00",
          "2010-08-21T00:00:00",
          "2010-08-22T00:00:00",
          "2010-08-23T00:00:00",
          "2010-08-24T00:00:00",
          "2010-08-25T00:00:00",
          "2010-08-26T00:00:00",
          "2010-08-27T00:00:00",
          "2010-08-28T00:00:00",
          "2010-08-29T00:00:00",
          "2010-08-30T00:00:00",
          "2010-08-31T00:00:00",
          "2010-09-01T00:00:00",
          "2010-09-02T00:00:00",
          "2010-09-03T00:00:00",
          "2010-09-04T00:00:00",
          "2010-09-05T00:00:00",
          "2010-09-06T00:00:00",
          "2010-09-07T00:00:00",
          "2010-09-08T00:00:00",
          "2010-09-09T00:00:00",
          "2010-09-10T00:00:00",
          "2010-09-11T00:00:00",
          "2010-09-12T00:00:00",
          "2010-09-13T00:00:00",
          "2010-09-14T00:00:00",
          "2010-09-15T00:00:00",
          "2010-09-16T00:00:00",
          "2010-09-17T00:00:00",
          "2010-09-18T00:00:00",
          "2010-09-19T00:00:00",
          "2010-09-20T00:00:00",
          "2010-09-21T00:00:00",
          "2010-09-22T00:00:00",
          "2010-09-23T00:00:00",
          "2010-09-24T00:00:00",
          "2010-09-25T00:00:00",
          "2010-09-26T00:00:00",
          "2010-09-27T00:00:00",
          "2010-09-28T00:00:00",
          "2010-09-29T00:00:00",
          "2010-09-30T00:00:00",
          "2010-10-01T00:00:00",
          "2010-10-02T00:00:00",
          "2010-10-03T00:00:00",
          "2010-10-04T00:00:00",
          "2010-10-05T00:00:00",
          "2010-10-06T00:00:00",
          "2010-10-07T00:00:00",
          "2010-10-08T00:00:00",
          "2010-10-09T00:00:00",
          "2010-10-10T00:00:00",
          "2010-10-11T00:00:00",
          "2010-10-12T00:00:00",
          "2010-10-13T00:00:00",
          "2010-10-14T00:00:00",
          "2010-10-15T00:00:00",
          "2010-10-16T00:00:00",
          "2010-10-17T00:00:00",
          "2010-10-18T00:00:00",
          "2010-10-19T00:00:00",
          "2010-10-20T00:00:00",
          "2010-10-21T00:00:00",
          "2010-10-22T00:00:00",
          "2010-10-23T00:00:00",
          "2010-10-24T00:00:00",
          "2010-10-25T00:00:00",
          "2010-10-26T00:00:00",
          "2010-10-27T00:00:00",
          "2010-10-28T00:00:00",
          "2010-10-29T00:00:00",
          "2010-10-30T00:00:00",
          "2010-10-31T00:00:00",
          "2010-11-01T00:00:00",
          "2010-11-02T00:00:00",
          "2010-11-03T00:00:00",
          "2010-11-04T00:00:00",
          "2010-11-05T00:00:00",
          "2010-11-06T00:00:00",
          "2010-11-07T00:00:00",
          "2010-11-08T00:00:00",
          "2010-11-09T00:00:00",
          "2010-11-10T00:00:00",
          "2010-11-11T00:00:00",
          "2010-11-12T00:00:00",
          "2010-11-13T00:00:00",
          "2010-11-14T00:00:00",
          "2010-11-15T00:00:00",
          "2010-11-16T00:00:00",
          "2010-11-17T00:00:00",
          "2010-11-18T00:00:00",
          "2010-11-19T00:00:00",
          "2010-11-20T00:00:00",
          "2010-11-21T00:00:00",
          "2010-11-22T00:00:00",
          "2010-11-23T00:00:00",
          "2010-11-24T00:00:00",
          "2010-11-25T00:00:00",
          "2010-11-26T00:00:00"
         ],
         "y": [
          1369.768,
          1892.998,
          2351.556,
          1688.5,
          2097.132,
          1797.756,
          2054.56,
          1761.156,
          1953.572,
          1983.728,
          2740.314,
          1474.036,
          1461.28,
          1914.278,
          1880.204,
          2120.156,
          1765.056,
          711.666,
          1298.728,
          766.9060000000001,
          935.834,
          682.88,
          1133.726,
          794.712,
          1372.472,
          2557.098,
          1760.112,
          1822.632,
          1951.09,
          1645.424,
          2383.01,
          1566.714,
          1791.85,
          1542.65,
          2009.13,
          1562.682,
          1663.384,
          916.6067692307691,
          1762.1152307692307,
          1618.59,
          1822.162,
          1994.752,
          1679.884,
          1651.284,
          1847.97,
          1798.214,
          1622.738,
          1906.454,
          1923.802,
          1687.44,
          1648.622,
          1805.278,
          1690.388,
          1118.82,
          1825.852,
          1596.982,
          1649.22,
          1233.35,
          1190.208,
          1603.181,
          1439.426,
          1512.704,
          1660.364,
          1872.178,
          1562.062,
          1557.712,
          1476.106,
          1708.594,
          1833.628,
          1579.914,
          1460.904,
          1180.536,
          1518.418,
          1542.742,
          1082.716,
          1250.94,
          867.858,
          1103.724,
          1118.628,
          1320.158,
          2187.91,
          1411.302,
          1516.96,
          1805.308,
          1299.25,
          1644.004,
          1533.422,
          1566.51,
          1467.892,
          1571.368,
          2035.418,
          1554.188,
          1722.146,
          1944.772,
          2100.426,
          1628.182,
          1421.184,
          1426.752,
          1153.898,
          1294.396,
          2095.772,
          1487.556,
          1341.332,
          1198.626,
          1387.884,
          1323.342,
          1398.164,
          2049.808,
          1665.7,
          1340.462,
          1268.964,
          980.898,
          1394.186,
          1420.554,
          2009.644,
          1746.792,
          1012.082,
          1362.034,
          1534.682,
          1215.19,
          1470.672,
          1974.467,
          1674.356,
          1217.984,
          1223.966,
          1768.092,
          1028.018,
          1332.316,
          1416.22,
          1672.55,
          1660.89,
          1520.588,
          1442.064,
          1095.78,
          1099.438,
          981.62,
          1139.964,
          1471.34,
          1368.543,
          1384.136,
          1349.002,
          1140.928,
          1120.074,
          1538.088,
          1113.99,
          1005.934,
          834.788,
          1212.652,
          1083.478,
          1154.504,
          1193.572,
          1109.574,
          1382.114,
          1409.472,
          1635.813,
          820.056,
          806.352,
          812.038,
          801.158,
          855.824,
          1064.166,
          1164.446,
          1176.158,
          921.668,
          1130.41,
          884.15,
          952.36,
          862.654,
          549.104,
          551.26,
          554.616,
          555.664,
          549.482,
          615.212,
          543.356,
          533.476,
          524.746,
          527.476,
          528.46,
          535.064,
          544.758,
          542.002,
          529.698,
          534.294,
          554.27,
          1055.986,
          1129.73,
          1138.914498132005,
          1259.5247820672478,
          1187.2199252801993,
          1114.9150684931508,
          1042.610211706102,
          964.6355143212952,
          765.658,
          722.948,
          980.408,
          757.252,
          2030.65,
          1442.856,
          1668.48,
          1494.802,
          1365.106,
          1593.318,
          1392.492,
          1346.414,
          1743.84,
          1323.018,
          1422.876,
          1451.854,
          1303.812,
          1238.714,
          1328.108,
          1463.31,
          1612.092,
          1076.32,
          1430.678,
          986.094,
          1339.738,
          1497.608,
          1247.946,
          919.6,
          1682.832,
          1111.376,
          1510.394,
          1449.862,
          1327.992,
          585.3598205421916,
          1369.9661855670104,
          2237.7270103092783,
          2887.73298358152,
          1684.426,
          1248.278,
          1504.82,
          1923.254,
          1830.684,
          1775.96,
          1854.624,
          1315.456,
          1809.954,
          1510.456,
          1611.78,
          1998.904,
          1622.59,
          1579.692,
          2073.886,
          2135.122,
          1596.324,
          1000.014,
          1047.382,
          2713.884,
          1925.978,
          1727.964,
          1355.198,
          1668.892,
          2293.236,
          2392.304,
          1163.292,
          945.904,
          1260.278,
          1463.326,
          1204.422,
          2152.7,
          1476.43,
          1383.18,
          1191.082,
          1293.298,
          2555.146,
          1736.088,
          1805.408,
          1673.816,
          1825.54,
          2022.098,
          1946.534,
          1773.592,
          1836.822,
          2023.174,
          2038.392,
          1747.382,
          1509.748,
          1582.032,
          1652.152,
          1570.4,
          2197.006,
          900.91,
          2041.536,
          1577.536,
          1796.248,
          1431.164,
          1488.104
         ]
        },
        {
         "marker": {
          "color": "rgba(252, 191, 73, 1)"
         },
         "mode": "lines",
         "name": "prediction",
         "type": "scatter",
         "x": [
          "2010-02-11T00:00:00",
          "2010-02-12T00:00:00",
          "2010-02-13T00:00:00",
          "2010-02-14T00:00:00",
          "2010-02-15T00:00:00",
          "2010-02-16T00:00:00",
          "2010-02-17T00:00:00",
          "2010-02-18T00:00:00",
          "2010-02-19T00:00:00",
          "2010-02-20T00:00:00",
          "2010-02-21T00:00:00",
          "2010-02-22T00:00:00",
          "2010-02-23T00:00:00",
          "2010-02-24T00:00:00",
          "2010-02-25T00:00:00",
          "2010-02-26T00:00:00",
          "2010-02-27T00:00:00",
          "2010-02-28T00:00:00",
          "2010-03-01T00:00:00",
          "2010-03-02T00:00:00",
          "2010-03-03T00:00:00",
          "2010-03-04T00:00:00",
          "2010-03-05T00:00:00",
          "2010-03-06T00:00:00",
          "2010-03-07T00:00:00",
          "2010-03-08T00:00:00",
          "2010-03-09T00:00:00",
          "2010-03-10T00:00:00",
          "2010-03-11T00:00:00",
          "2010-03-12T00:00:00",
          "2010-03-13T00:00:00",
          "2010-03-14T00:00:00",
          "2010-03-15T00:00:00",
          "2010-03-16T00:00:00",
          "2010-03-17T00:00:00",
          "2010-03-18T00:00:00",
          "2010-03-19T00:00:00",
          "2010-03-20T00:00:00",
          "2010-03-21T00:00:00",
          "2010-03-22T00:00:00",
          "2010-03-23T00:00:00",
          "2010-03-24T00:00:00",
          "2010-03-25T00:00:00",
          "2010-03-26T00:00:00",
          "2010-03-27T00:00:00",
          "2010-03-28T00:00:00",
          "2010-03-29T00:00:00",
          "2010-03-30T00:00:00",
          "2010-03-31T00:00:00",
          "2010-04-01T00:00:00",
          "2010-04-02T00:00:00",
          "2010-04-03T00:00:00",
          "2010-04-04T00:00:00",
          "2010-04-05T00:00:00",
          "2010-04-06T00:00:00",
          "2010-04-07T00:00:00",
          "2010-04-08T00:00:00",
          "2010-04-09T00:00:00",
          "2010-04-10T00:00:00",
          "2010-04-11T00:00:00",
          "2010-04-12T00:00:00",
          "2010-04-13T00:00:00",
          "2010-04-14T00:00:00",
          "2010-04-15T00:00:00",
          "2010-04-16T00:00:00",
          "2010-04-17T00:00:00",
          "2010-04-18T00:00:00",
          "2010-04-19T00:00:00",
          "2010-04-20T00:00:00",
          "2010-04-21T00:00:00",
          "2010-04-22T00:00:00",
          "2010-04-23T00:00:00",
          "2010-04-24T00:00:00",
          "2010-04-25T00:00:00",
          "2010-04-26T00:00:00",
          "2010-04-27T00:00:00",
          "2010-04-28T00:00:00",
          "2010-04-29T00:00:00",
          "2010-04-30T00:00:00",
          "2010-05-01T00:00:00",
          "2010-05-02T00:00:00",
          "2010-05-03T00:00:00",
          "2010-05-04T00:00:00",
          "2010-05-05T00:00:00",
          "2010-05-06T00:00:00",
          "2010-05-07T00:00:00",
          "2010-05-08T00:00:00",
          "2010-05-09T00:00:00",
          "2010-05-10T00:00:00",
          "2010-05-11T00:00:00",
          "2010-05-12T00:00:00",
          "2010-05-13T00:00:00",
          "2010-05-14T00:00:00",
          "2010-05-15T00:00:00",
          "2010-05-16T00:00:00",
          "2010-05-17T00:00:00",
          "2010-05-18T00:00:00",
          "2010-05-19T00:00:00",
          "2010-05-20T00:00:00",
          "2010-05-21T00:00:00",
          "2010-05-22T00:00:00",
          "2010-05-23T00:00:00",
          "2010-05-24T00:00:00",
          "2010-05-25T00:00:00",
          "2010-05-26T00:00:00",
          "2010-05-27T00:00:00",
          "2010-05-28T00:00:00",
          "2010-05-29T00:00:00",
          "2010-05-30T00:00:00",
          "2010-05-31T00:00:00",
          "2010-06-01T00:00:00",
          "2010-06-02T00:00:00",
          "2010-06-03T00:00:00",
          "2010-06-04T00:00:00",
          "2010-06-05T00:00:00",
          "2010-06-06T00:00:00",
          "2010-06-07T00:00:00",
          "2010-06-08T00:00:00",
          "2010-06-09T00:00:00",
          "2010-06-10T00:00:00",
          "2010-06-11T00:00:00",
          "2010-06-12T00:00:00",
          "2010-06-13T00:00:00",
          "2010-06-14T00:00:00",
          "2010-06-15T00:00:00",
          "2010-06-16T00:00:00",
          "2010-06-17T00:00:00",
          "2010-06-18T00:00:00",
          "2010-06-19T00:00:00",
          "2010-06-20T00:00:00",
          "2010-06-21T00:00:00",
          "2010-06-22T00:00:00",
          "2010-06-23T00:00:00",
          "2010-06-24T00:00:00",
          "2010-06-25T00:00:00",
          "2010-06-26T00:00:00",
          "2010-06-27T00:00:00",
          "2010-06-28T00:00:00",
          "2010-06-29T00:00:00",
          "2010-06-30T00:00:00",
          "2010-07-01T00:00:00",
          "2010-07-02T00:00:00",
          "2010-07-03T00:00:00",
          "2010-07-04T00:00:00",
          "2010-07-05T00:00:00",
          "2010-07-06T00:00:00",
          "2010-07-07T00:00:00",
          "2010-07-08T00:00:00",
          "2010-07-09T00:00:00",
          "2010-07-10T00:00:00",
          "2010-07-11T00:00:00",
          "2010-07-12T00:00:00",
          "2010-07-13T00:00:00",
          "2010-07-14T00:00:00",
          "2010-07-15T00:00:00",
          "2010-07-16T00:00:00",
          "2010-07-17T00:00:00",
          "2010-07-18T00:00:00",
          "2010-07-19T00:00:00",
          "2010-07-20T00:00:00",
          "2010-07-21T00:00:00",
          "2010-07-22T00:00:00",
          "2010-07-23T00:00:00",
          "2010-07-24T00:00:00",
          "2010-07-25T00:00:00",
          "2010-07-26T00:00:00",
          "2010-07-27T00:00:00",
          "2010-07-28T00:00:00",
          "2010-07-29T00:00:00",
          "2010-07-30T00:00:00",
          "2010-07-31T00:00:00",
          "2010-08-01T00:00:00",
          "2010-08-02T00:00:00",
          "2010-08-03T00:00:00",
          "2010-08-04T00:00:00",
          "2010-08-05T00:00:00",
          "2010-08-06T00:00:00",
          "2010-08-07T00:00:00",
          "2010-08-08T00:00:00",
          "2010-08-09T00:00:00",
          "2010-08-10T00:00:00",
          "2010-08-11T00:00:00",
          "2010-08-12T00:00:00",
          "2010-08-13T00:00:00",
          "2010-08-14T00:00:00",
          "2010-08-15T00:00:00",
          "2010-08-16T00:00:00",
          "2010-08-17T00:00:00",
          "2010-08-18T00:00:00",
          "2010-08-19T00:00:00",
          "2010-08-20T00:00:00",
          "2010-08-21T00:00:00",
          "2010-08-22T00:00:00",
          "2010-08-23T00:00:00",
          "2010-08-24T00:00:00",
          "2010-08-25T00:00:00",
          "2010-08-26T00:00:00",
          "2010-08-27T00:00:00",
          "2010-08-28T00:00:00",
          "2010-08-29T00:00:00",
          "2010-08-30T00:00:00",
          "2010-08-31T00:00:00",
          "2010-09-01T00:00:00",
          "2010-09-02T00:00:00",
          "2010-09-03T00:00:00",
          "2010-09-04T00:00:00",
          "2010-09-05T00:00:00",
          "2010-09-06T00:00:00",
          "2010-09-07T00:00:00",
          "2010-09-08T00:00:00",
          "2010-09-09T00:00:00",
          "2010-09-10T00:00:00",
          "2010-09-11T00:00:00",
          "2010-09-12T00:00:00",
          "2010-09-13T00:00:00",
          "2010-09-14T00:00:00",
          "2010-09-15T00:00:00",
          "2010-09-16T00:00:00",
          "2010-09-17T00:00:00",
          "2010-09-18T00:00:00",
          "2010-09-19T00:00:00",
          "2010-09-20T00:00:00",
          "2010-09-21T00:00:00",
          "2010-09-22T00:00:00",
          "2010-09-23T00:00:00",
          "2010-09-24T00:00:00",
          "2010-09-25T00:00:00",
          "2010-09-26T00:00:00",
          "2010-09-27T00:00:00",
          "2010-09-28T00:00:00",
          "2010-09-29T00:00:00",
          "2010-09-30T00:00:00",
          "2010-10-01T00:00:00",
          "2010-10-02T00:00:00",
          "2010-10-03T00:00:00",
          "2010-10-04T00:00:00",
          "2010-10-05T00:00:00",
          "2010-10-06T00:00:00",
          "2010-10-07T00:00:00",
          "2010-10-08T00:00:00",
          "2010-10-09T00:00:00",
          "2010-10-10T00:00:00",
          "2010-10-11T00:00:00",
          "2010-10-12T00:00:00",
          "2010-10-13T00:00:00",
          "2010-10-14T00:00:00",
          "2010-10-15T00:00:00",
          "2010-10-16T00:00:00",
          "2010-10-17T00:00:00",
          "2010-10-18T00:00:00",
          "2010-10-19T00:00:00",
          "2010-10-20T00:00:00",
          "2010-10-21T00:00:00",
          "2010-10-22T00:00:00",
          "2010-10-23T00:00:00",
          "2010-10-24T00:00:00",
          "2010-10-25T00:00:00",
          "2010-10-26T00:00:00",
          "2010-10-27T00:00:00",
          "2010-10-28T00:00:00",
          "2010-10-29T00:00:00",
          "2010-10-30T00:00:00",
          "2010-10-31T00:00:00",
          "2010-11-01T00:00:00",
          "2010-11-02T00:00:00",
          "2010-11-03T00:00:00",
          "2010-11-04T00:00:00",
          "2010-11-05T00:00:00",
          "2010-11-06T00:00:00",
          "2010-11-07T00:00:00",
          "2010-11-08T00:00:00",
          "2010-11-09T00:00:00",
          "2010-11-10T00:00:00",
          "2010-11-11T00:00:00",
          "2010-11-12T00:00:00",
          "2010-11-13T00:00:00",
          "2010-11-14T00:00:00",
          "2010-11-15T00:00:00",
          "2010-11-16T00:00:00",
          "2010-11-17T00:00:00",
          "2010-11-18T00:00:00",
          "2010-11-19T00:00:00",
          "2010-11-20T00:00:00",
          "2010-11-21T00:00:00",
          "2010-11-22T00:00:00",
          "2010-11-23T00:00:00",
          "2010-11-24T00:00:00",
          "2010-11-25T00:00:00",
          "2010-11-26T00:00:00"
         ],
         "y": [
          1710.092529296875,
          1859.9969482421875,
          2148.95166015625,
          1838.7239990234375,
          2159.08447265625,
          1692.3671875,
          1974.3316650390625,
          1873.624755859375,
          1906.5672607421875,
          2062.181640625,
          2094.589111328125,
          993.1189575195312,
          1455.4932861328125,
          1010.6253051757812,
          1338.50244140625,
          947.1614379882812,
          1171.4835205078125,
          913.769775390625,
          1125.9918212890625,
          1502.011962890625,
          1395.9443359375,
          1485.32958984375,
          1535.2039794921875,
          1595.4366455078125,
          1954.46240234375,
          1922.5946044921875,
          1870.818359375,
          1747.7425537109375,
          1968.8985595703125,
          1717.8426513671875,
          2082.30419921875,
          1236.5494384765625,
          1718.7601318359375,
          1544.9066162109375,
          1812.9222412109375,
          1633.496826171875,
          1658.3878173828125,
          1526.366943359375,
          1809.5845947265625,
          1730.1268310546875,
          1794.211181640625,
          1941.209228515625,
          1764.8426513671875,
          1722.6171875,
          1819.8568115234375,
          1824.2236328125,
          1718.2681884765625,
          1553.3167724609375,
          1848.7425537109375,
          1627.6026611328125,
          1648.4010009765625,
          1562.736083984375,
          1521.734375,
          1386.152587890625,
          1605.1064453125,
          1513.4085693359375,
          1570.1868896484375,
          1452.6099853515625,
          1419.9306640625,
          1617.751953125,
          1522.5367431640625,
          1607.257080078125,
          1707.0792236328125,
          1733.3857421875,
          1583.0838623046875,
          1478.3851318359375,
          1514.329345703125,
          1609.1597900390625,
          1446.2406005859375,
          1407.5966796875,
          1168.9486083984375,
          1134.0540771484375,
          1232.805419921875,
          1278.252685546875,
          1388.4910888671875,
          1315.9764404296875,
          1289.825927734375,
          1413.9156494140625,
          1353.0743408203125,
          1594.490234375,
          1797.97119140625,
          1496.3145751953125,
          1534.6046142578125,
          1685.15771484375,
          1538.6981201171875,
          1617.3896484375,
          1625.0013427734375,
          1684.2022705078125,
          1685.2177734375,
          1686.9017333984375,
          1852.45361328125,
          1619.0296630859375,
          1545.6424560546875,
          1704.4521484375,
          1858.0914306640625,
          1522.59423828125,
          1421.1700439453125,
          1379.7650146484375,
          1308.0411376953125,
          1412.463623046875,
          1697.981201171875,
          1543.593505859375,
          1440.38623046875,
          1359.1650390625,
          1414.06201171875,
          1258.548095703125,
          1420.9564208984375,
          1606.681884765625,
          1586.1292724609375,
          1436.042724609375,
          1263.0654296875,
          1259.0037841796875,
          1437.072509765625,
          1414.70947265625,
          1690.4471435546875,
          1638.4356689453125,
          1342.5328369140625,
          1399.1090087890625,
          1459.9141845703125,
          1426.3978271484375,
          1321.533447265625,
          1634.230224609375,
          1464.60595703125,
          1348.303466796875,
          1390.468994140625,
          1608.37255859375,
          1304.35693359375,
          1335.4417724609375,
          1336.9686279296875,
          1311.0826416015625,
          1325.5408935546875,
          1332.344482421875,
          1292.475830078125,
          1207.79736328125,
          1217.95849609375,
          1155.2080078125,
          1183.158935546875,
          1388.80517578125,
          1257.4302978515625,
          1209.2425537109375,
          1078.4822998046875,
          1114.2481689453125,
          1085.21435546875,
          1220.2955322265625,
          1104.071533203125,
          1069.4473876953125,
          1127.6619873046875,
          1230.5948486328125,
          1271.428466796875,
          1071.44580078125,
          1033.5880126953125,
          981.7157592773438,
          1006.9053344726562,
          1010.5458984375,
          1117.955810546875,
          985.7080688476562,
          1012.9310302734375,
          971.4046020507812,
          1018.8790283203125,
          970.7669067382812,
          1010.2520751953125,
          990.2957153320312,
          771.4903564453125,
          703.4345703125,
          697.477783203125,
          656.6387939453125,
          644.3435668945312,
          667.84912109375,
          610.2274169921875,
          599.285400390625,
          589.8474731445312,
          592.5790405273438,
          593.449462890625,
          596.4148559570312,
          609.5862426757812,
          608.6985473632812,
          599.1067504882812,
          600.8662719726562,
          615.951171875,
          945.052978515625,
          975.1102905273438,
          999.3600463867188,
          1048.419677734375,
          1051.1527099609375,
          1110.441650390625,
          1081.1060791015625,
          1071.9378662109375,
          960.3390502929688,
          924.107177734375,
          986.0406494140625,
          884.44921875,
          1351.952392578125,
          1266.997802734375,
          1378.7880859375,
          1404.386474609375,
          1393.41064453125,
          1680.7337646484375,
          1705.9803466796875,
          1436.40625,
          1612.54345703125,
          1447.8602294921875,
          1409.8125,
          1511.7322998046875,
          1382.6641845703125,
          1340.782958984375,
          1503.431884765625,
          1337.27099609375,
          1421.8349609375,
          1318.5460205078125,
          1328.2513427734375,
          1189.07568359375,
          1283.56591796875,
          1366.9501953125,
          1378.9715576171875,
          1092.412353515625,
          1380.6563720703125,
          1144.572998046875,
          1332.51171875,
          1389.0648193359375,
          1282.4814453125,
          877.235595703125,
          1343.87646484375,
          1386.365478515625,
          1685.9342041015625,
          1534.833740234375,
          1471.036376953125,
          1639.6414794921875,
          1746.7828369140625,
          2041.5167236328125,
          2213.440673828125,
          1725.03857421875,
          1448.9404296875,
          1696.5694580078125,
          1731.11279296875,
          1780.22119140625,
          1786.2872314453125,
          1728.81640625,
          1524.132080078125,
          1842.4578857421875,
          1705.5958251953125,
          1689.9185791015625,
          1483.4207763671875,
          1479.011962890625,
          1826.6224365234375,
          1770.974365234375,
          1885.0859375,
          1579.1964111328125,
          1714.755615234375,
          2049.947021484375,
          2252.95361328125,
          1480.5260009765625,
          1449.4163818359375,
          1399.816162109375,
          1602.364501953125,
          1686.193603515625,
          1951.157958984375,
          1328.7861328125,
          1289.484619140625,
          1324.9547119140625,
          1411.920654296875,
          1700.902099609375,
          1765.22900390625,
          1605.8121337890625,
          1573.767578125,
          1594.4307861328125,
          1844.2509765625,
          2144.50146484375,
          1779.3599853515625,
          1848.40380859375,
          1815.958984375,
          1893.6361083984375,
          1901.657470703125,
          1840.779541015625,
          1791.7144775390625,
          1817.1346435546875,
          1853.3028564453125,
          1978.351318359375,
          1187.291015625,
          1643.966552734375,
          1524.7877197265625,
          1670.0013427734375,
          1591.48583984375
         ]
        }
       ],
       "layout": {
        "template": {
         "data": {
          "bar": [
           {
            "error_x": {
             "color": "#2a3f5f"
            },
            "error_y": {
             "color": "#2a3f5f"
            },
            "marker": {
             "line": {
              "color": "#E5ECF6",
              "width": 0.5
             },
             "pattern": {
              "fillmode": "overlay",
              "size": 10,
              "solidity": 0.2
             }
            },
            "type": "bar"
           }
          ],
          "barpolar": [
           {
            "marker": {
             "line": {
              "color": "#E5ECF6",
              "width": 0.5
             },
             "pattern": {
              "fillmode": "overlay",
              "size": 10,
              "solidity": 0.2
             }
            },
            "type": "barpolar"
           }
          ],
          "carpet": [
           {
            "aaxis": {
             "endlinecolor": "#2a3f5f",
             "gridcolor": "white",
             "linecolor": "white",
             "minorgridcolor": "white",
             "startlinecolor": "#2a3f5f"
            },
            "baxis": {
             "endlinecolor": "#2a3f5f",
             "gridcolor": "white",
             "linecolor": "white",
             "minorgridcolor": "white",
             "startlinecolor": "#2a3f5f"
            },
            "type": "carpet"
           }
          ],
          "choropleth": [
           {
            "colorbar": {
             "outlinewidth": 0,
             "ticks": ""
            },
            "type": "choropleth"
           }
          ],
          "contour": [
           {
            "colorbar": {
             "outlinewidth": 0,
             "ticks": ""
            },
            "colorscale": [
             [
              0,
              "#0d0887"
             ],
             [
              0.1111111111111111,
              "#46039f"
             ],
             [
              0.2222222222222222,
              "#7201a8"
             ],
             [
              0.3333333333333333,
              "#9c179e"
             ],
             [
              0.4444444444444444,
              "#bd3786"
             ],
             [
              0.5555555555555556,
              "#d8576b"
             ],
             [
              0.6666666666666666,
              "#ed7953"
             ],
             [
              0.7777777777777778,
              "#fb9f3a"
             ],
             [
              0.8888888888888888,
              "#fdca26"
             ],
             [
              1,
              "#f0f921"
             ]
            ],
            "type": "contour"
           }
          ],
          "contourcarpet": [
           {
            "colorbar": {
             "outlinewidth": 0,
             "ticks": ""
            },
            "type": "contourcarpet"
           }
          ],
          "heatmap": [
           {
            "colorbar": {
             "outlinewidth": 0,
             "ticks": ""
            },
            "colorscale": [
             [
              0,
              "#0d0887"
             ],
             [
              0.1111111111111111,
              "#46039f"
             ],
             [
              0.2222222222222222,
              "#7201a8"
             ],
             [
              0.3333333333333333,
              "#9c179e"
             ],
             [
              0.4444444444444444,
              "#bd3786"
             ],
             [
              0.5555555555555556,
              "#d8576b"
             ],
             [
              0.6666666666666666,
              "#ed7953"
             ],
             [
              0.7777777777777778,
              "#fb9f3a"
             ],
             [
              0.8888888888888888,
              "#fdca26"
             ],
             [
              1,
              "#f0f921"
             ]
            ],
            "type": "heatmap"
           }
          ],
          "heatmapgl": [
           {
            "colorbar": {
             "outlinewidth": 0,
             "ticks": ""
            },
            "colorscale": [
             [
              0,
              "#0d0887"
             ],
             [
              0.1111111111111111,
              "#46039f"
             ],
             [
              0.2222222222222222,
              "#7201a8"
             ],
             [
              0.3333333333333333,
              "#9c179e"
             ],
             [
              0.4444444444444444,
              "#bd3786"
             ],
             [
              0.5555555555555556,
              "#d8576b"
             ],
             [
              0.6666666666666666,
              "#ed7953"
             ],
             [
              0.7777777777777778,
              "#fb9f3a"
             ],
             [
              0.8888888888888888,
              "#fdca26"
             ],
             [
              1,
              "#f0f921"
             ]
            ],
            "type": "heatmapgl"
           }
          ],
          "histogram": [
           {
            "marker": {
             "pattern": {
              "fillmode": "overlay",
              "size": 10,
              "solidity": 0.2
             }
            },
            "type": "histogram"
           }
          ],
          "histogram2d": [
           {
            "colorbar": {
             "outlinewidth": 0,
             "ticks": ""
            },
            "colorscale": [
             [
              0,
              "#0d0887"
             ],
             [
              0.1111111111111111,
              "#46039f"
             ],
             [
              0.2222222222222222,
              "#7201a8"
             ],
             [
              0.3333333333333333,
              "#9c179e"
             ],
             [
              0.4444444444444444,
              "#bd3786"
             ],
             [
              0.5555555555555556,
              "#d8576b"
             ],
             [
              0.6666666666666666,
              "#ed7953"
             ],
             [
              0.7777777777777778,
              "#fb9f3a"
             ],
             [
              0.8888888888888888,
              "#fdca26"
             ],
             [
              1,
              "#f0f921"
             ]
            ],
            "type": "histogram2d"
           }
          ],
          "histogram2dcontour": [
           {
            "colorbar": {
             "outlinewidth": 0,
             "ticks": ""
            },
            "colorscale": [
             [
              0,
              "#0d0887"
             ],
             [
              0.1111111111111111,
              "#46039f"
             ],
             [
              0.2222222222222222,
              "#7201a8"
             ],
             [
              0.3333333333333333,
              "#9c179e"
             ],
             [
              0.4444444444444444,
              "#bd3786"
             ],
             [
              0.5555555555555556,
              "#d8576b"
             ],
             [
              0.6666666666666666,
              "#ed7953"
             ],
             [
              0.7777777777777778,
              "#fb9f3a"
             ],
             [
              0.8888888888888888,
              "#fdca26"
             ],
             [
              1,
              "#f0f921"
             ]
            ],
            "type": "histogram2dcontour"
           }
          ],
          "mesh3d": [
           {
            "colorbar": {
             "outlinewidth": 0,
             "ticks": ""
            },
            "type": "mesh3d"
           }
          ],
          "parcoords": [
           {
            "line": {
             "colorbar": {
              "outlinewidth": 0,
              "ticks": ""
             }
            },
            "type": "parcoords"
           }
          ],
          "pie": [
           {
            "automargin": true,
            "type": "pie"
           }
          ],
          "scatter": [
           {
            "marker": {
             "colorbar": {
              "outlinewidth": 0,
              "ticks": ""
             }
            },
            "type": "scatter"
           }
          ],
          "scatter3d": [
           {
            "line": {
             "colorbar": {
              "outlinewidth": 0,
              "ticks": ""
             }
            },
            "marker": {
             "colorbar": {
              "outlinewidth": 0,
              "ticks": ""
             }
            },
            "type": "scatter3d"
           }
          ],
          "scattercarpet": [
           {
            "marker": {
             "colorbar": {
              "outlinewidth": 0,
              "ticks": ""
             }
            },
            "type": "scattercarpet"
           }
          ],
          "scattergeo": [
           {
            "marker": {
             "colorbar": {
              "outlinewidth": 0,
              "ticks": ""
             }
            },
            "type": "scattergeo"
           }
          ],
          "scattergl": [
           {
            "marker": {
             "colorbar": {
              "outlinewidth": 0,
              "ticks": ""
             }
            },
            "type": "scattergl"
           }
          ],
          "scattermapbox": [
           {
            "marker": {
             "colorbar": {
              "outlinewidth": 0,
              "ticks": ""
             }
            },
            "type": "scattermapbox"
           }
          ],
          "scatterpolar": [
           {
            "marker": {
             "colorbar": {
              "outlinewidth": 0,
              "ticks": ""
             }
            },
            "type": "scatterpolar"
           }
          ],
          "scatterpolargl": [
           {
            "marker": {
             "colorbar": {
              "outlinewidth": 0,
              "ticks": ""
             }
            },
            "type": "scatterpolargl"
           }
          ],
          "scatterternary": [
           {
            "marker": {
             "colorbar": {
              "outlinewidth": 0,
              "ticks": ""
             }
            },
            "type": "scatterternary"
           }
          ],
          "surface": [
           {
            "colorbar": {
             "outlinewidth": 0,
             "ticks": ""
            },
            "colorscale": [
             [
              0,
              "#0d0887"
             ],
             [
              0.1111111111111111,
              "#46039f"
             ],
             [
              0.2222222222222222,
              "#7201a8"
             ],
             [
              0.3333333333333333,
              "#9c179e"
             ],
             [
              0.4444444444444444,
              "#bd3786"
             ],
             [
              0.5555555555555556,
              "#d8576b"
             ],
             [
              0.6666666666666666,
              "#ed7953"
             ],
             [
              0.7777777777777778,
              "#fb9f3a"
             ],
             [
              0.8888888888888888,
              "#fdca26"
             ],
             [
              1,
              "#f0f921"
             ]
            ],
            "type": "surface"
           }
          ],
          "table": [
           {
            "cells": {
             "fill": {
              "color": "#EBF0F8"
             },
             "line": {
              "color": "white"
             }
            },
            "header": {
             "fill": {
              "color": "#C8D4E3"
             },
             "line": {
              "color": "white"
             }
            },
            "type": "table"
           }
          ]
         },
         "layout": {
          "annotationdefaults": {
           "arrowcolor": "#2a3f5f",
           "arrowhead": 0,
           "arrowwidth": 1
          },
          "autotypenumbers": "strict",
          "coloraxis": {
           "colorbar": {
            "outlinewidth": 0,
            "ticks": ""
           }
          },
          "colorscale": {
           "diverging": [
            [
             0,
             "#8e0152"
            ],
            [
             0.1,
             "#c51b7d"
            ],
            [
             0.2,
             "#de77ae"
            ],
            [
             0.3,
             "#f1b6da"
            ],
            [
             0.4,
             "#fde0ef"
            ],
            [
             0.5,
             "#f7f7f7"
            ],
            [
             0.6,
             "#e6f5d0"
            ],
            [
             0.7,
             "#b8e186"
            ],
            [
             0.8,
             "#7fbc41"
            ],
            [
             0.9,
             "#4d9221"
            ],
            [
             1,
             "#276419"
            ]
           ],
           "sequential": [
            [
             0,
             "#0d0887"
            ],
            [
             0.1111111111111111,
             "#46039f"
            ],
            [
             0.2222222222222222,
             "#7201a8"
            ],
            [
             0.3333333333333333,
             "#9c179e"
            ],
            [
             0.4444444444444444,
             "#bd3786"
            ],
            [
             0.5555555555555556,
             "#d8576b"
            ],
            [
             0.6666666666666666,
             "#ed7953"
            ],
            [
             0.7777777777777778,
             "#fb9f3a"
            ],
            [
             0.8888888888888888,
             "#fdca26"
            ],
            [
             1,
             "#f0f921"
            ]
           ],
           "sequentialminus": [
            [
             0,
             "#0d0887"
            ],
            [
             0.1111111111111111,
             "#46039f"
            ],
            [
             0.2222222222222222,
             "#7201a8"
            ],
            [
             0.3333333333333333,
             "#9c179e"
            ],
            [
             0.4444444444444444,
             "#bd3786"
            ],
            [
             0.5555555555555556,
             "#d8576b"
            ],
            [
             0.6666666666666666,
             "#ed7953"
            ],
            [
             0.7777777777777778,
             "#fb9f3a"
            ],
            [
             0.8888888888888888,
             "#fdca26"
            ],
            [
             1,
             "#f0f921"
            ]
           ]
          },
          "colorway": [
           "#636efa",
           "#EF553B",
           "#00cc96",
           "#ab63fa",
           "#FFA15A",
           "#19d3f3",
           "#FF6692",
           "#B6E880",
           "#FF97FF",
           "#FECB52"
          ],
          "font": {
           "color": "#2a3f5f"
          },
          "geo": {
           "bgcolor": "white",
           "lakecolor": "white",
           "landcolor": "#E5ECF6",
           "showlakes": true,
           "showland": true,
           "subunitcolor": "white"
          },
          "hoverlabel": {
           "align": "left"
          },
          "hovermode": "closest",
          "mapbox": {
           "style": "light"
          },
          "paper_bgcolor": "white",
          "plot_bgcolor": "#E5ECF6",
          "polar": {
           "angularaxis": {
            "gridcolor": "white",
            "linecolor": "white",
            "ticks": ""
           },
           "bgcolor": "#E5ECF6",
           "radialaxis": {
            "gridcolor": "white",
            "linecolor": "white",
            "ticks": ""
           }
          },
          "scene": {
           "xaxis": {
            "backgroundcolor": "#E5ECF6",
            "gridcolor": "white",
            "gridwidth": 2,
            "linecolor": "white",
            "showbackground": true,
            "ticks": "",
            "zerolinecolor": "white"
           },
           "yaxis": {
            "backgroundcolor": "#E5ECF6",
            "gridcolor": "white",
            "gridwidth": 2,
            "linecolor": "white",
            "showbackground": true,
            "ticks": "",
            "zerolinecolor": "white"
           },
           "zaxis": {
            "backgroundcolor": "#E5ECF6",
            "gridcolor": "white",
            "gridwidth": 2,
            "linecolor": "white",
            "showbackground": true,
            "ticks": "",
            "zerolinecolor": "white"
           }
          },
          "shapedefaults": {
           "line": {
            "color": "#2a3f5f"
           }
          },
          "ternary": {
           "aaxis": {
            "gridcolor": "white",
            "linecolor": "white",
            "ticks": ""
           },
           "baxis": {
            "gridcolor": "white",
            "linecolor": "white",
            "ticks": ""
           },
           "bgcolor": "#E5ECF6",
           "caxis": {
            "gridcolor": "white",
            "linecolor": "white",
            "ticks": ""
           }
          },
          "title": {
           "x": 0.05
          },
          "xaxis": {
           "automargin": true,
           "gridcolor": "white",
           "linecolor": "white",
           "ticks": "",
           "title": {
            "standoff": 15
           },
           "zerolinecolor": "white",
           "zerolinewidth": 2
          },
          "yaxis": {
           "automargin": true,
           "gridcolor": "white",
           "linecolor": "white",
           "ticks": "",
           "title": {
            "standoff": 15
           },
           "zerolinecolor": "white",
           "zerolinewidth": 2
          }
         }
        },
        "title": {
         "text": "Daily Power Consumption"
        },
        "xaxis": {
         "title": {
          "text": "Date"
         }
        },
        "yaxis": {
         "title": {
          "text": "Kilowatts"
         }
        }
       }
      },
      "text/html": [
       "<div>                            <div id=\"4c15bc42-fa89-45a3-9266-f7d9ab765357\" class=\"plotly-graph-div\" style=\"height:525px; width:100%;\"></div>            <script type=\"text/javascript\">                require([\"plotly\"], function(Plotly) {                    window.PLOTLYENV=window.PLOTLYENV || {};                                    if (document.getElementById(\"4c15bc42-fa89-45a3-9266-f7d9ab765357\")) {                    Plotly.newPlot(                        \"4c15bc42-fa89-45a3-9266-f7d9ab765357\",                        [{\"marker\":{\"color\":\"rgba(214, 40, 40, 1)\"},\"mode\":\"lines\",\"name\":\"train data\",\"x\":[\"2006-12-16T00:00:00\",\"2006-12-17T00:00:00\",\"2006-12-18T00:00:00\",\"2006-12-19T00:00:00\",\"2006-12-20T00:00:00\",\"2006-12-21T00:00:00\",\"2006-12-22T00:00:00\",\"2006-12-23T00:00:00\",\"2006-12-24T00:00:00\",\"2006-12-25T00:00:00\",\"2006-12-26T00:00:00\",\"2006-12-27T00:00:00\",\"2006-12-28T00:00:00\",\"2006-12-29T00:00:00\",\"2006-12-30T00:00:00\",\"2006-12-31T00:00:00\",\"2007-01-01T00:00:00\",\"2007-01-02T00:00:00\",\"2007-01-03T00:00:00\",\"2007-01-04T00:00:00\",\"2007-01-05T00:00:00\",\"2007-01-06T00:00:00\",\"2007-01-07T00:00:00\",\"2007-01-08T00:00:00\",\"2007-01-09T00:00:00\",\"2007-01-10T00:00:00\",\"2007-01-11T00:00:00\",\"2007-01-12T00:00:00\",\"2007-01-13T00:00:00\",\"2007-01-14T00:00:00\",\"2007-01-15T00:00:00\",\"2007-01-16T00:00:00\",\"2007-01-17T00:00:00\",\"2007-01-18T00:00:00\",\"2007-01-19T00:00:00\",\"2007-01-20T00:00:00\",\"2007-01-21T00:00:00\",\"2007-01-22T00:00:00\",\"2007-01-23T00:00:00\",\"2007-01-24T00:00:00\",\"2007-01-25T00:00:00\",\"2007-01-26T00:00:00\",\"2007-01-27T00:00:00\",\"2007-01-28T00:00:00\",\"2007-01-29T00:00:00\",\"2007-01-30T00:00:00\",\"2007-01-31T00:00:00\",\"2007-02-01T00:00:00\",\"2007-02-02T00:00:00\",\"2007-02-03T00:00:00\",\"2007-02-04T00:00:00\",\"2007-02-05T00:00:00\",\"2007-02-06T00:00:00\",\"2007-02-07T00:00:00\",\"2007-02-08T00:00:00\",\"2007-02-09T00:00:00\",\"2007-02-10T00:00:00\",\"2007-02-11T00:00:00\",\"2007-02-12T00:00:00\",\"2007-02-13T00:00:00\",\"2007-02-14T00:00:00\",\"2007-02-15T00:00:00\",\"2007-02-16T00:00:00\",\"2007-02-17T00:00:00\",\"2007-02-18T00:00:00\",\"2007-02-19T00:00:00\",\"2007-02-20T00:00:00\",\"2007-02-21T00:00:00\",\"2007-02-22T00:00:00\",\"2007-02-23T00:00:00\",\"2007-02-24T00:00:00\",\"2007-02-25T00:00:00\",\"2007-02-26T00:00:00\",\"2007-02-27T00:00:00\",\"2007-02-28T00:00:00\",\"2007-03-01T00:00:00\",\"2007-03-02T00:00:00\",\"2007-03-03T00:00:00\",\"2007-03-04T00:00:00\",\"2007-03-05T00:00:00\",\"2007-03-06T00:00:00\",\"2007-03-07T00:00:00\",\"2007-03-08T00:00:00\",\"2007-03-09T00:00:00\",\"2007-03-10T00:00:00\",\"2007-03-11T00:00:00\",\"2007-03-12T00:00:00\",\"2007-03-13T00:00:00\",\"2007-03-14T00:00:00\",\"2007-03-15T00:00:00\",\"2007-03-16T00:00:00\",\"2007-03-17T00:00:00\",\"2007-03-18T00:00:00\",\"2007-03-19T00:00:00\",\"2007-03-20T00:00:00\",\"2007-03-21T00:00:00\",\"2007-03-22T00:00:00\",\"2007-03-23T00:00:00\",\"2007-03-24T00:00:00\",\"2007-03-25T00:00:00\",\"2007-03-26T00:00:00\",\"2007-03-27T00:00:00\",\"2007-03-28T00:00:00\",\"2007-03-29T00:00:00\",\"2007-03-30T00:00:00\",\"2007-03-31T00:00:00\",\"2007-04-01T00:00:00\",\"2007-04-02T00:00:00\",\"2007-04-03T00:00:00\",\"2007-04-04T00:00:00\",\"2007-04-05T00:00:00\",\"2007-04-06T00:00:00\",\"2007-04-07T00:00:00\",\"2007-04-08T00:00:00\",\"2007-04-09T00:00:00\",\"2007-04-10T00:00:00\",\"2007-04-11T00:00:00\",\"2007-04-12T00:00:00\",\"2007-04-13T00:00:00\",\"2007-04-14T00:00:00\",\"2007-04-15T00:00:00\",\"2007-04-16T00:00:00\",\"2007-04-17T00:00:00\",\"2007-04-18T00:00:00\",\"2007-04-19T00:00:00\",\"2007-04-20T00:00:00\",\"2007-04-21T00:00:00\",\"2007-04-22T00:00:00\",\"2007-04-23T00:00:00\",\"2007-04-24T00:00:00\",\"2007-04-25T00:00:00\",\"2007-04-26T00:00:00\",\"2007-04-27T00:00:00\",\"2007-04-28T00:00:00\",\"2007-04-29T00:00:00\",\"2007-04-30T00:00:00\",\"2007-05-01T00:00:00\",\"2007-05-02T00:00:00\",\"2007-05-03T00:00:00\",\"2007-05-04T00:00:00\",\"2007-05-05T00:00:00\",\"2007-05-06T00:00:00\",\"2007-05-07T00:00:00\",\"2007-05-08T00:00:00\",\"2007-05-09T00:00:00\",\"2007-05-10T00:00:00\",\"2007-05-11T00:00:00\",\"2007-05-12T00:00:00\",\"2007-05-13T00:00:00\",\"2007-05-14T00:00:00\",\"2007-05-15T00:00:00\",\"2007-05-16T00:00:00\",\"2007-05-17T00:00:00\",\"2007-05-18T00:00:00\",\"2007-05-19T00:00:00\",\"2007-05-20T00:00:00\",\"2007-05-21T00:00:00\",\"2007-05-22T00:00:00\",\"2007-05-23T00:00:00\",\"2007-05-24T00:00:00\",\"2007-05-25T00:00:00\",\"2007-05-26T00:00:00\",\"2007-05-27T00:00:00\",\"2007-05-28T00:00:00\",\"2007-05-29T00:00:00\",\"2007-05-30T00:00:00\",\"2007-05-31T00:00:00\",\"2007-06-01T00:00:00\",\"2007-06-02T00:00:00\",\"2007-06-03T00:00:00\",\"2007-06-04T00:00:00\",\"2007-06-05T00:00:00\",\"2007-06-06T00:00:00\",\"2007-06-07T00:00:00\",\"2007-06-08T00:00:00\",\"2007-06-09T00:00:00\",\"2007-06-10T00:00:00\",\"2007-06-11T00:00:00\",\"2007-06-12T00:00:00\",\"2007-06-13T00:00:00\",\"2007-06-14T00:00:00\",\"2007-06-15T00:00:00\",\"2007-06-16T00:00:00\",\"2007-06-17T00:00:00\",\"2007-06-18T00:00:00\",\"2007-06-19T00:00:00\",\"2007-06-20T00:00:00\",\"2007-06-21T00:00:00\",\"2007-06-22T00:00:00\",\"2007-06-23T00:00:00\",\"2007-06-24T00:00:00\",\"2007-06-25T00:00:00\",\"2007-06-26T00:00:00\",\"2007-06-27T00:00:00\",\"2007-06-28T00:00:00\",\"2007-06-29T00:00:00\",\"2007-06-30T00:00:00\",\"2007-07-01T00:00:00\",\"2007-07-02T00:00:00\",\"2007-07-03T00:00:00\",\"2007-07-04T00:00:00\",\"2007-07-05T00:00:00\",\"2007-07-06T00:00:00\",\"2007-07-07T00:00:00\",\"2007-07-08T00:00:00\",\"2007-07-09T00:00:00\",\"2007-07-10T00:00:00\",\"2007-07-11T00:00:00\",\"2007-07-12T00:00:00\",\"2007-07-13T00:00:00\",\"2007-07-14T00:00:00\",\"2007-07-15T00:00:00\",\"2007-07-16T00:00:00\",\"2007-07-17T00:00:00\",\"2007-07-18T00:00:00\",\"2007-07-19T00:00:00\",\"2007-07-20T00:00:00\",\"2007-07-21T00:00:00\",\"2007-07-22T00:00:00\",\"2007-07-23T00:00:00\",\"2007-07-24T00:00:00\",\"2007-07-25T00:00:00\",\"2007-07-26T00:00:00\",\"2007-07-27T00:00:00\",\"2007-07-28T00:00:00\",\"2007-07-29T00:00:00\",\"2007-07-30T00:00:00\",\"2007-07-31T00:00:00\",\"2007-08-01T00:00:00\",\"2007-08-02T00:00:00\",\"2007-08-03T00:00:00\",\"2007-08-04T00:00:00\",\"2007-08-05T00:00:00\",\"2007-08-06T00:00:00\",\"2007-08-07T00:00:00\",\"2007-08-08T00:00:00\",\"2007-08-09T00:00:00\",\"2007-08-10T00:00:00\",\"2007-08-11T00:00:00\",\"2007-08-12T00:00:00\",\"2007-08-13T00:00:00\",\"2007-08-14T00:00:00\",\"2007-08-15T00:00:00\",\"2007-08-16T00:00:00\",\"2007-08-17T00:00:00\",\"2007-08-18T00:00:00\",\"2007-08-19T00:00:00\",\"2007-08-20T00:00:00\",\"2007-08-21T00:00:00\",\"2007-08-22T00:00:00\",\"2007-08-23T00:00:00\",\"2007-08-24T00:00:00\",\"2007-08-25T00:00:00\",\"2007-08-26T00:00:00\",\"2007-08-27T00:00:00\",\"2007-08-28T00:00:00\",\"2007-08-29T00:00:00\",\"2007-08-30T00:00:00\",\"2007-08-31T00:00:00\",\"2007-09-01T00:00:00\",\"2007-09-02T00:00:00\",\"2007-09-03T00:00:00\",\"2007-09-04T00:00:00\",\"2007-09-05T00:00:00\",\"2007-09-06T00:00:00\",\"2007-09-07T00:00:00\",\"2007-09-08T00:00:00\",\"2007-09-09T00:00:00\",\"2007-09-10T00:00:00\",\"2007-09-11T00:00:00\",\"2007-09-12T00:00:00\",\"2007-09-13T00:00:00\",\"2007-09-14T00:00:00\",\"2007-09-15T00:00:00\",\"2007-09-16T00:00:00\",\"2007-09-17T00:00:00\",\"2007-09-18T00:00:00\",\"2007-09-19T00:00:00\",\"2007-09-20T00:00:00\",\"2007-09-21T00:00:00\",\"2007-09-22T00:00:00\",\"2007-09-23T00:00:00\",\"2007-09-24T00:00:00\",\"2007-09-25T00:00:00\",\"2007-09-26T00:00:00\",\"2007-09-27T00:00:00\",\"2007-09-28T00:00:00\",\"2007-09-29T00:00:00\",\"2007-09-30T00:00:00\",\"2007-10-01T00:00:00\",\"2007-10-02T00:00:00\",\"2007-10-03T00:00:00\",\"2007-10-04T00:00:00\",\"2007-10-05T00:00:00\",\"2007-10-06T00:00:00\",\"2007-10-07T00:00:00\",\"2007-10-08T00:00:00\",\"2007-10-09T00:00:00\",\"2007-10-10T00:00:00\",\"2007-10-11T00:00:00\",\"2007-10-12T00:00:00\",\"2007-10-13T00:00:00\",\"2007-10-14T00:00:00\",\"2007-10-15T00:00:00\",\"2007-10-16T00:00:00\",\"2007-10-17T00:00:00\",\"2007-10-18T00:00:00\",\"2007-10-19T00:00:00\",\"2007-10-20T00:00:00\",\"2007-10-21T00:00:00\",\"2007-10-22T00:00:00\",\"2007-10-23T00:00:00\",\"2007-10-24T00:00:00\",\"2007-10-25T00:00:00\",\"2007-10-26T00:00:00\",\"2007-10-27T00:00:00\",\"2007-10-28T00:00:00\",\"2007-10-29T00:00:00\",\"2007-10-30T00:00:00\",\"2007-10-31T00:00:00\",\"2007-11-01T00:00:00\",\"2007-11-02T00:00:00\",\"2007-11-03T00:00:00\",\"2007-11-04T00:00:00\",\"2007-11-05T00:00:00\",\"2007-11-06T00:00:00\",\"2007-11-07T00:00:00\",\"2007-11-08T00:00:00\",\"2007-11-09T00:00:00\",\"2007-11-10T00:00:00\",\"2007-11-11T00:00:00\",\"2007-11-12T00:00:00\",\"2007-11-13T00:00:00\",\"2007-11-14T00:00:00\",\"2007-11-15T00:00:00\",\"2007-11-16T00:00:00\",\"2007-11-17T00:00:00\",\"2007-11-18T00:00:00\",\"2007-11-19T00:00:00\",\"2007-11-20T00:00:00\",\"2007-11-21T00:00:00\",\"2007-11-22T00:00:00\",\"2007-11-23T00:00:00\",\"2007-11-24T00:00:00\",\"2007-11-25T00:00:00\",\"2007-11-26T00:00:00\",\"2007-11-27T00:00:00\",\"2007-11-28T00:00:00\",\"2007-11-29T00:00:00\",\"2007-11-30T00:00:00\",\"2007-12-01T00:00:00\",\"2007-12-02T00:00:00\",\"2007-12-03T00:00:00\",\"2007-12-04T00:00:00\",\"2007-12-05T00:00:00\",\"2007-12-06T00:00:00\",\"2007-12-07T00:00:00\",\"2007-12-08T00:00:00\",\"2007-12-09T00:00:00\",\"2007-12-10T00:00:00\",\"2007-12-11T00:00:00\",\"2007-12-12T00:00:00\",\"2007-12-13T00:00:00\",\"2007-12-14T00:00:00\",\"2007-12-15T00:00:00\",\"2007-12-16T00:00:00\",\"2007-12-17T00:00:00\",\"2007-12-18T00:00:00\",\"2007-12-19T00:00:00\",\"2007-12-20T00:00:00\",\"2007-12-21T00:00:00\",\"2007-12-22T00:00:00\",\"2007-12-23T00:00:00\",\"2007-12-24T00:00:00\",\"2007-12-25T00:00:00\",\"2007-12-26T00:00:00\",\"2007-12-27T00:00:00\",\"2007-12-28T00:00:00\",\"2007-12-29T00:00:00\",\"2007-12-30T00:00:00\",\"2007-12-31T00:00:00\",\"2008-01-01T00:00:00\",\"2008-01-02T00:00:00\",\"2008-01-03T00:00:00\",\"2008-01-04T00:00:00\",\"2008-01-05T00:00:00\",\"2008-01-06T00:00:00\",\"2008-01-07T00:00:00\",\"2008-01-08T00:00:00\",\"2008-01-09T00:00:00\",\"2008-01-10T00:00:00\",\"2008-01-11T00:00:00\",\"2008-01-12T00:00:00\",\"2008-01-13T00:00:00\",\"2008-01-14T00:00:00\",\"2008-01-15T00:00:00\",\"2008-01-16T00:00:00\",\"2008-01-17T00:00:00\",\"2008-01-18T00:00:00\",\"2008-01-19T00:00:00\",\"2008-01-20T00:00:00\",\"2008-01-21T00:00:00\",\"2008-01-22T00:00:00\",\"2008-01-23T00:00:00\",\"2008-01-24T00:00:00\",\"2008-01-25T00:00:00\",\"2008-01-26T00:00:00\",\"2008-01-27T00:00:00\",\"2008-01-28T00:00:00\",\"2008-01-29T00:00:00\",\"2008-01-30T00:00:00\",\"2008-01-31T00:00:00\",\"2008-02-01T00:00:00\",\"2008-02-02T00:00:00\",\"2008-02-03T00:00:00\",\"2008-02-04T00:00:00\",\"2008-02-05T00:00:00\",\"2008-02-06T00:00:00\",\"2008-02-07T00:00:00\",\"2008-02-08T00:00:00\",\"2008-02-09T00:00:00\",\"2008-02-10T00:00:00\",\"2008-02-11T00:00:00\",\"2008-02-12T00:00:00\",\"2008-02-13T00:00:00\",\"2008-02-14T00:00:00\",\"2008-02-15T00:00:00\",\"2008-02-16T00:00:00\",\"2008-02-17T00:00:00\",\"2008-02-18T00:00:00\",\"2008-02-19T00:00:00\",\"2008-02-20T00:00:00\",\"2008-02-21T00:00:00\",\"2008-02-22T00:00:00\",\"2008-02-23T00:00:00\",\"2008-02-24T00:00:00\",\"2008-02-25T00:00:00\",\"2008-02-26T00:00:00\",\"2008-02-27T00:00:00\",\"2008-02-28T00:00:00\",\"2008-02-29T00:00:00\",\"2008-03-01T00:00:00\",\"2008-03-02T00:00:00\",\"2008-03-03T00:00:00\",\"2008-03-04T00:00:00\",\"2008-03-05T00:00:00\",\"2008-03-06T00:00:00\",\"2008-03-07T00:00:00\",\"2008-03-08T00:00:00\",\"2008-03-09T00:00:00\",\"2008-03-10T00:00:00\",\"2008-03-11T00:00:00\",\"2008-03-12T00:00:00\",\"2008-03-13T00:00:00\",\"2008-03-14T00:00:00\",\"2008-03-15T00:00:00\",\"2008-03-16T00:00:00\",\"2008-03-17T00:00:00\",\"2008-03-18T00:00:00\",\"2008-03-19T00:00:00\",\"2008-03-20T00:00:00\",\"2008-03-21T00:00:00\",\"2008-03-22T00:00:00\",\"2008-03-23T00:00:00\",\"2008-03-24T00:00:00\",\"2008-03-25T00:00:00\",\"2008-03-26T00:00:00\",\"2008-03-27T00:00:00\",\"2008-03-28T00:00:00\",\"2008-03-29T00:00:00\",\"2008-03-30T00:00:00\",\"2008-03-31T00:00:00\",\"2008-04-01T00:00:00\",\"2008-04-02T00:00:00\",\"2008-04-03T00:00:00\",\"2008-04-04T00:00:00\",\"2008-04-05T00:00:00\",\"2008-04-06T00:00:00\",\"2008-04-07T00:00:00\",\"2008-04-08T00:00:00\",\"2008-04-09T00:00:00\",\"2008-04-10T00:00:00\",\"2008-04-11T00:00:00\",\"2008-04-12T00:00:00\",\"2008-04-13T00:00:00\",\"2008-04-14T00:00:00\",\"2008-04-15T00:00:00\",\"2008-04-16T00:00:00\",\"2008-04-17T00:00:00\",\"2008-04-18T00:00:00\",\"2008-04-19T00:00:00\",\"2008-04-20T00:00:00\",\"2008-04-21T00:00:00\",\"2008-04-22T00:00:00\",\"2008-04-23T00:00:00\",\"2008-04-24T00:00:00\",\"2008-04-25T00:00:00\",\"2008-04-26T00:00:00\",\"2008-04-27T00:00:00\",\"2008-04-28T00:00:00\",\"2008-04-29T00:00:00\",\"2008-04-30T00:00:00\",\"2008-05-01T00:00:00\",\"2008-05-02T00:00:00\",\"2008-05-03T00:00:00\",\"2008-05-04T00:00:00\",\"2008-05-05T00:00:00\",\"2008-05-06T00:00:00\",\"2008-05-07T00:00:00\",\"2008-05-08T00:00:00\",\"2008-05-09T00:00:00\",\"2008-05-10T00:00:00\",\"2008-05-11T00:00:00\",\"2008-05-12T00:00:00\",\"2008-05-13T00:00:00\",\"2008-05-14T00:00:00\",\"2008-05-15T00:00:00\",\"2008-05-16T00:00:00\",\"2008-05-17T00:00:00\",\"2008-05-18T00:00:00\",\"2008-05-19T00:00:00\",\"2008-05-20T00:00:00\",\"2008-05-21T00:00:00\",\"2008-05-22T00:00:00\",\"2008-05-23T00:00:00\",\"2008-05-24T00:00:00\",\"2008-05-25T00:00:00\",\"2008-05-26T00:00:00\",\"2008-05-27T00:00:00\",\"2008-05-28T00:00:00\",\"2008-05-29T00:00:00\",\"2008-05-30T00:00:00\",\"2008-05-31T00:00:00\",\"2008-06-01T00:00:00\",\"2008-06-02T00:00:00\",\"2008-06-03T00:00:00\",\"2008-06-04T00:00:00\",\"2008-06-05T00:00:00\",\"2008-06-06T00:00:00\",\"2008-06-07T00:00:00\",\"2008-06-08T00:00:00\",\"2008-06-09T00:00:00\",\"2008-06-10T00:00:00\",\"2008-06-11T00:00:00\",\"2008-06-12T00:00:00\",\"2008-06-13T00:00:00\",\"2008-06-14T00:00:00\",\"2008-06-15T00:00:00\",\"2008-06-16T00:00:00\",\"2008-06-17T00:00:00\",\"2008-06-18T00:00:00\",\"2008-06-19T00:00:00\",\"2008-06-20T00:00:00\",\"2008-06-21T00:00:00\",\"2008-06-22T00:00:00\",\"2008-06-23T00:00:00\",\"2008-06-24T00:00:00\",\"2008-06-25T00:00:00\",\"2008-06-26T00:00:00\",\"2008-06-27T00:00:00\",\"2008-06-28T00:00:00\",\"2008-06-29T00:00:00\",\"2008-06-30T00:00:00\",\"2008-07-01T00:00:00\",\"2008-07-02T00:00:00\",\"2008-07-03T00:00:00\",\"2008-07-04T00:00:00\",\"2008-07-05T00:00:00\",\"2008-07-06T00:00:00\",\"2008-07-07T00:00:00\",\"2008-07-08T00:00:00\",\"2008-07-09T00:00:00\",\"2008-07-10T00:00:00\",\"2008-07-11T00:00:00\",\"2008-07-12T00:00:00\",\"2008-07-13T00:00:00\",\"2008-07-14T00:00:00\",\"2008-07-15T00:00:00\",\"2008-07-16T00:00:00\",\"2008-07-17T00:00:00\",\"2008-07-18T00:00:00\",\"2008-07-19T00:00:00\",\"2008-07-20T00:00:00\",\"2008-07-21T00:00:00\",\"2008-07-22T00:00:00\",\"2008-07-23T00:00:00\",\"2008-07-24T00:00:00\",\"2008-07-25T00:00:00\",\"2008-07-26T00:00:00\",\"2008-07-27T00:00:00\",\"2008-07-28T00:00:00\",\"2008-07-29T00:00:00\",\"2008-07-30T00:00:00\",\"2008-07-31T00:00:00\",\"2008-08-01T00:00:00\",\"2008-08-02T00:00:00\",\"2008-08-03T00:00:00\",\"2008-08-04T00:00:00\",\"2008-08-05T00:00:00\",\"2008-08-06T00:00:00\",\"2008-08-07T00:00:00\",\"2008-08-08T00:00:00\",\"2008-08-09T00:00:00\",\"2008-08-10T00:00:00\",\"2008-08-11T00:00:00\",\"2008-08-12T00:00:00\",\"2008-08-13T00:00:00\",\"2008-08-14T00:00:00\",\"2008-08-15T00:00:00\",\"2008-08-16T00:00:00\",\"2008-08-17T00:00:00\",\"2008-08-18T00:00:00\",\"2008-08-19T00:00:00\",\"2008-08-20T00:00:00\",\"2008-08-21T00:00:00\",\"2008-08-22T00:00:00\",\"2008-08-23T00:00:00\",\"2008-08-24T00:00:00\",\"2008-08-25T00:00:00\",\"2008-08-26T00:00:00\",\"2008-08-27T00:00:00\",\"2008-08-28T00:00:00\",\"2008-08-29T00:00:00\",\"2008-08-30T00:00:00\",\"2008-08-31T00:00:00\",\"2008-09-01T00:00:00\",\"2008-09-02T00:00:00\",\"2008-09-03T00:00:00\",\"2008-09-04T00:00:00\",\"2008-09-05T00:00:00\",\"2008-09-06T00:00:00\",\"2008-09-07T00:00:00\",\"2008-09-08T00:00:00\",\"2008-09-09T00:00:00\",\"2008-09-10T00:00:00\",\"2008-09-11T00:00:00\",\"2008-09-12T00:00:00\",\"2008-09-13T00:00:00\",\"2008-09-14T00:00:00\",\"2008-09-15T00:00:00\",\"2008-09-16T00:00:00\",\"2008-09-17T00:00:00\",\"2008-09-18T00:00:00\",\"2008-09-19T00:00:00\",\"2008-09-20T00:00:00\",\"2008-09-21T00:00:00\",\"2008-09-22T00:00:00\",\"2008-09-23T00:00:00\",\"2008-09-24T00:00:00\",\"2008-09-25T00:00:00\",\"2008-09-26T00:00:00\",\"2008-09-27T00:00:00\",\"2008-09-28T00:00:00\",\"2008-09-29T00:00:00\",\"2008-09-30T00:00:00\",\"2008-10-01T00:00:00\",\"2008-10-02T00:00:00\",\"2008-10-03T00:00:00\",\"2008-10-04T00:00:00\",\"2008-10-05T00:00:00\",\"2008-10-06T00:00:00\",\"2008-10-07T00:00:00\",\"2008-10-08T00:00:00\",\"2008-10-09T00:00:00\",\"2008-10-10T00:00:00\",\"2008-10-11T00:00:00\",\"2008-10-12T00:00:00\",\"2008-10-13T00:00:00\",\"2008-10-14T00:00:00\",\"2008-10-15T00:00:00\",\"2008-10-16T00:00:00\",\"2008-10-17T00:00:00\",\"2008-10-18T00:00:00\",\"2008-10-19T00:00:00\",\"2008-10-20T00:00:00\",\"2008-10-21T00:00:00\",\"2008-10-22T00:00:00\",\"2008-10-23T00:00:00\",\"2008-10-24T00:00:00\",\"2008-10-25T00:00:00\",\"2008-10-26T00:00:00\",\"2008-10-27T00:00:00\",\"2008-10-28T00:00:00\",\"2008-10-29T00:00:00\",\"2008-10-30T00:00:00\",\"2008-10-31T00:00:00\",\"2008-11-01T00:00:00\",\"2008-11-02T00:00:00\",\"2008-11-03T00:00:00\",\"2008-11-04T00:00:00\",\"2008-11-05T00:00:00\",\"2008-11-06T00:00:00\",\"2008-11-07T00:00:00\",\"2008-11-08T00:00:00\",\"2008-11-09T00:00:00\",\"2008-11-10T00:00:00\",\"2008-11-11T00:00:00\",\"2008-11-12T00:00:00\",\"2008-11-13T00:00:00\",\"2008-11-14T00:00:00\",\"2008-11-15T00:00:00\",\"2008-11-16T00:00:00\",\"2008-11-17T00:00:00\",\"2008-11-18T00:00:00\",\"2008-11-19T00:00:00\",\"2008-11-20T00:00:00\",\"2008-11-21T00:00:00\",\"2008-11-22T00:00:00\",\"2008-11-23T00:00:00\",\"2008-11-24T00:00:00\",\"2008-11-25T00:00:00\",\"2008-11-26T00:00:00\",\"2008-11-27T00:00:00\",\"2008-11-28T00:00:00\",\"2008-11-29T00:00:00\",\"2008-11-30T00:00:00\",\"2008-12-01T00:00:00\",\"2008-12-02T00:00:00\",\"2008-12-03T00:00:00\",\"2008-12-04T00:00:00\",\"2008-12-05T00:00:00\",\"2008-12-06T00:00:00\",\"2008-12-07T00:00:00\",\"2008-12-08T00:00:00\",\"2008-12-09T00:00:00\",\"2008-12-10T00:00:00\",\"2008-12-11T00:00:00\",\"2008-12-12T00:00:00\",\"2008-12-13T00:00:00\",\"2008-12-14T00:00:00\",\"2008-12-15T00:00:00\",\"2008-12-16T00:00:00\",\"2008-12-17T00:00:00\",\"2008-12-18T00:00:00\",\"2008-12-19T00:00:00\",\"2008-12-20T00:00:00\",\"2008-12-21T00:00:00\",\"2008-12-22T00:00:00\",\"2008-12-23T00:00:00\",\"2008-12-24T00:00:00\",\"2008-12-25T00:00:00\",\"2008-12-26T00:00:00\",\"2008-12-27T00:00:00\",\"2008-12-28T00:00:00\",\"2008-12-29T00:00:00\",\"2008-12-30T00:00:00\",\"2008-12-31T00:00:00\",\"2009-01-01T00:00:00\",\"2009-01-02T00:00:00\",\"2009-01-03T00:00:00\",\"2009-01-04T00:00:00\",\"2009-01-05T00:00:00\",\"2009-01-06T00:00:00\",\"2009-01-07T00:00:00\",\"2009-01-08T00:00:00\",\"2009-01-09T00:00:00\",\"2009-01-10T00:00:00\",\"2009-01-11T00:00:00\",\"2009-01-12T00:00:00\",\"2009-01-13T00:00:00\",\"2009-01-14T00:00:00\",\"2009-01-15T00:00:00\",\"2009-01-16T00:00:00\",\"2009-01-17T00:00:00\",\"2009-01-18T00:00:00\",\"2009-01-19T00:00:00\",\"2009-01-20T00:00:00\",\"2009-01-21T00:00:00\",\"2009-01-22T00:00:00\",\"2009-01-23T00:00:00\",\"2009-01-24T00:00:00\",\"2009-01-25T00:00:00\",\"2009-01-26T00:00:00\",\"2009-01-27T00:00:00\",\"2009-01-28T00:00:00\",\"2009-01-29T00:00:00\",\"2009-01-30T00:00:00\",\"2009-01-31T00:00:00\",\"2009-02-01T00:00:00\",\"2009-02-02T00:00:00\",\"2009-02-03T00:00:00\",\"2009-02-04T00:00:00\",\"2009-02-05T00:00:00\",\"2009-02-06T00:00:00\",\"2009-02-07T00:00:00\",\"2009-02-08T00:00:00\",\"2009-02-09T00:00:00\",\"2009-02-10T00:00:00\",\"2009-02-11T00:00:00\",\"2009-02-12T00:00:00\",\"2009-02-13T00:00:00\",\"2009-02-14T00:00:00\",\"2009-02-15T00:00:00\",\"2009-02-16T00:00:00\",\"2009-02-17T00:00:00\",\"2009-02-18T00:00:00\",\"2009-02-19T00:00:00\",\"2009-02-20T00:00:00\",\"2009-02-21T00:00:00\",\"2009-02-22T00:00:00\",\"2009-02-23T00:00:00\",\"2009-02-24T00:00:00\",\"2009-02-25T00:00:00\",\"2009-02-26T00:00:00\",\"2009-02-27T00:00:00\",\"2009-02-28T00:00:00\",\"2009-03-01T00:00:00\",\"2009-03-02T00:00:00\",\"2009-03-03T00:00:00\",\"2009-03-04T00:00:00\",\"2009-03-05T00:00:00\",\"2009-03-06T00:00:00\",\"2009-03-07T00:00:00\",\"2009-03-08T00:00:00\",\"2009-03-09T00:00:00\",\"2009-03-10T00:00:00\",\"2009-03-11T00:00:00\",\"2009-03-12T00:00:00\",\"2009-03-13T00:00:00\",\"2009-03-14T00:00:00\",\"2009-03-15T00:00:00\",\"2009-03-16T00:00:00\",\"2009-03-17T00:00:00\",\"2009-03-18T00:00:00\",\"2009-03-19T00:00:00\",\"2009-03-20T00:00:00\",\"2009-03-21T00:00:00\",\"2009-03-22T00:00:00\",\"2009-03-23T00:00:00\",\"2009-03-24T00:00:00\",\"2009-03-25T00:00:00\",\"2009-03-26T00:00:00\",\"2009-03-27T00:00:00\",\"2009-03-28T00:00:00\",\"2009-03-29T00:00:00\",\"2009-03-30T00:00:00\",\"2009-03-31T00:00:00\",\"2009-04-01T00:00:00\",\"2009-04-02T00:00:00\",\"2009-04-03T00:00:00\",\"2009-04-04T00:00:00\",\"2009-04-05T00:00:00\",\"2009-04-06T00:00:00\",\"2009-04-07T00:00:00\",\"2009-04-08T00:00:00\",\"2009-04-09T00:00:00\",\"2009-04-10T00:00:00\",\"2009-04-11T00:00:00\",\"2009-04-12T00:00:00\",\"2009-04-13T00:00:00\",\"2009-04-14T00:00:00\",\"2009-04-15T00:00:00\",\"2009-04-16T00:00:00\",\"2009-04-17T00:00:00\",\"2009-04-18T00:00:00\",\"2009-04-19T00:00:00\",\"2009-04-20T00:00:00\",\"2009-04-21T00:00:00\",\"2009-04-22T00:00:00\",\"2009-04-23T00:00:00\",\"2009-04-24T00:00:00\",\"2009-04-25T00:00:00\",\"2009-04-26T00:00:00\",\"2009-04-27T00:00:00\",\"2009-04-28T00:00:00\",\"2009-04-29T00:00:00\",\"2009-04-30T00:00:00\",\"2009-05-01T00:00:00\",\"2009-05-02T00:00:00\",\"2009-05-03T00:00:00\",\"2009-05-04T00:00:00\",\"2009-05-05T00:00:00\",\"2009-05-06T00:00:00\",\"2009-05-07T00:00:00\",\"2009-05-08T00:00:00\",\"2009-05-09T00:00:00\",\"2009-05-10T00:00:00\",\"2009-05-11T00:00:00\",\"2009-05-12T00:00:00\",\"2009-05-13T00:00:00\",\"2009-05-14T00:00:00\",\"2009-05-15T00:00:00\",\"2009-05-16T00:00:00\",\"2009-05-17T00:00:00\",\"2009-05-18T00:00:00\",\"2009-05-19T00:00:00\",\"2009-05-20T00:00:00\",\"2009-05-21T00:00:00\",\"2009-05-22T00:00:00\",\"2009-05-23T00:00:00\",\"2009-05-24T00:00:00\",\"2009-05-25T00:00:00\",\"2009-05-26T00:00:00\",\"2009-05-27T00:00:00\",\"2009-05-28T00:00:00\",\"2009-05-29T00:00:00\",\"2009-05-30T00:00:00\",\"2009-05-31T00:00:00\",\"2009-06-01T00:00:00\",\"2009-06-02T00:00:00\",\"2009-06-03T00:00:00\",\"2009-06-04T00:00:00\",\"2009-06-05T00:00:00\",\"2009-06-06T00:00:00\",\"2009-06-07T00:00:00\",\"2009-06-08T00:00:00\",\"2009-06-09T00:00:00\",\"2009-06-10T00:00:00\",\"2009-06-11T00:00:00\",\"2009-06-12T00:00:00\",\"2009-06-13T00:00:00\",\"2009-06-14T00:00:00\",\"2009-06-15T00:00:00\",\"2009-06-16T00:00:00\",\"2009-06-17T00:00:00\",\"2009-06-18T00:00:00\",\"2009-06-19T00:00:00\",\"2009-06-20T00:00:00\",\"2009-06-21T00:00:00\",\"2009-06-22T00:00:00\",\"2009-06-23T00:00:00\",\"2009-06-24T00:00:00\",\"2009-06-25T00:00:00\",\"2009-06-26T00:00:00\",\"2009-06-27T00:00:00\",\"2009-06-28T00:00:00\",\"2009-06-29T00:00:00\",\"2009-06-30T00:00:00\",\"2009-07-01T00:00:00\",\"2009-07-02T00:00:00\",\"2009-07-03T00:00:00\",\"2009-07-04T00:00:00\",\"2009-07-05T00:00:00\",\"2009-07-06T00:00:00\",\"2009-07-07T00:00:00\",\"2009-07-08T00:00:00\",\"2009-07-09T00:00:00\",\"2009-07-10T00:00:00\",\"2009-07-11T00:00:00\",\"2009-07-12T00:00:00\",\"2009-07-13T00:00:00\",\"2009-07-14T00:00:00\",\"2009-07-15T00:00:00\",\"2009-07-16T00:00:00\",\"2009-07-17T00:00:00\",\"2009-07-18T00:00:00\",\"2009-07-19T00:00:00\",\"2009-07-20T00:00:00\",\"2009-07-21T00:00:00\",\"2009-07-22T00:00:00\",\"2009-07-23T00:00:00\",\"2009-07-24T00:00:00\",\"2009-07-25T00:00:00\",\"2009-07-26T00:00:00\",\"2009-07-27T00:00:00\",\"2009-07-28T00:00:00\",\"2009-07-29T00:00:00\",\"2009-07-30T00:00:00\",\"2009-07-31T00:00:00\",\"2009-08-01T00:00:00\",\"2009-08-02T00:00:00\",\"2009-08-03T00:00:00\",\"2009-08-04T00:00:00\",\"2009-08-05T00:00:00\",\"2009-08-06T00:00:00\",\"2009-08-07T00:00:00\",\"2009-08-08T00:00:00\",\"2009-08-09T00:00:00\",\"2009-08-10T00:00:00\",\"2009-08-11T00:00:00\",\"2009-08-12T00:00:00\",\"2009-08-13T00:00:00\",\"2009-08-14T00:00:00\",\"2009-08-15T00:00:00\",\"2009-08-16T00:00:00\",\"2009-08-17T00:00:00\",\"2009-08-18T00:00:00\",\"2009-08-19T00:00:00\",\"2009-08-20T00:00:00\",\"2009-08-21T00:00:00\",\"2009-08-22T00:00:00\",\"2009-08-23T00:00:00\",\"2009-08-24T00:00:00\",\"2009-08-25T00:00:00\",\"2009-08-26T00:00:00\",\"2009-08-27T00:00:00\",\"2009-08-28T00:00:00\",\"2009-08-29T00:00:00\",\"2009-08-30T00:00:00\",\"2009-08-31T00:00:00\",\"2009-09-01T00:00:00\",\"2009-09-02T00:00:00\",\"2009-09-03T00:00:00\",\"2009-09-04T00:00:00\",\"2009-09-05T00:00:00\",\"2009-09-06T00:00:00\",\"2009-09-07T00:00:00\",\"2009-09-08T00:00:00\",\"2009-09-09T00:00:00\",\"2009-09-10T00:00:00\",\"2009-09-11T00:00:00\",\"2009-09-12T00:00:00\",\"2009-09-13T00:00:00\",\"2009-09-14T00:00:00\",\"2009-09-15T00:00:00\",\"2009-09-16T00:00:00\",\"2009-09-17T00:00:00\",\"2009-09-18T00:00:00\",\"2009-09-19T00:00:00\",\"2009-09-20T00:00:00\",\"2009-09-21T00:00:00\",\"2009-09-22T00:00:00\",\"2009-09-23T00:00:00\",\"2009-09-24T00:00:00\",\"2009-09-25T00:00:00\",\"2009-09-26T00:00:00\",\"2009-09-27T00:00:00\",\"2009-09-28T00:00:00\",\"2009-09-29T00:00:00\",\"2009-09-30T00:00:00\",\"2009-10-01T00:00:00\",\"2009-10-02T00:00:00\",\"2009-10-03T00:00:00\",\"2009-10-04T00:00:00\",\"2009-10-05T00:00:00\",\"2009-10-06T00:00:00\",\"2009-10-07T00:00:00\",\"2009-10-08T00:00:00\",\"2009-10-09T00:00:00\",\"2009-10-10T00:00:00\",\"2009-10-11T00:00:00\",\"2009-10-12T00:00:00\",\"2009-10-13T00:00:00\",\"2009-10-14T00:00:00\",\"2009-10-15T00:00:00\",\"2009-10-16T00:00:00\",\"2009-10-17T00:00:00\",\"2009-10-18T00:00:00\",\"2009-10-19T00:00:00\",\"2009-10-20T00:00:00\",\"2009-10-21T00:00:00\",\"2009-10-22T00:00:00\",\"2009-10-23T00:00:00\",\"2009-10-24T00:00:00\",\"2009-10-25T00:00:00\",\"2009-10-26T00:00:00\",\"2009-10-27T00:00:00\",\"2009-10-28T00:00:00\",\"2009-10-29T00:00:00\",\"2009-10-30T00:00:00\",\"2009-10-31T00:00:00\",\"2009-11-01T00:00:00\",\"2009-11-02T00:00:00\",\"2009-11-03T00:00:00\",\"2009-11-04T00:00:00\",\"2009-11-05T00:00:00\",\"2009-11-06T00:00:00\",\"2009-11-07T00:00:00\",\"2009-11-08T00:00:00\",\"2009-11-09T00:00:00\",\"2009-11-10T00:00:00\",\"2009-11-11T00:00:00\",\"2009-11-12T00:00:00\",\"2009-11-13T00:00:00\",\"2009-11-14T00:00:00\",\"2009-11-15T00:00:00\",\"2009-11-16T00:00:00\",\"2009-11-17T00:00:00\",\"2009-11-18T00:00:00\",\"2009-11-19T00:00:00\",\"2009-11-20T00:00:00\",\"2009-11-21T00:00:00\",\"2009-11-22T00:00:00\",\"2009-11-23T00:00:00\",\"2009-11-24T00:00:00\",\"2009-11-25T00:00:00\",\"2009-11-26T00:00:00\",\"2009-11-27T00:00:00\",\"2009-11-28T00:00:00\",\"2009-11-29T00:00:00\",\"2009-11-30T00:00:00\",\"2009-12-01T00:00:00\",\"2009-12-02T00:00:00\",\"2009-12-03T00:00:00\",\"2009-12-04T00:00:00\",\"2009-12-05T00:00:00\",\"2009-12-06T00:00:00\",\"2009-12-07T00:00:00\",\"2009-12-08T00:00:00\",\"2009-12-09T00:00:00\",\"2009-12-10T00:00:00\",\"2009-12-11T00:00:00\",\"2009-12-12T00:00:00\",\"2009-12-13T00:00:00\",\"2009-12-14T00:00:00\",\"2009-12-15T00:00:00\",\"2009-12-16T00:00:00\",\"2009-12-17T00:00:00\",\"2009-12-18T00:00:00\",\"2009-12-19T00:00:00\",\"2009-12-20T00:00:00\",\"2009-12-21T00:00:00\",\"2009-12-22T00:00:00\",\"2009-12-23T00:00:00\",\"2009-12-24T00:00:00\",\"2009-12-25T00:00:00\",\"2009-12-26T00:00:00\",\"2009-12-27T00:00:00\",\"2009-12-28T00:00:00\",\"2009-12-29T00:00:00\",\"2009-12-30T00:00:00\",\"2009-12-31T00:00:00\",\"2010-01-01T00:00:00\",\"2010-01-02T00:00:00\",\"2010-01-03T00:00:00\",\"2010-01-04T00:00:00\",\"2010-01-05T00:00:00\",\"2010-01-06T00:00:00\",\"2010-01-07T00:00:00\",\"2010-01-08T00:00:00\",\"2010-01-09T00:00:00\",\"2010-01-10T00:00:00\",\"2010-01-11T00:00:00\",\"2010-01-12T00:00:00\",\"2010-01-13T00:00:00\",\"2010-01-14T00:00:00\",\"2010-01-15T00:00:00\",\"2010-01-16T00:00:00\",\"2010-01-17T00:00:00\",\"2010-01-18T00:00:00\",\"2010-01-19T00:00:00\",\"2010-01-20T00:00:00\",\"2010-01-21T00:00:00\",\"2010-01-22T00:00:00\",\"2010-01-23T00:00:00\",\"2010-01-24T00:00:00\",\"2010-01-25T00:00:00\",\"2010-01-26T00:00:00\",\"2010-01-27T00:00:00\",\"2010-01-28T00:00:00\",\"2010-01-29T00:00:00\",\"2010-01-30T00:00:00\",\"2010-01-31T00:00:00\",\"2010-02-01T00:00:00\",\"2010-02-02T00:00:00\",\"2010-02-03T00:00:00\",\"2010-02-04T00:00:00\",\"2010-02-05T00:00:00\",\"2010-02-06T00:00:00\",\"2010-02-07T00:00:00\",\"2010-02-08T00:00:00\",\"2010-02-09T00:00:00\",\"2010-02-10T00:00:00\"],\"y\":[1209.176,3390.46,2203.826,1666.194,2225.748,1717.114,2341.338,4773.386,2550.012,2743.12,3934.11,1528.76,2072.638,3174.392,2802.336,3494.196,2749.004,1269.236,1014.054,3259.412,2713.364,1508.378,2447.62,2241.36,1869.054,2154.8,2255.194,1461.296,3186.814,3011.029,2148.678,1686.404,2847.688,1821.462,1480.44,3133.732,3407.262,2180.494,1777.64,2987.854,1596.344,1617.972,2044.072,3092.425,1982.664,1707.798,2363.752,1824.76,1667.736,4029.722,3595.94,1645.28,1273.48,2328.018,1801.414,1620.198,2829.328,3571.228,1877.61,1414.546,2498.672,1985.346,1702.528,2076.912,3829.762,2186.614,3149.928,2072.874,3377.42,1313.48,714.922,501.74,568.484,518.112,520.774,517.564,515.688,819.122,2090.7,2660.332,1246.5,2375.206,1572.132,1272.612,2484.712,3480.636,1950.668,1290.144,1793.364,1884.814,1702.054,2028.09,2371.046,2152.518,2086.228,2142.092,1454.978,1309.008,2968.43,3336.653,1416.082,1105.14,2333.898,1590.406,1402.394,3509.51,2785.952,1960.778,1642.82,2051.868,1844.078,1601.14,1553.924,1608.816,1000.92,777.364,887.482,537.706,551.022,554.268,726.164,952.39,1223.734,998.246,1028.658,822.58,1673.656,2233.714,1054.566,1032.1,1264.162,1275.466,1094.332,650.5456670247046,493.38096670247046,647.3593662728249,1663.858,1003.486,1090.238,998.128,1563.052,2102.104,1643.664,1789.292,1665.736,707.884,979.154,1441.566,1634.738,1467.782,904.392,1692.944,1231.816,1631.53,1429.442,1968.328,1120.062,1132.852,1464.936,1154.388,1614.22,1512.248,2153.808,1637.468,1061.34,1609.866,938.55,1045.37,1484.362,2108.026,911.618,1458.892,1695.813,985.002,2148.046,1105.26,1340.812,794.654,918.766,927.272,1259.084,989.604,2017.762,1947.09,678.474,845.306,1074.286,806.946,566.294,477.566,714.656,1072.202,944.908,1480.826,1295.438,1304.482,1335.314,1026.664,967.032,1059.912,1003.41,1057.29,1069.524,1358.206,1089.08,1180.158,908.324,722.352,1069.582,794.382,1288.17,1046.501,853.674,719.632,757.082,677.886,1110.422,1060.248,1377.345,991.018,825.284,472.56,924.5,1202.514,1621.862,321.116,466.816,812.332,1084.173,1019.416,1063.364,1144.99,787.098,1089.72,1483.58,1125.482,1071.68,1028.01,1091.65,1241.904,1153.012,941.19,1191.86,958.496,1009.892,347.96,1422.294,1338.842,642.556,1209.808,1112.312,1656.514,1150.88,1314.906,1211.73,997.004,747.992,1202.458,1279.822,1701.486,1662.468,1038.922,1584.944,1236.572,901.474,1336.496,1469.752,1679.502,1117.376,983.572,1287.764,1146.382,1135.47,1095.312,1652.224,1461.186,1167.52,1298.684,1255.532,1238.78,1176.172,1417.97,1354.53,1764.342,1831.5,1392.6,1680.498,2296.522,1516.29,1720.922,2198.864,1280.454,1518.458,1394.092,1756.24,2106.114,1095.242,1687.858,1166.972,1732.446,1914.504,1926.728,2061.252,1266.33,1964.442,1576.93,1518.53,2085.648,1660.246,1941.94,1652.896,1959.692,1865.636,1853.918,1437.568,1785.688,512.158,545.428,811.008,1283.21,496.216,1443.602,492.55,1485.686,1500.592,2082.378,1844.758,1501.06,2171.226,2611.6,1887.124,2156.146,2214.398,2047.994,1491.988,2309.754,2610.094,2183.858,1723.654,2095.856,1755.06,1932.378,2522.618,1899.054,1395.598,1569.716,2801.012,1644.94,1719.458,2331.728,3134.942,2946.188,1762.06,2067.636,2153.12,2487.934,1769.016,2213.404,2274.584,1758.754,2305.104,1588.062,1847.746,1974.808,2736.876,2762.218,1798.496,2623.194,2196.052,1949.758,1982.576,2611.264,2409.048,2257.848,2694.968,2580.28,2532.198,3113.052,3298.956,2558.916,2216.542,2759.738,1644.106,1510.108,2291.852,2183.248,1825.184,1695.814,2043.55,1788.44,1894.076,1705.818,2871.408,2886.105,2024.932,2686.912,2135.852,1572.282,2186.988,1980.306,1740.368,1858.998,2325.018,1882.308,1645.022,2239.856,2834.988,2381.766,2308.196,2676.024,1640.646,1953.922,1534.652,2940.447,2084.568,1628.138,2472.456,1669.54,1518.31,1950.564,2102.276,2184.714,1692.016,1987.798,1900.498,1604.622,2005.208,2346.948,1933.368,1514.404,2126.916,2253.79,1633.85,1732.564,1836.534,1263.008,504.488,507.12,566.72,509.184,1333.348,1141.876,1162.226,1040.55,1668.99,2037.208,2503.208,1862.956,2248.66,1560.458,1618.686,2200.042,1774.232,1675.514,2210.22,1576.3,1801.96,1706.918,1917.566,1308.448,1253.274,2066.442,2053.516,2325.99,1976.27,2015.856,1633.472,1370.822,1885.424,2471.15,2146.392,1377.57,2129.052,1691.672,1128.756,1631.918,1970.762,1696.318,1538.838,2657.516,1218.852,1477.746,1877.664,2800.014,2232.986,1589.582,1670.406,1489.064,1395.862,1862.39,2253.71,1791.418,1164.156,1627.676,1357.328,1043.772,1267.734,903.166,1008.24,659.052,1972.616,1101.726,576.014,1497.768,1289.6,1470.97,1366.932,1789.98,1176.264,2116.698,1747.272,1909.128,1610.92,1524.204,1476.894,1584.262,1162.768,1651.044,1657.454,1803.958,1030.262,1581.334,1324.112,976.868,1484.916,1580.176,2048.504,1289.71,1708.7,1114.372,1135.076,1397.244,1641.47,1848.876,1074.012,1597.816,1588.912,1120.078,1217.714,1882.484,1542.322,1325.698,1067.09,1123.206,1259.332,1874.998,1384.92,2289.102,1303.044,1145.084,1893.608,1588.082,1676.104,1734.254,1566.416,1251.796,1754.452,1261.77,1056.02,1755.152,1208.8,749.352,804.196,1215.24,1147.202,1098.36,942.02,1469.088,1805.064,983.39,1126.214,919.318,1251.276,1254.216,1328.852,1254.634,1137.926,1155.86,1077.062,1319.122,1261.584,1344.014,941.534,1156.478,740.242,942.63,1093.45,865.534,815.684,1147.396,825.804,1166.558,1299.908,1392.638,739.576,505.776,504.782,1126.501,827.118,326.112,334.884,302.2,358.924,352.032,371.916,288.984,282.584,270.258,273.654,274.814,274.796,273.758,274.692,268.472,261.298,267.124,254.642,254.716,250.298,257.564,258.114,268.246,267.588,270.424,1502.43,1247.51,1384.154,1388.486,1225.22,873.96,1868.574,1372.656,1309.324,1159.654,1300.764,1028.714,1392.762,1631.436,1576.326,1697.708,1221.862,1519.21,1505.29,1518.846,1304.6,1533.07,1358.564,1232.788,1718.35,1131.22,1431.45,2127.446,1731.104,1501.738,1375.006,1872.364,1345.342,1612.58,2100.496,1549.95,1423.782,1726.568,1860.576,1983.682,1518.338,1669.386,1907.94,1461.976,1609.056,2156.896,1583.68,1866.886,2239.19,1971.934,1667.554,2063.716,1646.01,1830.494,2133.226,1597.933,523.492,523.892,1327.29,1612.576,1098.6,1285.832,830.498,910.614,847.6,1562.316,3134.93,1588.438,1619.184,1733.138,2578.538,2114.434,2455.95,2190.114,1238.46,1621.738,3031.628,2365.432,1523.636,1749.05,1840.238,1692.336,1673.93,1711.368,3407.405,3212.998,2702.85,1515.954,2362.218,1885.964,2434.668,2401.388,1616.538,1793.444,1755.164,1738.638,2058.618,2523.836,2466.74,1868.636,2003.144,2244.93,1432.522,1815.534,1825.574,2002.12,1795.45,1797.09,2098.786,1736.94,1882.112,2244.162,2643.61,2015.808,1798.088,1269.638,1061.118,1223.732,2972.164,1570.642,555.278,1195.238,1964.188,1406.692,2327.51,1913.496,1939.994,1604.0,1689.862,2080.272,1633.27,1788.702,2102.948,1975.988,1589.278,2182.6,1781.579,1564.068,2766.554,3317.82,3154.194,1699.866,1738.028,1739.434,1237.356,1910.536,2200.77,2843.664,1674.472,1425.03,2721.734,1573.698,2059.038,3312.852,1847.17,1603.3,1868.39,2460.924,1649.088,2048.396,3131.536,2182.866,1706.638,1943.822,2639.39,1968.66,1690.022,2335.316,1586.032,1318.994,794.778,826.45,737.268,1880.736,1316.184,2238.478,2733.656,1783.144,1169.844,1156.852,2028.918,1630.75,2472.521,1477.442,1848.952,1842.13,1441.812,1783.474,1696.466,2357.166,1685.556,1836.21,2405.904,1887.26,1445.52,2149.028,1942.062,1338.125,1931.91,1450.68,1191.532,1463.906,1930.022,1689.17,1296.45,1661.712,1838.774,1211.004,1713.926,2260.976,2216.65,1477.452,1823.482,1641.14,1644.334,1363.26,2191.232,1375.716,1452.634,1440.092,1534.6,1890.472,1842.114,2462.446,2141.012,1599.844,1501.538,1216.062,1564.524,2042.81,1512.266,1286.468,1486.51,1894.598,1496.198,1141.46,1194.048,2022.284,1781.626,1351.628,1706.386,1664.68,1834.762,1512.802,1393.91,1608.878,1667.882,1731.474,1349.902,1012.648,1857.156,1261.352,1967.892,1517.176,1625.956,1246.398,1606.984,1422.226,2007.378,1543.764,1209.906,1617.344,1307.162,1575.15,1074.806,1530.598,1287.786,1354.096,1338.973,1544.292,1179.736,1242.846,1659.106,956.89,1443.26,1090.638,1356.578,1035.66,1230.36,1475.45,1207.392,1178.776,1332.85,1602.996,1300.65,1101.732,1041.846557168784,2180.389546279492,1698.444896551724,1508.792,988.016,1165.7,1086.866,1107.1,855.142,1094.098,1039.214,1534.874,771.362,1277.322,1709.052,1059.394,1010.134,1192.446,1218.342,1242.578,864.148,1238.568,1410.736,954.26,1110.136,1234.4,846.252,1192.726,993.968,513.478,496.746,911.43,718.074,599.554,731.808,966.41,1203.644,662.486,813.7620000000001,739.532,1030.0,561.738,536.688,543.016,688.566,902.85,902.0,792.326,975.83,706.966,489.724,500.298,508.892,518.652,532.672,539.296,526.472,998.234,1069.358,950.954,824.436,823.355,748.676,1514.062,1217.712,785.908,1080.598,880.742,775.722,1161.746,1548.738,1066.708,1252.254,943.61,1136.546,749.466,1118.842,1388.414,1668.342,1265.522,980.536,1222.814,1251.188,1024.388,1513.866,1228.63,1221.458,1086.254,1521.344,1112.354,1214.146,2064.358,1571.628,1574.858,1456.806,1743.162,1223.426,1374.032,2135.71,2035.328,1417.868,1246.536,1636.61,1426.258,1161.016,1556.254,1410.472,1299.456,1146.398,1776.468,1287.252,1152.668,1716.74,1621.106,1275.522,1428.448,1821.834,1577.166,1351.862,2012.756,1938.871,1351.604,1449.1,1711.224,1489.976,1516.86,2742.08,1556.164,1369.108,1722.808,1969.506,1399.71,1757.45,2614.408,2406.536,1112.344,1116.756,1268.708,1981.44,1493.358,1875.942,1843.168,1504.226,2266.688,1801.8,1560.466,1390.45,1557.176,2508.002,1407.477,1606.184,2040.48,1463.066,1532.926,2560.456,1967.308,1514.468,1708.294,2639.174,1474.848,1961.016,2496.856,2450.976,1471.122,2128.856,1980.13,1599.626,1380.026,1858.95,1650.962,1745.19,1756.378,2345.668,1479.688,1711.294,2351.762,2378.288,1742.638,2006.884,1802.356,2059.164,1784.462,1816.38,2138.814,1794.862,1940.116,1394.874,1717.182,1744.706,2204.334,1144.166,2034.966,1888.022,1455.2,2905.894,2127.648,2183.618,2195.452,2094.098,2047.968,2451.11,2211.892,1224.252,1311.815,2083.454,1604.132,2219.78,1777.18,1769.442,1797.208,2336.9,2508.466,1518.684,2199.7517942492013,2502.3611501597443,2693.4370555910546,2196.76,2150.112,1906.556,1881.098,2433.508,2351.728,2137.856,1790.626,2611.541,2269.42,1930.51,2067.564,2760.902,2110.234,2092.99,2842.728,1799.196,1693.778,2157.432,2903.014,2316.27,2098.892,2712.986,1625.708,2582.238,2420.932,1948.024],\"type\":\"scatter\"},{\"marker\":{\"color\":\"rgba(0, 48, 73, 0.8)\"},\"mode\":\"lines\",\"name\":\"test data\",\"x\":[\"2010-02-11T00:00:00\",\"2010-02-12T00:00:00\",\"2010-02-13T00:00:00\",\"2010-02-14T00:00:00\",\"2010-02-15T00:00:00\",\"2010-02-16T00:00:00\",\"2010-02-17T00:00:00\",\"2010-02-18T00:00:00\",\"2010-02-19T00:00:00\",\"2010-02-20T00:00:00\",\"2010-02-21T00:00:00\",\"2010-02-22T00:00:00\",\"2010-02-23T00:00:00\",\"2010-02-24T00:00:00\",\"2010-02-25T00:00:00\",\"2010-02-26T00:00:00\",\"2010-02-27T00:00:00\",\"2010-02-28T00:00:00\",\"2010-03-01T00:00:00\",\"2010-03-02T00:00:00\",\"2010-03-03T00:00:00\",\"2010-03-04T00:00:00\",\"2010-03-05T00:00:00\",\"2010-03-06T00:00:00\",\"2010-03-07T00:00:00\",\"2010-03-08T00:00:00\",\"2010-03-09T00:00:00\",\"2010-03-10T00:00:00\",\"2010-03-11T00:00:00\",\"2010-03-12T00:00:00\",\"2010-03-13T00:00:00\",\"2010-03-14T00:00:00\",\"2010-03-15T00:00:00\",\"2010-03-16T00:00:00\",\"2010-03-17T00:00:00\",\"2010-03-18T00:00:00\",\"2010-03-19T00:00:00\",\"2010-03-20T00:00:00\",\"2010-03-21T00:00:00\",\"2010-03-22T00:00:00\",\"2010-03-23T00:00:00\",\"2010-03-24T00:00:00\",\"2010-03-25T00:00:00\",\"2010-03-26T00:00:00\",\"2010-03-27T00:00:00\",\"2010-03-28T00:00:00\",\"2010-03-29T00:00:00\",\"2010-03-30T00:00:00\",\"2010-03-31T00:00:00\",\"2010-04-01T00:00:00\",\"2010-04-02T00:00:00\",\"2010-04-03T00:00:00\",\"2010-04-04T00:00:00\",\"2010-04-05T00:00:00\",\"2010-04-06T00:00:00\",\"2010-04-07T00:00:00\",\"2010-04-08T00:00:00\",\"2010-04-09T00:00:00\",\"2010-04-10T00:00:00\",\"2010-04-11T00:00:00\",\"2010-04-12T00:00:00\",\"2010-04-13T00:00:00\",\"2010-04-14T00:00:00\",\"2010-04-15T00:00:00\",\"2010-04-16T00:00:00\",\"2010-04-17T00:00:00\",\"2010-04-18T00:00:00\",\"2010-04-19T00:00:00\",\"2010-04-20T00:00:00\",\"2010-04-21T00:00:00\",\"2010-04-22T00:00:00\",\"2010-04-23T00:00:00\",\"2010-04-24T00:00:00\",\"2010-04-25T00:00:00\",\"2010-04-26T00:00:00\",\"2010-04-27T00:00:00\",\"2010-04-28T00:00:00\",\"2010-04-29T00:00:00\",\"2010-04-30T00:00:00\",\"2010-05-01T00:00:00\",\"2010-05-02T00:00:00\",\"2010-05-03T00:00:00\",\"2010-05-04T00:00:00\",\"2010-05-05T00:00:00\",\"2010-05-06T00:00:00\",\"2010-05-07T00:00:00\",\"2010-05-08T00:00:00\",\"2010-05-09T00:00:00\",\"2010-05-10T00:00:00\",\"2010-05-11T00:00:00\",\"2010-05-12T00:00:00\",\"2010-05-13T00:00:00\",\"2010-05-14T00:00:00\",\"2010-05-15T00:00:00\",\"2010-05-16T00:00:00\",\"2010-05-17T00:00:00\",\"2010-05-18T00:00:00\",\"2010-05-19T00:00:00\",\"2010-05-20T00:00:00\",\"2010-05-21T00:00:00\",\"2010-05-22T00:00:00\",\"2010-05-23T00:00:00\",\"2010-05-24T00:00:00\",\"2010-05-25T00:00:00\",\"2010-05-26T00:00:00\",\"2010-05-27T00:00:00\",\"2010-05-28T00:00:00\",\"2010-05-29T00:00:00\",\"2010-05-30T00:00:00\",\"2010-05-31T00:00:00\",\"2010-06-01T00:00:00\",\"2010-06-02T00:00:00\",\"2010-06-03T00:00:00\",\"2010-06-04T00:00:00\",\"2010-06-05T00:00:00\",\"2010-06-06T00:00:00\",\"2010-06-07T00:00:00\",\"2010-06-08T00:00:00\",\"2010-06-09T00:00:00\",\"2010-06-10T00:00:00\",\"2010-06-11T00:00:00\",\"2010-06-12T00:00:00\",\"2010-06-13T00:00:00\",\"2010-06-14T00:00:00\",\"2010-06-15T00:00:00\",\"2010-06-16T00:00:00\",\"2010-06-17T00:00:00\",\"2010-06-18T00:00:00\",\"2010-06-19T00:00:00\",\"2010-06-20T00:00:00\",\"2010-06-21T00:00:00\",\"2010-06-22T00:00:00\",\"2010-06-23T00:00:00\",\"2010-06-24T00:00:00\",\"2010-06-25T00:00:00\",\"2010-06-26T00:00:00\",\"2010-06-27T00:00:00\",\"2010-06-28T00:00:00\",\"2010-06-29T00:00:00\",\"2010-06-30T00:00:00\",\"2010-07-01T00:00:00\",\"2010-07-02T00:00:00\",\"2010-07-03T00:00:00\",\"2010-07-04T00:00:00\",\"2010-07-05T00:00:00\",\"2010-07-06T00:00:00\",\"2010-07-07T00:00:00\",\"2010-07-08T00:00:00\",\"2010-07-09T00:00:00\",\"2010-07-10T00:00:00\",\"2010-07-11T00:00:00\",\"2010-07-12T00:00:00\",\"2010-07-13T00:00:00\",\"2010-07-14T00:00:00\",\"2010-07-15T00:00:00\",\"2010-07-16T00:00:00\",\"2010-07-17T00:00:00\",\"2010-07-18T00:00:00\",\"2010-07-19T00:00:00\",\"2010-07-20T00:00:00\",\"2010-07-21T00:00:00\",\"2010-07-22T00:00:00\",\"2010-07-23T00:00:00\",\"2010-07-24T00:00:00\",\"2010-07-25T00:00:00\",\"2010-07-26T00:00:00\",\"2010-07-27T00:00:00\",\"2010-07-28T00:00:00\",\"2010-07-29T00:00:00\",\"2010-07-30T00:00:00\",\"2010-07-31T00:00:00\",\"2010-08-01T00:00:00\",\"2010-08-02T00:00:00\",\"2010-08-03T00:00:00\",\"2010-08-04T00:00:00\",\"2010-08-05T00:00:00\",\"2010-08-06T00:00:00\",\"2010-08-07T00:00:00\",\"2010-08-08T00:00:00\",\"2010-08-09T00:00:00\",\"2010-08-10T00:00:00\",\"2010-08-11T00:00:00\",\"2010-08-12T00:00:00\",\"2010-08-13T00:00:00\",\"2010-08-14T00:00:00\",\"2010-08-15T00:00:00\",\"2010-08-16T00:00:00\",\"2010-08-17T00:00:00\",\"2010-08-18T00:00:00\",\"2010-08-19T00:00:00\",\"2010-08-20T00:00:00\",\"2010-08-21T00:00:00\",\"2010-08-22T00:00:00\",\"2010-08-23T00:00:00\",\"2010-08-24T00:00:00\",\"2010-08-25T00:00:00\",\"2010-08-26T00:00:00\",\"2010-08-27T00:00:00\",\"2010-08-28T00:00:00\",\"2010-08-29T00:00:00\",\"2010-08-30T00:00:00\",\"2010-08-31T00:00:00\",\"2010-09-01T00:00:00\",\"2010-09-02T00:00:00\",\"2010-09-03T00:00:00\",\"2010-09-04T00:00:00\",\"2010-09-05T00:00:00\",\"2010-09-06T00:00:00\",\"2010-09-07T00:00:00\",\"2010-09-08T00:00:00\",\"2010-09-09T00:00:00\",\"2010-09-10T00:00:00\",\"2010-09-11T00:00:00\",\"2010-09-12T00:00:00\",\"2010-09-13T00:00:00\",\"2010-09-14T00:00:00\",\"2010-09-15T00:00:00\",\"2010-09-16T00:00:00\",\"2010-09-17T00:00:00\",\"2010-09-18T00:00:00\",\"2010-09-19T00:00:00\",\"2010-09-20T00:00:00\",\"2010-09-21T00:00:00\",\"2010-09-22T00:00:00\",\"2010-09-23T00:00:00\",\"2010-09-24T00:00:00\",\"2010-09-25T00:00:00\",\"2010-09-26T00:00:00\",\"2010-09-27T00:00:00\",\"2010-09-28T00:00:00\",\"2010-09-29T00:00:00\",\"2010-09-30T00:00:00\",\"2010-10-01T00:00:00\",\"2010-10-02T00:00:00\",\"2010-10-03T00:00:00\",\"2010-10-04T00:00:00\",\"2010-10-05T00:00:00\",\"2010-10-06T00:00:00\",\"2010-10-07T00:00:00\",\"2010-10-08T00:00:00\",\"2010-10-09T00:00:00\",\"2010-10-10T00:00:00\",\"2010-10-11T00:00:00\",\"2010-10-12T00:00:00\",\"2010-10-13T00:00:00\",\"2010-10-14T00:00:00\",\"2010-10-15T00:00:00\",\"2010-10-16T00:00:00\",\"2010-10-17T00:00:00\",\"2010-10-18T00:00:00\",\"2010-10-19T00:00:00\",\"2010-10-20T00:00:00\",\"2010-10-21T00:00:00\",\"2010-10-22T00:00:00\",\"2010-10-23T00:00:00\",\"2010-10-24T00:00:00\",\"2010-10-25T00:00:00\",\"2010-10-26T00:00:00\",\"2010-10-27T00:00:00\",\"2010-10-28T00:00:00\",\"2010-10-29T00:00:00\",\"2010-10-30T00:00:00\",\"2010-10-31T00:00:00\",\"2010-11-01T00:00:00\",\"2010-11-02T00:00:00\",\"2010-11-03T00:00:00\",\"2010-11-04T00:00:00\",\"2010-11-05T00:00:00\",\"2010-11-06T00:00:00\",\"2010-11-07T00:00:00\",\"2010-11-08T00:00:00\",\"2010-11-09T00:00:00\",\"2010-11-10T00:00:00\",\"2010-11-11T00:00:00\",\"2010-11-12T00:00:00\",\"2010-11-13T00:00:00\",\"2010-11-14T00:00:00\",\"2010-11-15T00:00:00\",\"2010-11-16T00:00:00\",\"2010-11-17T00:00:00\",\"2010-11-18T00:00:00\",\"2010-11-19T00:00:00\",\"2010-11-20T00:00:00\",\"2010-11-21T00:00:00\",\"2010-11-22T00:00:00\",\"2010-11-23T00:00:00\",\"2010-11-24T00:00:00\",\"2010-11-25T00:00:00\",\"2010-11-26T00:00:00\"],\"y\":[1369.768,1892.998,2351.556,1688.5,2097.132,1797.756,2054.56,1761.156,1953.572,1983.728,2740.314,1474.036,1461.28,1914.278,1880.204,2120.156,1765.056,711.666,1298.728,766.9060000000001,935.834,682.88,1133.726,794.712,1372.472,2557.098,1760.112,1822.632,1951.09,1645.424,2383.01,1566.714,1791.85,1542.65,2009.13,1562.682,1663.384,916.6067692307691,1762.1152307692307,1618.59,1822.162,1994.752,1679.884,1651.284,1847.97,1798.214,1622.738,1906.454,1923.802,1687.44,1648.622,1805.278,1690.388,1118.82,1825.852,1596.982,1649.22,1233.35,1190.208,1603.181,1439.426,1512.704,1660.364,1872.178,1562.062,1557.712,1476.106,1708.594,1833.628,1579.914,1460.904,1180.536,1518.418,1542.742,1082.716,1250.94,867.858,1103.724,1118.628,1320.158,2187.91,1411.302,1516.96,1805.308,1299.25,1644.004,1533.422,1566.51,1467.892,1571.368,2035.418,1554.188,1722.146,1944.772,2100.426,1628.182,1421.184,1426.752,1153.898,1294.396,2095.772,1487.556,1341.332,1198.626,1387.884,1323.342,1398.164,2049.808,1665.7,1340.462,1268.964,980.898,1394.186,1420.554,2009.644,1746.792,1012.082,1362.034,1534.682,1215.19,1470.672,1974.467,1674.356,1217.984,1223.966,1768.092,1028.018,1332.316,1416.22,1672.55,1660.89,1520.588,1442.064,1095.78,1099.438,981.62,1139.964,1471.34,1368.543,1384.136,1349.002,1140.928,1120.074,1538.088,1113.99,1005.934,834.788,1212.652,1083.478,1154.504,1193.572,1109.574,1382.114,1409.472,1635.813,820.056,806.352,812.038,801.158,855.824,1064.166,1164.446,1176.158,921.668,1130.41,884.15,952.36,862.654,549.104,551.26,554.616,555.664,549.482,615.212,543.356,533.476,524.746,527.476,528.46,535.064,544.758,542.002,529.698,534.294,554.27,1055.986,1129.73,1138.914498132005,1259.5247820672478,1187.2199252801993,1114.9150684931508,1042.610211706102,964.6355143212952,765.658,722.948,980.408,757.252,2030.65,1442.856,1668.48,1494.802,1365.106,1593.318,1392.492,1346.414,1743.84,1323.018,1422.876,1451.854,1303.812,1238.714,1328.108,1463.31,1612.092,1076.32,1430.678,986.094,1339.738,1497.608,1247.946,919.6,1682.832,1111.376,1510.394,1449.862,1327.992,585.3598205421916,1369.9661855670104,2237.7270103092783,2887.73298358152,1684.426,1248.278,1504.82,1923.254,1830.684,1775.96,1854.624,1315.456,1809.954,1510.456,1611.78,1998.904,1622.59,1579.692,2073.886,2135.122,1596.324,1000.014,1047.382,2713.884,1925.978,1727.964,1355.198,1668.892,2293.236,2392.304,1163.292,945.904,1260.278,1463.326,1204.422,2152.7,1476.43,1383.18,1191.082,1293.298,2555.146,1736.088,1805.408,1673.816,1825.54,2022.098,1946.534,1773.592,1836.822,2023.174,2038.392,1747.382,1509.748,1582.032,1652.152,1570.4,2197.006,900.91,2041.536,1577.536,1796.248,1431.164,1488.104],\"type\":\"scatter\"},{\"marker\":{\"color\":\"rgba(252, 191, 73, 1)\"},\"mode\":\"lines\",\"name\":\"prediction\",\"x\":[\"2010-02-11T00:00:00\",\"2010-02-12T00:00:00\",\"2010-02-13T00:00:00\",\"2010-02-14T00:00:00\",\"2010-02-15T00:00:00\",\"2010-02-16T00:00:00\",\"2010-02-17T00:00:00\",\"2010-02-18T00:00:00\",\"2010-02-19T00:00:00\",\"2010-02-20T00:00:00\",\"2010-02-21T00:00:00\",\"2010-02-22T00:00:00\",\"2010-02-23T00:00:00\",\"2010-02-24T00:00:00\",\"2010-02-25T00:00:00\",\"2010-02-26T00:00:00\",\"2010-02-27T00:00:00\",\"2010-02-28T00:00:00\",\"2010-03-01T00:00:00\",\"2010-03-02T00:00:00\",\"2010-03-03T00:00:00\",\"2010-03-04T00:00:00\",\"2010-03-05T00:00:00\",\"2010-03-06T00:00:00\",\"2010-03-07T00:00:00\",\"2010-03-08T00:00:00\",\"2010-03-09T00:00:00\",\"2010-03-10T00:00:00\",\"2010-03-11T00:00:00\",\"2010-03-12T00:00:00\",\"2010-03-13T00:00:00\",\"2010-03-14T00:00:00\",\"2010-03-15T00:00:00\",\"2010-03-16T00:00:00\",\"2010-03-17T00:00:00\",\"2010-03-18T00:00:00\",\"2010-03-19T00:00:00\",\"2010-03-20T00:00:00\",\"2010-03-21T00:00:00\",\"2010-03-22T00:00:00\",\"2010-03-23T00:00:00\",\"2010-03-24T00:00:00\",\"2010-03-25T00:00:00\",\"2010-03-26T00:00:00\",\"2010-03-27T00:00:00\",\"2010-03-28T00:00:00\",\"2010-03-29T00:00:00\",\"2010-03-30T00:00:00\",\"2010-03-31T00:00:00\",\"2010-04-01T00:00:00\",\"2010-04-02T00:00:00\",\"2010-04-03T00:00:00\",\"2010-04-04T00:00:00\",\"2010-04-05T00:00:00\",\"2010-04-06T00:00:00\",\"2010-04-07T00:00:00\",\"2010-04-08T00:00:00\",\"2010-04-09T00:00:00\",\"2010-04-10T00:00:00\",\"2010-04-11T00:00:00\",\"2010-04-12T00:00:00\",\"2010-04-13T00:00:00\",\"2010-04-14T00:00:00\",\"2010-04-15T00:00:00\",\"2010-04-16T00:00:00\",\"2010-04-17T00:00:00\",\"2010-04-18T00:00:00\",\"2010-04-19T00:00:00\",\"2010-04-20T00:00:00\",\"2010-04-21T00:00:00\",\"2010-04-22T00:00:00\",\"2010-04-23T00:00:00\",\"2010-04-24T00:00:00\",\"2010-04-25T00:00:00\",\"2010-04-26T00:00:00\",\"2010-04-27T00:00:00\",\"2010-04-28T00:00:00\",\"2010-04-29T00:00:00\",\"2010-04-30T00:00:00\",\"2010-05-01T00:00:00\",\"2010-05-02T00:00:00\",\"2010-05-03T00:00:00\",\"2010-05-04T00:00:00\",\"2010-05-05T00:00:00\",\"2010-05-06T00:00:00\",\"2010-05-07T00:00:00\",\"2010-05-08T00:00:00\",\"2010-05-09T00:00:00\",\"2010-05-10T00:00:00\",\"2010-05-11T00:00:00\",\"2010-05-12T00:00:00\",\"2010-05-13T00:00:00\",\"2010-05-14T00:00:00\",\"2010-05-15T00:00:00\",\"2010-05-16T00:00:00\",\"2010-05-17T00:00:00\",\"2010-05-18T00:00:00\",\"2010-05-19T00:00:00\",\"2010-05-20T00:00:00\",\"2010-05-21T00:00:00\",\"2010-05-22T00:00:00\",\"2010-05-23T00:00:00\",\"2010-05-24T00:00:00\",\"2010-05-25T00:00:00\",\"2010-05-26T00:00:00\",\"2010-05-27T00:00:00\",\"2010-05-28T00:00:00\",\"2010-05-29T00:00:00\",\"2010-05-30T00:00:00\",\"2010-05-31T00:00:00\",\"2010-06-01T00:00:00\",\"2010-06-02T00:00:00\",\"2010-06-03T00:00:00\",\"2010-06-04T00:00:00\",\"2010-06-05T00:00:00\",\"2010-06-06T00:00:00\",\"2010-06-07T00:00:00\",\"2010-06-08T00:00:00\",\"2010-06-09T00:00:00\",\"2010-06-10T00:00:00\",\"2010-06-11T00:00:00\",\"2010-06-12T00:00:00\",\"2010-06-13T00:00:00\",\"2010-06-14T00:00:00\",\"2010-06-15T00:00:00\",\"2010-06-16T00:00:00\",\"2010-06-17T00:00:00\",\"2010-06-18T00:00:00\",\"2010-06-19T00:00:00\",\"2010-06-20T00:00:00\",\"2010-06-21T00:00:00\",\"2010-06-22T00:00:00\",\"2010-06-23T00:00:00\",\"2010-06-24T00:00:00\",\"2010-06-25T00:00:00\",\"2010-06-26T00:00:00\",\"2010-06-27T00:00:00\",\"2010-06-28T00:00:00\",\"2010-06-29T00:00:00\",\"2010-06-30T00:00:00\",\"2010-07-01T00:00:00\",\"2010-07-02T00:00:00\",\"2010-07-03T00:00:00\",\"2010-07-04T00:00:00\",\"2010-07-05T00:00:00\",\"2010-07-06T00:00:00\",\"2010-07-07T00:00:00\",\"2010-07-08T00:00:00\",\"2010-07-09T00:00:00\",\"2010-07-10T00:00:00\",\"2010-07-11T00:00:00\",\"2010-07-12T00:00:00\",\"2010-07-13T00:00:00\",\"2010-07-14T00:00:00\",\"2010-07-15T00:00:00\",\"2010-07-16T00:00:00\",\"2010-07-17T00:00:00\",\"2010-07-18T00:00:00\",\"2010-07-19T00:00:00\",\"2010-07-20T00:00:00\",\"2010-07-21T00:00:00\",\"2010-07-22T00:00:00\",\"2010-07-23T00:00:00\",\"2010-07-24T00:00:00\",\"2010-07-25T00:00:00\",\"2010-07-26T00:00:00\",\"2010-07-27T00:00:00\",\"2010-07-28T00:00:00\",\"2010-07-29T00:00:00\",\"2010-07-30T00:00:00\",\"2010-07-31T00:00:00\",\"2010-08-01T00:00:00\",\"2010-08-02T00:00:00\",\"2010-08-03T00:00:00\",\"2010-08-04T00:00:00\",\"2010-08-05T00:00:00\",\"2010-08-06T00:00:00\",\"2010-08-07T00:00:00\",\"2010-08-08T00:00:00\",\"2010-08-09T00:00:00\",\"2010-08-10T00:00:00\",\"2010-08-11T00:00:00\",\"2010-08-12T00:00:00\",\"2010-08-13T00:00:00\",\"2010-08-14T00:00:00\",\"2010-08-15T00:00:00\",\"2010-08-16T00:00:00\",\"2010-08-17T00:00:00\",\"2010-08-18T00:00:00\",\"2010-08-19T00:00:00\",\"2010-08-20T00:00:00\",\"2010-08-21T00:00:00\",\"2010-08-22T00:00:00\",\"2010-08-23T00:00:00\",\"2010-08-24T00:00:00\",\"2010-08-25T00:00:00\",\"2010-08-26T00:00:00\",\"2010-08-27T00:00:00\",\"2010-08-28T00:00:00\",\"2010-08-29T00:00:00\",\"2010-08-30T00:00:00\",\"2010-08-31T00:00:00\",\"2010-09-01T00:00:00\",\"2010-09-02T00:00:00\",\"2010-09-03T00:00:00\",\"2010-09-04T00:00:00\",\"2010-09-05T00:00:00\",\"2010-09-06T00:00:00\",\"2010-09-07T00:00:00\",\"2010-09-08T00:00:00\",\"2010-09-09T00:00:00\",\"2010-09-10T00:00:00\",\"2010-09-11T00:00:00\",\"2010-09-12T00:00:00\",\"2010-09-13T00:00:00\",\"2010-09-14T00:00:00\",\"2010-09-15T00:00:00\",\"2010-09-16T00:00:00\",\"2010-09-17T00:00:00\",\"2010-09-18T00:00:00\",\"2010-09-19T00:00:00\",\"2010-09-20T00:00:00\",\"2010-09-21T00:00:00\",\"2010-09-22T00:00:00\",\"2010-09-23T00:00:00\",\"2010-09-24T00:00:00\",\"2010-09-25T00:00:00\",\"2010-09-26T00:00:00\",\"2010-09-27T00:00:00\",\"2010-09-28T00:00:00\",\"2010-09-29T00:00:00\",\"2010-09-30T00:00:00\",\"2010-10-01T00:00:00\",\"2010-10-02T00:00:00\",\"2010-10-03T00:00:00\",\"2010-10-04T00:00:00\",\"2010-10-05T00:00:00\",\"2010-10-06T00:00:00\",\"2010-10-07T00:00:00\",\"2010-10-08T00:00:00\",\"2010-10-09T00:00:00\",\"2010-10-10T00:00:00\",\"2010-10-11T00:00:00\",\"2010-10-12T00:00:00\",\"2010-10-13T00:00:00\",\"2010-10-14T00:00:00\",\"2010-10-15T00:00:00\",\"2010-10-16T00:00:00\",\"2010-10-17T00:00:00\",\"2010-10-18T00:00:00\",\"2010-10-19T00:00:00\",\"2010-10-20T00:00:00\",\"2010-10-21T00:00:00\",\"2010-10-22T00:00:00\",\"2010-10-23T00:00:00\",\"2010-10-24T00:00:00\",\"2010-10-25T00:00:00\",\"2010-10-26T00:00:00\",\"2010-10-27T00:00:00\",\"2010-10-28T00:00:00\",\"2010-10-29T00:00:00\",\"2010-10-30T00:00:00\",\"2010-10-31T00:00:00\",\"2010-11-01T00:00:00\",\"2010-11-02T00:00:00\",\"2010-11-03T00:00:00\",\"2010-11-04T00:00:00\",\"2010-11-05T00:00:00\",\"2010-11-06T00:00:00\",\"2010-11-07T00:00:00\",\"2010-11-08T00:00:00\",\"2010-11-09T00:00:00\",\"2010-11-10T00:00:00\",\"2010-11-11T00:00:00\",\"2010-11-12T00:00:00\",\"2010-11-13T00:00:00\",\"2010-11-14T00:00:00\",\"2010-11-15T00:00:00\",\"2010-11-16T00:00:00\",\"2010-11-17T00:00:00\",\"2010-11-18T00:00:00\",\"2010-11-19T00:00:00\",\"2010-11-20T00:00:00\",\"2010-11-21T00:00:00\",\"2010-11-22T00:00:00\",\"2010-11-23T00:00:00\",\"2010-11-24T00:00:00\",\"2010-11-25T00:00:00\",\"2010-11-26T00:00:00\"],\"y\":[1710.092529296875,1859.9969482421875,2148.95166015625,1838.7239990234375,2159.08447265625,1692.3671875,1974.3316650390625,1873.624755859375,1906.5672607421875,2062.181640625,2094.589111328125,993.1189575195312,1455.4932861328125,1010.6253051757812,1338.50244140625,947.1614379882812,1171.4835205078125,913.769775390625,1125.9918212890625,1502.011962890625,1395.9443359375,1485.32958984375,1535.2039794921875,1595.4366455078125,1954.46240234375,1922.5946044921875,1870.818359375,1747.7425537109375,1968.8985595703125,1717.8426513671875,2082.30419921875,1236.5494384765625,1718.7601318359375,1544.9066162109375,1812.9222412109375,1633.496826171875,1658.3878173828125,1526.366943359375,1809.5845947265625,1730.1268310546875,1794.211181640625,1941.209228515625,1764.8426513671875,1722.6171875,1819.8568115234375,1824.2236328125,1718.2681884765625,1553.3167724609375,1848.7425537109375,1627.6026611328125,1648.4010009765625,1562.736083984375,1521.734375,1386.152587890625,1605.1064453125,1513.4085693359375,1570.1868896484375,1452.6099853515625,1419.9306640625,1617.751953125,1522.5367431640625,1607.257080078125,1707.0792236328125,1733.3857421875,1583.0838623046875,1478.3851318359375,1514.329345703125,1609.1597900390625,1446.2406005859375,1407.5966796875,1168.9486083984375,1134.0540771484375,1232.805419921875,1278.252685546875,1388.4910888671875,1315.9764404296875,1289.825927734375,1413.9156494140625,1353.0743408203125,1594.490234375,1797.97119140625,1496.3145751953125,1534.6046142578125,1685.15771484375,1538.6981201171875,1617.3896484375,1625.0013427734375,1684.2022705078125,1685.2177734375,1686.9017333984375,1852.45361328125,1619.0296630859375,1545.6424560546875,1704.4521484375,1858.0914306640625,1522.59423828125,1421.1700439453125,1379.7650146484375,1308.0411376953125,1412.463623046875,1697.981201171875,1543.593505859375,1440.38623046875,1359.1650390625,1414.06201171875,1258.548095703125,1420.9564208984375,1606.681884765625,1586.1292724609375,1436.042724609375,1263.0654296875,1259.0037841796875,1437.072509765625,1414.70947265625,1690.4471435546875,1638.4356689453125,1342.5328369140625,1399.1090087890625,1459.9141845703125,1426.3978271484375,1321.533447265625,1634.230224609375,1464.60595703125,1348.303466796875,1390.468994140625,1608.37255859375,1304.35693359375,1335.4417724609375,1336.9686279296875,1311.0826416015625,1325.5408935546875,1332.344482421875,1292.475830078125,1207.79736328125,1217.95849609375,1155.2080078125,1183.158935546875,1388.80517578125,1257.4302978515625,1209.2425537109375,1078.4822998046875,1114.2481689453125,1085.21435546875,1220.2955322265625,1104.071533203125,1069.4473876953125,1127.6619873046875,1230.5948486328125,1271.428466796875,1071.44580078125,1033.5880126953125,981.7157592773438,1006.9053344726562,1010.5458984375,1117.955810546875,985.7080688476562,1012.9310302734375,971.4046020507812,1018.8790283203125,970.7669067382812,1010.2520751953125,990.2957153320312,771.4903564453125,703.4345703125,697.477783203125,656.6387939453125,644.3435668945312,667.84912109375,610.2274169921875,599.285400390625,589.8474731445312,592.5790405273438,593.449462890625,596.4148559570312,609.5862426757812,608.6985473632812,599.1067504882812,600.8662719726562,615.951171875,945.052978515625,975.1102905273438,999.3600463867188,1048.419677734375,1051.1527099609375,1110.441650390625,1081.1060791015625,1071.9378662109375,960.3390502929688,924.107177734375,986.0406494140625,884.44921875,1351.952392578125,1266.997802734375,1378.7880859375,1404.386474609375,1393.41064453125,1680.7337646484375,1705.9803466796875,1436.40625,1612.54345703125,1447.8602294921875,1409.8125,1511.7322998046875,1382.6641845703125,1340.782958984375,1503.431884765625,1337.27099609375,1421.8349609375,1318.5460205078125,1328.2513427734375,1189.07568359375,1283.56591796875,1366.9501953125,1378.9715576171875,1092.412353515625,1380.6563720703125,1144.572998046875,1332.51171875,1389.0648193359375,1282.4814453125,877.235595703125,1343.87646484375,1386.365478515625,1685.9342041015625,1534.833740234375,1471.036376953125,1639.6414794921875,1746.7828369140625,2041.5167236328125,2213.440673828125,1725.03857421875,1448.9404296875,1696.5694580078125,1731.11279296875,1780.22119140625,1786.2872314453125,1728.81640625,1524.132080078125,1842.4578857421875,1705.5958251953125,1689.9185791015625,1483.4207763671875,1479.011962890625,1826.6224365234375,1770.974365234375,1885.0859375,1579.1964111328125,1714.755615234375,2049.947021484375,2252.95361328125,1480.5260009765625,1449.4163818359375,1399.816162109375,1602.364501953125,1686.193603515625,1951.157958984375,1328.7861328125,1289.484619140625,1324.9547119140625,1411.920654296875,1700.902099609375,1765.22900390625,1605.8121337890625,1573.767578125,1594.4307861328125,1844.2509765625,2144.50146484375,1779.3599853515625,1848.40380859375,1815.958984375,1893.6361083984375,1901.657470703125,1840.779541015625,1791.7144775390625,1817.1346435546875,1853.3028564453125,1978.351318359375,1187.291015625,1643.966552734375,1524.7877197265625,1670.0013427734375,1591.48583984375],\"type\":\"scatter\"}],                        {\"title\":{\"text\":\"Daily Power Consumption\"},\"xaxis\":{\"title\":{\"text\":\"Date\"}},\"yaxis\":{\"title\":{\"text\":\"Kilowatts\"}},\"template\":{\"data\":{\"bar\":[{\"error_x\":{\"color\":\"#2a3f5f\"},\"error_y\":{\"color\":\"#2a3f5f\"},\"marker\":{\"line\":{\"color\":\"#E5ECF6\",\"width\":0.5},\"pattern\":{\"fillmode\":\"overlay\",\"size\":10,\"solidity\":0.2}},\"type\":\"bar\"}],\"barpolar\":[{\"marker\":{\"line\":{\"color\":\"#E5ECF6\",\"width\":0.5},\"pattern\":{\"fillmode\":\"overlay\",\"size\":10,\"solidity\":0.2}},\"type\":\"barpolar\"}],\"carpet\":[{\"aaxis\":{\"endlinecolor\":\"#2a3f5f\",\"gridcolor\":\"white\",\"linecolor\":\"white\",\"minorgridcolor\":\"white\",\"startlinecolor\":\"#2a3f5f\"},\"baxis\":{\"endlinecolor\":\"#2a3f5f\",\"gridcolor\":\"white\",\"linecolor\":\"white\",\"minorgridcolor\":\"white\",\"startlinecolor\":\"#2a3f5f\"},\"type\":\"carpet\"}],\"choropleth\":[{\"colorbar\":{\"outlinewidth\":0,\"ticks\":\"\"},\"type\":\"choropleth\"}],\"contour\":[{\"colorbar\":{\"outlinewidth\":0,\"ticks\":\"\"},\"colorscale\":[[0.0,\"#0d0887\"],[0.1111111111111111,\"#46039f\"],[0.2222222222222222,\"#7201a8\"],[0.3333333333333333,\"#9c179e\"],[0.4444444444444444,\"#bd3786\"],[0.5555555555555556,\"#d8576b\"],[0.6666666666666666,\"#ed7953\"],[0.7777777777777778,\"#fb9f3a\"],[0.8888888888888888,\"#fdca26\"],[1.0,\"#f0f921\"]],\"type\":\"contour\"}],\"contourcarpet\":[{\"colorbar\":{\"outlinewidth\":0,\"ticks\":\"\"},\"type\":\"contourcarpet\"}],\"heatmap\":[{\"colorbar\":{\"outlinewidth\":0,\"ticks\":\"\"},\"colorscale\":[[0.0,\"#0d0887\"],[0.1111111111111111,\"#46039f\"],[0.2222222222222222,\"#7201a8\"],[0.3333333333333333,\"#9c179e\"],[0.4444444444444444,\"#bd3786\"],[0.5555555555555556,\"#d8576b\"],[0.6666666666666666,\"#ed7953\"],[0.7777777777777778,\"#fb9f3a\"],[0.8888888888888888,\"#fdca26\"],[1.0,\"#f0f921\"]],\"type\":\"heatmap\"}],\"heatmapgl\":[{\"colorbar\":{\"outlinewidth\":0,\"ticks\":\"\"},\"colorscale\":[[0.0,\"#0d0887\"],[0.1111111111111111,\"#46039f\"],[0.2222222222222222,\"#7201a8\"],[0.3333333333333333,\"#9c179e\"],[0.4444444444444444,\"#bd3786\"],[0.5555555555555556,\"#d8576b\"],[0.6666666666666666,\"#ed7953\"],[0.7777777777777778,\"#fb9f3a\"],[0.8888888888888888,\"#fdca26\"],[1.0,\"#f0f921\"]],\"type\":\"heatmapgl\"}],\"histogram\":[{\"marker\":{\"pattern\":{\"fillmode\":\"overlay\",\"size\":10,\"solidity\":0.2}},\"type\":\"histogram\"}],\"histogram2d\":[{\"colorbar\":{\"outlinewidth\":0,\"ticks\":\"\"},\"colorscale\":[[0.0,\"#0d0887\"],[0.1111111111111111,\"#46039f\"],[0.2222222222222222,\"#7201a8\"],[0.3333333333333333,\"#9c179e\"],[0.4444444444444444,\"#bd3786\"],[0.5555555555555556,\"#d8576b\"],[0.6666666666666666,\"#ed7953\"],[0.7777777777777778,\"#fb9f3a\"],[0.8888888888888888,\"#fdca26\"],[1.0,\"#f0f921\"]],\"type\":\"histogram2d\"}],\"histogram2dcontour\":[{\"colorbar\":{\"outlinewidth\":0,\"ticks\":\"\"},\"colorscale\":[[0.0,\"#0d0887\"],[0.1111111111111111,\"#46039f\"],[0.2222222222222222,\"#7201a8\"],[0.3333333333333333,\"#9c179e\"],[0.4444444444444444,\"#bd3786\"],[0.5555555555555556,\"#d8576b\"],[0.6666666666666666,\"#ed7953\"],[0.7777777777777778,\"#fb9f3a\"],[0.8888888888888888,\"#fdca26\"],[1.0,\"#f0f921\"]],\"type\":\"histogram2dcontour\"}],\"mesh3d\":[{\"colorbar\":{\"outlinewidth\":0,\"ticks\":\"\"},\"type\":\"mesh3d\"}],\"parcoords\":[{\"line\":{\"colorbar\":{\"outlinewidth\":0,\"ticks\":\"\"}},\"type\":\"parcoords\"}],\"pie\":[{\"automargin\":true,\"type\":\"pie\"}],\"scatter\":[{\"marker\":{\"colorbar\":{\"outlinewidth\":0,\"ticks\":\"\"}},\"type\":\"scatter\"}],\"scatter3d\":[{\"line\":{\"colorbar\":{\"outlinewidth\":0,\"ticks\":\"\"}},\"marker\":{\"colorbar\":{\"outlinewidth\":0,\"ticks\":\"\"}},\"type\":\"scatter3d\"}],\"scattercarpet\":[{\"marker\":{\"colorbar\":{\"outlinewidth\":0,\"ticks\":\"\"}},\"type\":\"scattercarpet\"}],\"scattergeo\":[{\"marker\":{\"colorbar\":{\"outlinewidth\":0,\"ticks\":\"\"}},\"type\":\"scattergeo\"}],\"scattergl\":[{\"marker\":{\"colorbar\":{\"outlinewidth\":0,\"ticks\":\"\"}},\"type\":\"scattergl\"}],\"scattermapbox\":[{\"marker\":{\"colorbar\":{\"outlinewidth\":0,\"ticks\":\"\"}},\"type\":\"scattermapbox\"}],\"scatterpolar\":[{\"marker\":{\"colorbar\":{\"outlinewidth\":0,\"ticks\":\"\"}},\"type\":\"scatterpolar\"}],\"scatterpolargl\":[{\"marker\":{\"colorbar\":{\"outlinewidth\":0,\"ticks\":\"\"}},\"type\":\"scatterpolargl\"}],\"scatterternary\":[{\"marker\":{\"colorbar\":{\"outlinewidth\":0,\"ticks\":\"\"}},\"type\":\"scatterternary\"}],\"surface\":[{\"colorbar\":{\"outlinewidth\":0,\"ticks\":\"\"},\"colorscale\":[[0.0,\"#0d0887\"],[0.1111111111111111,\"#46039f\"],[0.2222222222222222,\"#7201a8\"],[0.3333333333333333,\"#9c179e\"],[0.4444444444444444,\"#bd3786\"],[0.5555555555555556,\"#d8576b\"],[0.6666666666666666,\"#ed7953\"],[0.7777777777777778,\"#fb9f3a\"],[0.8888888888888888,\"#fdca26\"],[1.0,\"#f0f921\"]],\"type\":\"surface\"}],\"table\":[{\"cells\":{\"fill\":{\"color\":\"#EBF0F8\"},\"line\":{\"color\":\"white\"}},\"header\":{\"fill\":{\"color\":\"#C8D4E3\"},\"line\":{\"color\":\"white\"}},\"type\":\"table\"}]},\"layout\":{\"annotationdefaults\":{\"arrowcolor\":\"#2a3f5f\",\"arrowhead\":0,\"arrowwidth\":1},\"autotypenumbers\":\"strict\",\"coloraxis\":{\"colorbar\":{\"outlinewidth\":0,\"ticks\":\"\"}},\"colorscale\":{\"diverging\":[[0,\"#8e0152\"],[0.1,\"#c51b7d\"],[0.2,\"#de77ae\"],[0.3,\"#f1b6da\"],[0.4,\"#fde0ef\"],[0.5,\"#f7f7f7\"],[0.6,\"#e6f5d0\"],[0.7,\"#b8e186\"],[0.8,\"#7fbc41\"],[0.9,\"#4d9221\"],[1,\"#276419\"]],\"sequential\":[[0.0,\"#0d0887\"],[0.1111111111111111,\"#46039f\"],[0.2222222222222222,\"#7201a8\"],[0.3333333333333333,\"#9c179e\"],[0.4444444444444444,\"#bd3786\"],[0.5555555555555556,\"#d8576b\"],[0.6666666666666666,\"#ed7953\"],[0.7777777777777778,\"#fb9f3a\"],[0.8888888888888888,\"#fdca26\"],[1.0,\"#f0f921\"]],\"sequentialminus\":[[0.0,\"#0d0887\"],[0.1111111111111111,\"#46039f\"],[0.2222222222222222,\"#7201a8\"],[0.3333333333333333,\"#9c179e\"],[0.4444444444444444,\"#bd3786\"],[0.5555555555555556,\"#d8576b\"],[0.6666666666666666,\"#ed7953\"],[0.7777777777777778,\"#fb9f3a\"],[0.8888888888888888,\"#fdca26\"],[1.0,\"#f0f921\"]]},\"colorway\":[\"#636efa\",\"#EF553B\",\"#00cc96\",\"#ab63fa\",\"#FFA15A\",\"#19d3f3\",\"#FF6692\",\"#B6E880\",\"#FF97FF\",\"#FECB52\"],\"font\":{\"color\":\"#2a3f5f\"},\"geo\":{\"bgcolor\":\"white\",\"lakecolor\":\"white\",\"landcolor\":\"#E5ECF6\",\"showlakes\":true,\"showland\":true,\"subunitcolor\":\"white\"},\"hoverlabel\":{\"align\":\"left\"},\"hovermode\":\"closest\",\"mapbox\":{\"style\":\"light\"},\"paper_bgcolor\":\"white\",\"plot_bgcolor\":\"#E5ECF6\",\"polar\":{\"angularaxis\":{\"gridcolor\":\"white\",\"linecolor\":\"white\",\"ticks\":\"\"},\"bgcolor\":\"#E5ECF6\",\"radialaxis\":{\"gridcolor\":\"white\",\"linecolor\":\"white\",\"ticks\":\"\"}},\"scene\":{\"xaxis\":{\"backgroundcolor\":\"#E5ECF6\",\"gridcolor\":\"white\",\"gridwidth\":2,\"linecolor\":\"white\",\"showbackground\":true,\"ticks\":\"\",\"zerolinecolor\":\"white\"},\"yaxis\":{\"backgroundcolor\":\"#E5ECF6\",\"gridcolor\":\"white\",\"gridwidth\":2,\"linecolor\":\"white\",\"showbackground\":true,\"ticks\":\"\",\"zerolinecolor\":\"white\"},\"zaxis\":{\"backgroundcolor\":\"#E5ECF6\",\"gridcolor\":\"white\",\"gridwidth\":2,\"linecolor\":\"white\",\"showbackground\":true,\"ticks\":\"\",\"zerolinecolor\":\"white\"}},\"shapedefaults\":{\"line\":{\"color\":\"#2a3f5f\"}},\"ternary\":{\"aaxis\":{\"gridcolor\":\"white\",\"linecolor\":\"white\",\"ticks\":\"\"},\"baxis\":{\"gridcolor\":\"white\",\"linecolor\":\"white\",\"ticks\":\"\"},\"bgcolor\":\"#E5ECF6\",\"caxis\":{\"gridcolor\":\"white\",\"linecolor\":\"white\",\"ticks\":\"\"}},\"title\":{\"x\":0.05},\"xaxis\":{\"automargin\":true,\"gridcolor\":\"white\",\"linecolor\":\"white\",\"ticks\":\"\",\"title\":{\"standoff\":15},\"zerolinecolor\":\"white\",\"zerolinewidth\":2},\"yaxis\":{\"automargin\":true,\"gridcolor\":\"white\",\"linecolor\":\"white\",\"ticks\":\"\",\"title\":{\"standoff\":15},\"zerolinecolor\":\"white\",\"zerolinewidth\":2}}}},                        {\"responsive\": true}                    ).then(function(){\n",
       "                            \n",
       "var gd = document.getElementById('4c15bc42-fa89-45a3-9266-f7d9ab765357');\n",
       "var x = new MutationObserver(function (mutations, observer) {{\n",
       "        var display = window.getComputedStyle(gd).display;\n",
       "        if (!display || display === 'none') {{\n",
       "            console.log([gd, 'removed!']);\n",
       "            Plotly.purge(gd);\n",
       "            observer.disconnect();\n",
       "        }}\n",
       "}});\n",
       "\n",
       "// Listen for the removal of the full notebook cells\n",
       "var notebookContainer = gd.closest('#notebook-container');\n",
       "if (notebookContainer) {{\n",
       "    x.observe(notebookContainer, {childList: true});\n",
       "}}\n",
       "\n",
       "// Listen for the clearing of the current output cell\n",
       "var outputEl = gd.closest('.output');\n",
       "if (outputEl) {{\n",
       "    x.observe(outputEl, {childList: true});\n",
       "}}\n",
       "\n",
       "                        })                };                });            </script>        </div>"
      ]
     },
     "metadata": {},
     "output_type": "display_data"
    }
   ],
   "source": [
    "import plotly.graph_objects as go\n",
    "\n",
    "train = train.reshape((-1))\n",
    "test = test.reshape((-1))\n",
    "prediction = testPredict.reshape((-1))\n",
    "\n",
    "trace1 = go.Scatter(\n",
    "    x = date_train,\n",
    "    y = train,\n",
    "    mode = 'lines',\n",
    "    name = 'train data',\n",
    "    marker_color='rgba(214, 40, 40, 1)'\n",
    ")\n",
    "trace2 = go.Scatter(\n",
    "    x = date_test,\n",
    "    y = test,\n",
    "    mode='lines',\n",
    "    name = 'test data',\n",
    "    marker_color='rgba(0, 48, 73, 0.8)'\n",
    ")\n",
    "trace3 = go.Scatter(\n",
    "    x = date_test,\n",
    "    y = prediction,\n",
    "    mode = 'lines',\n",
    "    name = 'prediction',\n",
    "    marker_color='rgba(252, 191, 73, 1)'\n",
    ")\n",
    "layout = go.Layout(\n",
    "    title = \"Daily Power Consumption\",\n",
    "    xaxis = {'title' : \"Date\"},\n",
    "    yaxis = {'title' : \"Kilowatts\"}\n",
    ")\n",
    "fig = go.Figure(data=[trace1, trace2, trace3], layout=layout)\n",
    "fig.show()"
   ]
  },
  {
   "cell_type": "code",
   "execution_count": 14,
   "id": "18c27ae2",
   "metadata": {
    "ExecuteTime": {
     "end_time": "2022-03-18T06:46:14.729455Z",
     "start_time": "2022-03-18T06:46:14.253822Z"
    }
   },
   "outputs": [],
   "source": [
    "# create out of sample forecasts\n",
    "\n",
    "power_consumption_scaled = power_consumption_scaled.reshape((-1))\n",
    "\n",
    "def predict(num_prediction, model):\n",
    "    prediction_list = power_consumption_scaled[-look_back:]\n",
    "    \n",
    "    for _ in range(num_prediction):\n",
    "        x = prediction_list[-look_back:]\n",
    "        x = x.reshape((1, look_back, 1))\n",
    "        out = model.predict(x)[0][0]\n",
    "        prediction_list = np.append(prediction_list, out)\n",
    "    prediction_list = prediction_list[look_back-1:]\n",
    "        \n",
    "    return prediction_list\n",
    "    \n",
    "def predict_dates(num_prediction):\n",
    "    last_date = power_consumption_daily.index.values[-1]\n",
    "    prediction_dates = pd.date_range(last_date, periods=num_prediction+1).tolist()\n",
    "    return prediction_dates\n",
    "\n",
    "num_prediction = 7\n",
    "forecast = predict(num_prediction, model)\n",
    "forecast_dates = predict_dates(num_prediction)\n",
    "forecast_dates = pd.to_datetime(forecast_dates)\n",
    "forecast_dates = pd.DatetimeIndex(forecast_dates,\n",
    "                               freq=power_consumption_daily.index.inferred_freq)"
   ]
  },
  {
   "cell_type": "code",
   "execution_count": 15,
   "id": "8d571460",
   "metadata": {
    "ExecuteTime": {
     "end_time": "2022-03-18T06:46:14.745354Z",
     "start_time": "2022-03-18T06:46:14.731815Z"
    }
   },
   "outputs": [
    {
     "data": {
      "text/plain": [
       "(8,)"
      ]
     },
     "execution_count": 15,
     "metadata": {},
     "output_type": "execute_result"
    }
   ],
   "source": [
    "forecast_reshape = np.reshape(forecast, (-1, 1))\n",
    "forecast_inv = scaler.inverse_transform(forecast_reshape)\n",
    "forecast_inv = np.reshape(forecast_inv, (-1,))\n",
    "forecast_inv.shape"
   ]
  },
  {
   "cell_type": "code",
   "execution_count": 16,
   "id": "b6ae1ecb",
   "metadata": {
    "ExecuteTime": {
     "end_time": "2022-03-18T06:46:14.761390Z",
     "start_time": "2022-03-18T06:46:14.747352Z"
    }
   },
   "outputs": [],
   "source": [
    "df_2010 = power_consumption_daily.loc['2010-11-01':'2010-11-26']\n",
    "actual = df_2010.values\n",
    "actual = np.reshape(actual, (-1,))"
   ]
  },
  {
   "cell_type": "code",
   "execution_count": 38,
   "id": "29c14780",
   "metadata": {
    "ExecuteTime": {
     "end_time": "2022-03-18T07:26:04.927576Z",
     "start_time": "2022-03-18T07:26:04.908579Z"
    }
   },
   "outputs": [
    {
     "data": {
      "application/vnd.plotly.v1+json": {
       "config": {
        "plotlyServerURL": "https://plot.ly"
       },
       "data": [
        {
         "marker": {
          "color": "#D62828"
         },
         "mode": "lines",
         "name": "Actual",
         "type": "scatter",
         "x": [
          "2010-11-01T00:00:00",
          "2010-11-02T00:00:00",
          "2010-11-03T00:00:00",
          "2010-11-04T00:00:00",
          "2010-11-05T00:00:00",
          "2010-11-06T00:00:00",
          "2010-11-07T00:00:00",
          "2010-11-08T00:00:00",
          "2010-11-09T00:00:00",
          "2010-11-10T00:00:00",
          "2010-11-11T00:00:00",
          "2010-11-12T00:00:00",
          "2010-11-13T00:00:00",
          "2010-11-14T00:00:00",
          "2010-11-15T00:00:00",
          "2010-11-16T00:00:00",
          "2010-11-17T00:00:00",
          "2010-11-18T00:00:00",
          "2010-11-19T00:00:00",
          "2010-11-20T00:00:00",
          "2010-11-21T00:00:00",
          "2010-11-22T00:00:00",
          "2010-11-23T00:00:00",
          "2010-11-24T00:00:00",
          "2010-11-25T00:00:00",
          "2010-11-26T00:00:00"
         ],
         "y": [
          1383.18,
          1191.082,
          1293.298,
          2555.146,
          1736.088,
          1805.408,
          1673.816,
          1825.54,
          2022.098,
          1946.534,
          1773.592,
          1836.822,
          2023.174,
          2038.392,
          1747.382,
          1509.748,
          1582.032,
          1652.152,
          1570.4,
          2197.006,
          900.91,
          2041.536,
          1577.536,
          1796.248,
          1431.164,
          1488.104
         ]
        },
        {
         "marker": {
          "color": "#FCBF49"
         },
         "mode": "lines",
         "name": "Forecast",
         "type": "scatter",
         "x": [
          "2010-11-26T00:00:00",
          "2010-11-27T00:00:00",
          "2010-11-28T00:00:00",
          "2010-11-29T00:00:00",
          "2010-11-30T00:00:00",
          "2010-12-01T00:00:00",
          "2010-12-02T00:00:00",
          "2010-12-03T00:00:00"
         ],
         "y": [
          1488.104,
          1879.879681623936,
          1671.9808573856358,
          1816.5850333819392,
          1670.23117250824,
          1737.5297413907053,
          1602.7080292801859,
          1629.3609331860546
         ]
        }
       ],
       "layout": {
        "template": {
         "data": {
          "bar": [
           {
            "error_x": {
             "color": "#2a3f5f"
            },
            "error_y": {
             "color": "#2a3f5f"
            },
            "marker": {
             "line": {
              "color": "#E5ECF6",
              "width": 0.5
             },
             "pattern": {
              "fillmode": "overlay",
              "size": 10,
              "solidity": 0.2
             }
            },
            "type": "bar"
           }
          ],
          "barpolar": [
           {
            "marker": {
             "line": {
              "color": "#E5ECF6",
              "width": 0.5
             },
             "pattern": {
              "fillmode": "overlay",
              "size": 10,
              "solidity": 0.2
             }
            },
            "type": "barpolar"
           }
          ],
          "carpet": [
           {
            "aaxis": {
             "endlinecolor": "#2a3f5f",
             "gridcolor": "white",
             "linecolor": "white",
             "minorgridcolor": "white",
             "startlinecolor": "#2a3f5f"
            },
            "baxis": {
             "endlinecolor": "#2a3f5f",
             "gridcolor": "white",
             "linecolor": "white",
             "minorgridcolor": "white",
             "startlinecolor": "#2a3f5f"
            },
            "type": "carpet"
           }
          ],
          "choropleth": [
           {
            "colorbar": {
             "outlinewidth": 0,
             "ticks": ""
            },
            "type": "choropleth"
           }
          ],
          "contour": [
           {
            "colorbar": {
             "outlinewidth": 0,
             "ticks": ""
            },
            "colorscale": [
             [
              0,
              "#0d0887"
             ],
             [
              0.1111111111111111,
              "#46039f"
             ],
             [
              0.2222222222222222,
              "#7201a8"
             ],
             [
              0.3333333333333333,
              "#9c179e"
             ],
             [
              0.4444444444444444,
              "#bd3786"
             ],
             [
              0.5555555555555556,
              "#d8576b"
             ],
             [
              0.6666666666666666,
              "#ed7953"
             ],
             [
              0.7777777777777778,
              "#fb9f3a"
             ],
             [
              0.8888888888888888,
              "#fdca26"
             ],
             [
              1,
              "#f0f921"
             ]
            ],
            "type": "contour"
           }
          ],
          "contourcarpet": [
           {
            "colorbar": {
             "outlinewidth": 0,
             "ticks": ""
            },
            "type": "contourcarpet"
           }
          ],
          "heatmap": [
           {
            "colorbar": {
             "outlinewidth": 0,
             "ticks": ""
            },
            "colorscale": [
             [
              0,
              "#0d0887"
             ],
             [
              0.1111111111111111,
              "#46039f"
             ],
             [
              0.2222222222222222,
              "#7201a8"
             ],
             [
              0.3333333333333333,
              "#9c179e"
             ],
             [
              0.4444444444444444,
              "#bd3786"
             ],
             [
              0.5555555555555556,
              "#d8576b"
             ],
             [
              0.6666666666666666,
              "#ed7953"
             ],
             [
              0.7777777777777778,
              "#fb9f3a"
             ],
             [
              0.8888888888888888,
              "#fdca26"
             ],
             [
              1,
              "#f0f921"
             ]
            ],
            "type": "heatmap"
           }
          ],
          "heatmapgl": [
           {
            "colorbar": {
             "outlinewidth": 0,
             "ticks": ""
            },
            "colorscale": [
             [
              0,
              "#0d0887"
             ],
             [
              0.1111111111111111,
              "#46039f"
             ],
             [
              0.2222222222222222,
              "#7201a8"
             ],
             [
              0.3333333333333333,
              "#9c179e"
             ],
             [
              0.4444444444444444,
              "#bd3786"
             ],
             [
              0.5555555555555556,
              "#d8576b"
             ],
             [
              0.6666666666666666,
              "#ed7953"
             ],
             [
              0.7777777777777778,
              "#fb9f3a"
             ],
             [
              0.8888888888888888,
              "#fdca26"
             ],
             [
              1,
              "#f0f921"
             ]
            ],
            "type": "heatmapgl"
           }
          ],
          "histogram": [
           {
            "marker": {
             "pattern": {
              "fillmode": "overlay",
              "size": 10,
              "solidity": 0.2
             }
            },
            "type": "histogram"
           }
          ],
          "histogram2d": [
           {
            "colorbar": {
             "outlinewidth": 0,
             "ticks": ""
            },
            "colorscale": [
             [
              0,
              "#0d0887"
             ],
             [
              0.1111111111111111,
              "#46039f"
             ],
             [
              0.2222222222222222,
              "#7201a8"
             ],
             [
              0.3333333333333333,
              "#9c179e"
             ],
             [
              0.4444444444444444,
              "#bd3786"
             ],
             [
              0.5555555555555556,
              "#d8576b"
             ],
             [
              0.6666666666666666,
              "#ed7953"
             ],
             [
              0.7777777777777778,
              "#fb9f3a"
             ],
             [
              0.8888888888888888,
              "#fdca26"
             ],
             [
              1,
              "#f0f921"
             ]
            ],
            "type": "histogram2d"
           }
          ],
          "histogram2dcontour": [
           {
            "colorbar": {
             "outlinewidth": 0,
             "ticks": ""
            },
            "colorscale": [
             [
              0,
              "#0d0887"
             ],
             [
              0.1111111111111111,
              "#46039f"
             ],
             [
              0.2222222222222222,
              "#7201a8"
             ],
             [
              0.3333333333333333,
              "#9c179e"
             ],
             [
              0.4444444444444444,
              "#bd3786"
             ],
             [
              0.5555555555555556,
              "#d8576b"
             ],
             [
              0.6666666666666666,
              "#ed7953"
             ],
             [
              0.7777777777777778,
              "#fb9f3a"
             ],
             [
              0.8888888888888888,
              "#fdca26"
             ],
             [
              1,
              "#f0f921"
             ]
            ],
            "type": "histogram2dcontour"
           }
          ],
          "mesh3d": [
           {
            "colorbar": {
             "outlinewidth": 0,
             "ticks": ""
            },
            "type": "mesh3d"
           }
          ],
          "parcoords": [
           {
            "line": {
             "colorbar": {
              "outlinewidth": 0,
              "ticks": ""
             }
            },
            "type": "parcoords"
           }
          ],
          "pie": [
           {
            "automargin": true,
            "type": "pie"
           }
          ],
          "scatter": [
           {
            "marker": {
             "colorbar": {
              "outlinewidth": 0,
              "ticks": ""
             }
            },
            "type": "scatter"
           }
          ],
          "scatter3d": [
           {
            "line": {
             "colorbar": {
              "outlinewidth": 0,
              "ticks": ""
             }
            },
            "marker": {
             "colorbar": {
              "outlinewidth": 0,
              "ticks": ""
             }
            },
            "type": "scatter3d"
           }
          ],
          "scattercarpet": [
           {
            "marker": {
             "colorbar": {
              "outlinewidth": 0,
              "ticks": ""
             }
            },
            "type": "scattercarpet"
           }
          ],
          "scattergeo": [
           {
            "marker": {
             "colorbar": {
              "outlinewidth": 0,
              "ticks": ""
             }
            },
            "type": "scattergeo"
           }
          ],
          "scattergl": [
           {
            "marker": {
             "colorbar": {
              "outlinewidth": 0,
              "ticks": ""
             }
            },
            "type": "scattergl"
           }
          ],
          "scattermapbox": [
           {
            "marker": {
             "colorbar": {
              "outlinewidth": 0,
              "ticks": ""
             }
            },
            "type": "scattermapbox"
           }
          ],
          "scatterpolar": [
           {
            "marker": {
             "colorbar": {
              "outlinewidth": 0,
              "ticks": ""
             }
            },
            "type": "scatterpolar"
           }
          ],
          "scatterpolargl": [
           {
            "marker": {
             "colorbar": {
              "outlinewidth": 0,
              "ticks": ""
             }
            },
            "type": "scatterpolargl"
           }
          ],
          "scatterternary": [
           {
            "marker": {
             "colorbar": {
              "outlinewidth": 0,
              "ticks": ""
             }
            },
            "type": "scatterternary"
           }
          ],
          "surface": [
           {
            "colorbar": {
             "outlinewidth": 0,
             "ticks": ""
            },
            "colorscale": [
             [
              0,
              "#0d0887"
             ],
             [
              0.1111111111111111,
              "#46039f"
             ],
             [
              0.2222222222222222,
              "#7201a8"
             ],
             [
              0.3333333333333333,
              "#9c179e"
             ],
             [
              0.4444444444444444,
              "#bd3786"
             ],
             [
              0.5555555555555556,
              "#d8576b"
             ],
             [
              0.6666666666666666,
              "#ed7953"
             ],
             [
              0.7777777777777778,
              "#fb9f3a"
             ],
             [
              0.8888888888888888,
              "#fdca26"
             ],
             [
              1,
              "#f0f921"
             ]
            ],
            "type": "surface"
           }
          ],
          "table": [
           {
            "cells": {
             "fill": {
              "color": "#EBF0F8"
             },
             "line": {
              "color": "white"
             }
            },
            "header": {
             "fill": {
              "color": "#C8D4E3"
             },
             "line": {
              "color": "white"
             }
            },
            "type": "table"
           }
          ]
         },
         "layout": {
          "annotationdefaults": {
           "arrowcolor": "#2a3f5f",
           "arrowhead": 0,
           "arrowwidth": 1
          },
          "autotypenumbers": "strict",
          "coloraxis": {
           "colorbar": {
            "outlinewidth": 0,
            "ticks": ""
           }
          },
          "colorscale": {
           "diverging": [
            [
             0,
             "#8e0152"
            ],
            [
             0.1,
             "#c51b7d"
            ],
            [
             0.2,
             "#de77ae"
            ],
            [
             0.3,
             "#f1b6da"
            ],
            [
             0.4,
             "#fde0ef"
            ],
            [
             0.5,
             "#f7f7f7"
            ],
            [
             0.6,
             "#e6f5d0"
            ],
            [
             0.7,
             "#b8e186"
            ],
            [
             0.8,
             "#7fbc41"
            ],
            [
             0.9,
             "#4d9221"
            ],
            [
             1,
             "#276419"
            ]
           ],
           "sequential": [
            [
             0,
             "#0d0887"
            ],
            [
             0.1111111111111111,
             "#46039f"
            ],
            [
             0.2222222222222222,
             "#7201a8"
            ],
            [
             0.3333333333333333,
             "#9c179e"
            ],
            [
             0.4444444444444444,
             "#bd3786"
            ],
            [
             0.5555555555555556,
             "#d8576b"
            ],
            [
             0.6666666666666666,
             "#ed7953"
            ],
            [
             0.7777777777777778,
             "#fb9f3a"
            ],
            [
             0.8888888888888888,
             "#fdca26"
            ],
            [
             1,
             "#f0f921"
            ]
           ],
           "sequentialminus": [
            [
             0,
             "#0d0887"
            ],
            [
             0.1111111111111111,
             "#46039f"
            ],
            [
             0.2222222222222222,
             "#7201a8"
            ],
            [
             0.3333333333333333,
             "#9c179e"
            ],
            [
             0.4444444444444444,
             "#bd3786"
            ],
            [
             0.5555555555555556,
             "#d8576b"
            ],
            [
             0.6666666666666666,
             "#ed7953"
            ],
            [
             0.7777777777777778,
             "#fb9f3a"
            ],
            [
             0.8888888888888888,
             "#fdca26"
            ],
            [
             1,
             "#f0f921"
            ]
           ]
          },
          "colorway": [
           "#636efa",
           "#EF553B",
           "#00cc96",
           "#ab63fa",
           "#FFA15A",
           "#19d3f3",
           "#FF6692",
           "#B6E880",
           "#FF97FF",
           "#FECB52"
          ],
          "font": {
           "color": "#2a3f5f"
          },
          "geo": {
           "bgcolor": "white",
           "lakecolor": "white",
           "landcolor": "#E5ECF6",
           "showlakes": true,
           "showland": true,
           "subunitcolor": "white"
          },
          "hoverlabel": {
           "align": "left"
          },
          "hovermode": "closest",
          "mapbox": {
           "style": "light"
          },
          "paper_bgcolor": "white",
          "plot_bgcolor": "#E5ECF6",
          "polar": {
           "angularaxis": {
            "gridcolor": "white",
            "linecolor": "white",
            "ticks": ""
           },
           "bgcolor": "#E5ECF6",
           "radialaxis": {
            "gridcolor": "white",
            "linecolor": "white",
            "ticks": ""
           }
          },
          "scene": {
           "xaxis": {
            "backgroundcolor": "#E5ECF6",
            "gridcolor": "white",
            "gridwidth": 2,
            "linecolor": "white",
            "showbackground": true,
            "ticks": "",
            "zerolinecolor": "white"
           },
           "yaxis": {
            "backgroundcolor": "#E5ECF6",
            "gridcolor": "white",
            "gridwidth": 2,
            "linecolor": "white",
            "showbackground": true,
            "ticks": "",
            "zerolinecolor": "white"
           },
           "zaxis": {
            "backgroundcolor": "#E5ECF6",
            "gridcolor": "white",
            "gridwidth": 2,
            "linecolor": "white",
            "showbackground": true,
            "ticks": "",
            "zerolinecolor": "white"
           }
          },
          "shapedefaults": {
           "line": {
            "color": "#2a3f5f"
           }
          },
          "ternary": {
           "aaxis": {
            "gridcolor": "white",
            "linecolor": "white",
            "ticks": ""
           },
           "baxis": {
            "gridcolor": "white",
            "linecolor": "white",
            "ticks": ""
           },
           "bgcolor": "#E5ECF6",
           "caxis": {
            "gridcolor": "white",
            "linecolor": "white",
            "ticks": ""
           }
          },
          "title": {
           "x": 0.05
          },
          "xaxis": {
           "automargin": true,
           "gridcolor": "white",
           "linecolor": "white",
           "ticks": "",
           "title": {
            "standoff": 15
           },
           "zerolinecolor": "white",
           "zerolinewidth": 2
          },
          "yaxis": {
           "automargin": true,
           "gridcolor": "white",
           "linecolor": "white",
           "ticks": "",
           "title": {
            "standoff": 15
           },
           "zerolinecolor": "white",
           "zerolinewidth": 2
          }
         }
        },
        "title": {
         "text": "Daily Power Consumption Forecast (7 days)"
        },
        "xaxis": {
         "title": {
          "text": "Date"
         }
        },
        "yaxis": {
         "title": {
          "text": "Kilowatts"
         }
        }
       }
      },
      "text/html": [
       "<div>                            <div id=\"663cb555-933c-417b-bac5-a0036ce72c7f\" class=\"plotly-graph-div\" style=\"height:525px; width:100%;\"></div>            <script type=\"text/javascript\">                require([\"plotly\"], function(Plotly) {                    window.PLOTLYENV=window.PLOTLYENV || {};                                    if (document.getElementById(\"663cb555-933c-417b-bac5-a0036ce72c7f\")) {                    Plotly.newPlot(                        \"663cb555-933c-417b-bac5-a0036ce72c7f\",                        [{\"marker\":{\"color\":\"#D62828\"},\"mode\":\"lines\",\"name\":\"Actual\",\"x\":[\"2010-11-01T00:00:00\",\"2010-11-02T00:00:00\",\"2010-11-03T00:00:00\",\"2010-11-04T00:00:00\",\"2010-11-05T00:00:00\",\"2010-11-06T00:00:00\",\"2010-11-07T00:00:00\",\"2010-11-08T00:00:00\",\"2010-11-09T00:00:00\",\"2010-11-10T00:00:00\",\"2010-11-11T00:00:00\",\"2010-11-12T00:00:00\",\"2010-11-13T00:00:00\",\"2010-11-14T00:00:00\",\"2010-11-15T00:00:00\",\"2010-11-16T00:00:00\",\"2010-11-17T00:00:00\",\"2010-11-18T00:00:00\",\"2010-11-19T00:00:00\",\"2010-11-20T00:00:00\",\"2010-11-21T00:00:00\",\"2010-11-22T00:00:00\",\"2010-11-23T00:00:00\",\"2010-11-24T00:00:00\",\"2010-11-25T00:00:00\",\"2010-11-26T00:00:00\"],\"y\":[1383.18,1191.082,1293.298,2555.146,1736.088,1805.408,1673.816,1825.54,2022.098,1946.534,1773.592,1836.822,2023.174,2038.392,1747.382,1509.748,1582.032,1652.152,1570.4,2197.006,900.91,2041.536,1577.536,1796.248,1431.164,1488.104],\"type\":\"scatter\"},{\"marker\":{\"color\":\"#FCBF49\"},\"mode\":\"lines\",\"name\":\"Forecast\",\"x\":[\"2010-11-26T00:00:00\",\"2010-11-27T00:00:00\",\"2010-11-28T00:00:00\",\"2010-11-29T00:00:00\",\"2010-11-30T00:00:00\",\"2010-12-01T00:00:00\",\"2010-12-02T00:00:00\",\"2010-12-03T00:00:00\"],\"y\":[1488.104,1879.879681623936,1671.9808573856358,1816.5850333819392,1670.23117250824,1737.5297413907053,1602.7080292801859,1629.3609331860546],\"type\":\"scatter\"}],                        {\"title\":{\"text\":\"Daily Power Consumption Forecast (7 days)\"},\"xaxis\":{\"title\":{\"text\":\"Date\"}},\"yaxis\":{\"title\":{\"text\":\"Kilowatts\"}},\"template\":{\"data\":{\"bar\":[{\"error_x\":{\"color\":\"#2a3f5f\"},\"error_y\":{\"color\":\"#2a3f5f\"},\"marker\":{\"line\":{\"color\":\"#E5ECF6\",\"width\":0.5},\"pattern\":{\"fillmode\":\"overlay\",\"size\":10,\"solidity\":0.2}},\"type\":\"bar\"}],\"barpolar\":[{\"marker\":{\"line\":{\"color\":\"#E5ECF6\",\"width\":0.5},\"pattern\":{\"fillmode\":\"overlay\",\"size\":10,\"solidity\":0.2}},\"type\":\"barpolar\"}],\"carpet\":[{\"aaxis\":{\"endlinecolor\":\"#2a3f5f\",\"gridcolor\":\"white\",\"linecolor\":\"white\",\"minorgridcolor\":\"white\",\"startlinecolor\":\"#2a3f5f\"},\"baxis\":{\"endlinecolor\":\"#2a3f5f\",\"gridcolor\":\"white\",\"linecolor\":\"white\",\"minorgridcolor\":\"white\",\"startlinecolor\":\"#2a3f5f\"},\"type\":\"carpet\"}],\"choropleth\":[{\"colorbar\":{\"outlinewidth\":0,\"ticks\":\"\"},\"type\":\"choropleth\"}],\"contour\":[{\"colorbar\":{\"outlinewidth\":0,\"ticks\":\"\"},\"colorscale\":[[0.0,\"#0d0887\"],[0.1111111111111111,\"#46039f\"],[0.2222222222222222,\"#7201a8\"],[0.3333333333333333,\"#9c179e\"],[0.4444444444444444,\"#bd3786\"],[0.5555555555555556,\"#d8576b\"],[0.6666666666666666,\"#ed7953\"],[0.7777777777777778,\"#fb9f3a\"],[0.8888888888888888,\"#fdca26\"],[1.0,\"#f0f921\"]],\"type\":\"contour\"}],\"contourcarpet\":[{\"colorbar\":{\"outlinewidth\":0,\"ticks\":\"\"},\"type\":\"contourcarpet\"}],\"heatmap\":[{\"colorbar\":{\"outlinewidth\":0,\"ticks\":\"\"},\"colorscale\":[[0.0,\"#0d0887\"],[0.1111111111111111,\"#46039f\"],[0.2222222222222222,\"#7201a8\"],[0.3333333333333333,\"#9c179e\"],[0.4444444444444444,\"#bd3786\"],[0.5555555555555556,\"#d8576b\"],[0.6666666666666666,\"#ed7953\"],[0.7777777777777778,\"#fb9f3a\"],[0.8888888888888888,\"#fdca26\"],[1.0,\"#f0f921\"]],\"type\":\"heatmap\"}],\"heatmapgl\":[{\"colorbar\":{\"outlinewidth\":0,\"ticks\":\"\"},\"colorscale\":[[0.0,\"#0d0887\"],[0.1111111111111111,\"#46039f\"],[0.2222222222222222,\"#7201a8\"],[0.3333333333333333,\"#9c179e\"],[0.4444444444444444,\"#bd3786\"],[0.5555555555555556,\"#d8576b\"],[0.6666666666666666,\"#ed7953\"],[0.7777777777777778,\"#fb9f3a\"],[0.8888888888888888,\"#fdca26\"],[1.0,\"#f0f921\"]],\"type\":\"heatmapgl\"}],\"histogram\":[{\"marker\":{\"pattern\":{\"fillmode\":\"overlay\",\"size\":10,\"solidity\":0.2}},\"type\":\"histogram\"}],\"histogram2d\":[{\"colorbar\":{\"outlinewidth\":0,\"ticks\":\"\"},\"colorscale\":[[0.0,\"#0d0887\"],[0.1111111111111111,\"#46039f\"],[0.2222222222222222,\"#7201a8\"],[0.3333333333333333,\"#9c179e\"],[0.4444444444444444,\"#bd3786\"],[0.5555555555555556,\"#d8576b\"],[0.6666666666666666,\"#ed7953\"],[0.7777777777777778,\"#fb9f3a\"],[0.8888888888888888,\"#fdca26\"],[1.0,\"#f0f921\"]],\"type\":\"histogram2d\"}],\"histogram2dcontour\":[{\"colorbar\":{\"outlinewidth\":0,\"ticks\":\"\"},\"colorscale\":[[0.0,\"#0d0887\"],[0.1111111111111111,\"#46039f\"],[0.2222222222222222,\"#7201a8\"],[0.3333333333333333,\"#9c179e\"],[0.4444444444444444,\"#bd3786\"],[0.5555555555555556,\"#d8576b\"],[0.6666666666666666,\"#ed7953\"],[0.7777777777777778,\"#fb9f3a\"],[0.8888888888888888,\"#fdca26\"],[1.0,\"#f0f921\"]],\"type\":\"histogram2dcontour\"}],\"mesh3d\":[{\"colorbar\":{\"outlinewidth\":0,\"ticks\":\"\"},\"type\":\"mesh3d\"}],\"parcoords\":[{\"line\":{\"colorbar\":{\"outlinewidth\":0,\"ticks\":\"\"}},\"type\":\"parcoords\"}],\"pie\":[{\"automargin\":true,\"type\":\"pie\"}],\"scatter\":[{\"marker\":{\"colorbar\":{\"outlinewidth\":0,\"ticks\":\"\"}},\"type\":\"scatter\"}],\"scatter3d\":[{\"line\":{\"colorbar\":{\"outlinewidth\":0,\"ticks\":\"\"}},\"marker\":{\"colorbar\":{\"outlinewidth\":0,\"ticks\":\"\"}},\"type\":\"scatter3d\"}],\"scattercarpet\":[{\"marker\":{\"colorbar\":{\"outlinewidth\":0,\"ticks\":\"\"}},\"type\":\"scattercarpet\"}],\"scattergeo\":[{\"marker\":{\"colorbar\":{\"outlinewidth\":0,\"ticks\":\"\"}},\"type\":\"scattergeo\"}],\"scattergl\":[{\"marker\":{\"colorbar\":{\"outlinewidth\":0,\"ticks\":\"\"}},\"type\":\"scattergl\"}],\"scattermapbox\":[{\"marker\":{\"colorbar\":{\"outlinewidth\":0,\"ticks\":\"\"}},\"type\":\"scattermapbox\"}],\"scatterpolar\":[{\"marker\":{\"colorbar\":{\"outlinewidth\":0,\"ticks\":\"\"}},\"type\":\"scatterpolar\"}],\"scatterpolargl\":[{\"marker\":{\"colorbar\":{\"outlinewidth\":0,\"ticks\":\"\"}},\"type\":\"scatterpolargl\"}],\"scatterternary\":[{\"marker\":{\"colorbar\":{\"outlinewidth\":0,\"ticks\":\"\"}},\"type\":\"scatterternary\"}],\"surface\":[{\"colorbar\":{\"outlinewidth\":0,\"ticks\":\"\"},\"colorscale\":[[0.0,\"#0d0887\"],[0.1111111111111111,\"#46039f\"],[0.2222222222222222,\"#7201a8\"],[0.3333333333333333,\"#9c179e\"],[0.4444444444444444,\"#bd3786\"],[0.5555555555555556,\"#d8576b\"],[0.6666666666666666,\"#ed7953\"],[0.7777777777777778,\"#fb9f3a\"],[0.8888888888888888,\"#fdca26\"],[1.0,\"#f0f921\"]],\"type\":\"surface\"}],\"table\":[{\"cells\":{\"fill\":{\"color\":\"#EBF0F8\"},\"line\":{\"color\":\"white\"}},\"header\":{\"fill\":{\"color\":\"#C8D4E3\"},\"line\":{\"color\":\"white\"}},\"type\":\"table\"}]},\"layout\":{\"annotationdefaults\":{\"arrowcolor\":\"#2a3f5f\",\"arrowhead\":0,\"arrowwidth\":1},\"autotypenumbers\":\"strict\",\"coloraxis\":{\"colorbar\":{\"outlinewidth\":0,\"ticks\":\"\"}},\"colorscale\":{\"diverging\":[[0,\"#8e0152\"],[0.1,\"#c51b7d\"],[0.2,\"#de77ae\"],[0.3,\"#f1b6da\"],[0.4,\"#fde0ef\"],[0.5,\"#f7f7f7\"],[0.6,\"#e6f5d0\"],[0.7,\"#b8e186\"],[0.8,\"#7fbc41\"],[0.9,\"#4d9221\"],[1,\"#276419\"]],\"sequential\":[[0.0,\"#0d0887\"],[0.1111111111111111,\"#46039f\"],[0.2222222222222222,\"#7201a8\"],[0.3333333333333333,\"#9c179e\"],[0.4444444444444444,\"#bd3786\"],[0.5555555555555556,\"#d8576b\"],[0.6666666666666666,\"#ed7953\"],[0.7777777777777778,\"#fb9f3a\"],[0.8888888888888888,\"#fdca26\"],[1.0,\"#f0f921\"]],\"sequentialminus\":[[0.0,\"#0d0887\"],[0.1111111111111111,\"#46039f\"],[0.2222222222222222,\"#7201a8\"],[0.3333333333333333,\"#9c179e\"],[0.4444444444444444,\"#bd3786\"],[0.5555555555555556,\"#d8576b\"],[0.6666666666666666,\"#ed7953\"],[0.7777777777777778,\"#fb9f3a\"],[0.8888888888888888,\"#fdca26\"],[1.0,\"#f0f921\"]]},\"colorway\":[\"#636efa\",\"#EF553B\",\"#00cc96\",\"#ab63fa\",\"#FFA15A\",\"#19d3f3\",\"#FF6692\",\"#B6E880\",\"#FF97FF\",\"#FECB52\"],\"font\":{\"color\":\"#2a3f5f\"},\"geo\":{\"bgcolor\":\"white\",\"lakecolor\":\"white\",\"landcolor\":\"#E5ECF6\",\"showlakes\":true,\"showland\":true,\"subunitcolor\":\"white\"},\"hoverlabel\":{\"align\":\"left\"},\"hovermode\":\"closest\",\"mapbox\":{\"style\":\"light\"},\"paper_bgcolor\":\"white\",\"plot_bgcolor\":\"#E5ECF6\",\"polar\":{\"angularaxis\":{\"gridcolor\":\"white\",\"linecolor\":\"white\",\"ticks\":\"\"},\"bgcolor\":\"#E5ECF6\",\"radialaxis\":{\"gridcolor\":\"white\",\"linecolor\":\"white\",\"ticks\":\"\"}},\"scene\":{\"xaxis\":{\"backgroundcolor\":\"#E5ECF6\",\"gridcolor\":\"white\",\"gridwidth\":2,\"linecolor\":\"white\",\"showbackground\":true,\"ticks\":\"\",\"zerolinecolor\":\"white\"},\"yaxis\":{\"backgroundcolor\":\"#E5ECF6\",\"gridcolor\":\"white\",\"gridwidth\":2,\"linecolor\":\"white\",\"showbackground\":true,\"ticks\":\"\",\"zerolinecolor\":\"white\"},\"zaxis\":{\"backgroundcolor\":\"#E5ECF6\",\"gridcolor\":\"white\",\"gridwidth\":2,\"linecolor\":\"white\",\"showbackground\":true,\"ticks\":\"\",\"zerolinecolor\":\"white\"}},\"shapedefaults\":{\"line\":{\"color\":\"#2a3f5f\"}},\"ternary\":{\"aaxis\":{\"gridcolor\":\"white\",\"linecolor\":\"white\",\"ticks\":\"\"},\"baxis\":{\"gridcolor\":\"white\",\"linecolor\":\"white\",\"ticks\":\"\"},\"bgcolor\":\"#E5ECF6\",\"caxis\":{\"gridcolor\":\"white\",\"linecolor\":\"white\",\"ticks\":\"\"}},\"title\":{\"x\":0.05},\"xaxis\":{\"automargin\":true,\"gridcolor\":\"white\",\"linecolor\":\"white\",\"ticks\":\"\",\"title\":{\"standoff\":15},\"zerolinecolor\":\"white\",\"zerolinewidth\":2},\"yaxis\":{\"automargin\":true,\"gridcolor\":\"white\",\"linecolor\":\"white\",\"ticks\":\"\",\"title\":{\"standoff\":15},\"zerolinecolor\":\"white\",\"zerolinewidth\":2}}}},                        {\"responsive\": true}                    ).then(function(){\n",
       "                            \n",
       "var gd = document.getElementById('663cb555-933c-417b-bac5-a0036ce72c7f');\n",
       "var x = new MutationObserver(function (mutations, observer) {{\n",
       "        var display = window.getComputedStyle(gd).display;\n",
       "        if (!display || display === 'none') {{\n",
       "            console.log([gd, 'removed!']);\n",
       "            Plotly.purge(gd);\n",
       "            observer.disconnect();\n",
       "        }}\n",
       "}});\n",
       "\n",
       "// Listen for the removal of the full notebook cells\n",
       "var notebookContainer = gd.closest('#notebook-container');\n",
       "if (notebookContainer) {{\n",
       "    x.observe(notebookContainer, {childList: true});\n",
       "}}\n",
       "\n",
       "// Listen for the clearing of the current output cell\n",
       "var outputEl = gd.closest('.output');\n",
       "if (outputEl) {{\n",
       "    x.observe(outputEl, {childList: true});\n",
       "}}\n",
       "\n",
       "                        })                };                });            </script>        </div>"
      ]
     },
     "metadata": {},
     "output_type": "display_data"
    }
   ],
   "source": [
    "trace1 = go.Scatter(\n",
    "    x = df_2010.index,\n",
    "    y = actual,\n",
    "    mode = 'lines',\n",
    "    name = 'Actual',\n",
    "    marker_color = '#D62828'\n",
    ")\n",
    "trace2 = go.Scatter(\n",
    "    x = forecast_dates,\n",
    "    y = forecast_inv,\n",
    "    mode = 'lines',\n",
    "    name = 'Forecast',\n",
    "    marker_color = '#FCBF49'\n",
    ")\n",
    "\n",
    "layout = go.Layout(\n",
    "    title = \"Daily Power Consumption Forecast (7 days)\",\n",
    "    xaxis = {'title' : \"Date\"},\n",
    "    yaxis = {'title' : \"Kilowatts\"}\n",
    ")\n",
    "fig = go.Figure(data=[trace1, trace2], layout=layout)\n",
    "fig.show()"
   ]
  },
  {
   "cell_type": "markdown",
   "id": "4b60ef31",
   "metadata": {},
   "source": [
    "This notebook demonstrated how to use LSTM with univariate time series data. As an extension, feature extraction can also be used to improve performance. Details such as day of the week, weekday vs weekend, holidays, etc might help improve forecast values."
   ]
  }
 ],
 "metadata": {
  "kernelspec": {
   "display_name": "Python 3 (ipykernel)",
   "language": "python",
   "name": "python3"
  },
  "language_info": {
   "codemirror_mode": {
    "name": "ipython",
    "version": 3
   },
   "file_extension": ".py",
   "mimetype": "text/x-python",
   "name": "python",
   "nbconvert_exporter": "python",
   "pygments_lexer": "ipython3",
   "version": "3.9.7"
  },
  "toc": {
   "base_numbering": 1,
   "nav_menu": {},
   "number_sections": true,
   "sideBar": true,
   "skip_h1_title": false,
   "title_cell": "Table of Contents",
   "title_sidebar": "Contents",
   "toc_cell": false,
   "toc_position": {},
   "toc_section_display": true,
   "toc_window_display": false
  }
 },
 "nbformat": 4,
 "nbformat_minor": 5
}
